{
  "nbformat": 4,
  "nbformat_minor": 0,
  "metadata": {
    "colab": {
      "provenance": []
    },
    "kernelspec": {
      "name": "python3",
      "display_name": "Python 3"
    },
    "language_info": {
      "name": "python"
    }
  },
  "cells": [
    {
      "cell_type": "markdown",
      "source": [
        "# 상수"
      ],
      "metadata": {
        "id": "sN7fQWnwe6FQ"
      }
    },
    {
      "cell_type": "code",
      "source": [
        "# 대부분 모든 변수의 알파벳이 대문자면 상수로 여기고 잘 수정하지 않습니다.\n",
        "# 그런데 잘 수정하지 않을 뿐이지 수정은 되죠!?\n",
        "# 상수를 보호할 수 있는 보호 장치가 다른 언어보다 미흡한 것은 사실입니다.\n",
        "# 이런 상수를 만들 수 있는 여러가지 기법들이 존재합니다.\n",
        "\n",
        "PI = 3.14"
      ],
      "metadata": {
        "id": "xHv_mGEveNVI"
      },
      "execution_count": null,
      "outputs": []
    },
    {
      "cell_type": "code",
      "source": [
        "from enum import Enum\n",
        "\n",
        "class Color(Enum):\n",
        "    RED = 1\n",
        "    GREEN = 2\n",
        "    BLUE = 3\n",
        "\n",
        "print(Color.RED)\n",
        "\n",
        "for color in Color:\n",
        "    print(color)"
      ],
      "metadata": {
        "colab": {
          "base_uri": "https://localhost:8080/"
        },
        "id": "1BOMY9Lce5YE",
        "outputId": "4ec0b832-8674-4849-d463-8c18c152ce77"
      },
      "execution_count": null,
      "outputs": [
        {
          "output_type": "stream",
          "name": "stdout",
          "text": [
            "Color.RED\n",
            "Color.RED\n",
            "Color.GREEN\n",
            "Color.BLUE\n"
          ]
        }
      ]
    },
    {
      "cell_type": "code",
      "source": [
        "# 기능적으로는 수정이 되어 버립니다!\n",
        "color.RED = 100"
      ],
      "metadata": {
        "id": "02d3RpALfGou"
      },
      "execution_count": null,
      "outputs": []
    },
    {
      "cell_type": "code",
      "source": [
        "color.RED"
      ],
      "metadata": {
        "colab": {
          "base_uri": "https://localhost:8080/"
        },
        "id": "r8SQk5qMfJdF",
        "outputId": "b4e499ae-1167-4ca2-9335-e8bb5f183689"
      },
      "execution_count": null,
      "outputs": [
        {
          "output_type": "execute_result",
          "data": {
            "text/plain": [
              "100"
            ]
          },
          "metadata": {},
          "execution_count": 3
        }
      ]
    },
    {
      "cell_type": "code",
      "source": [
        "# 클로저라는 기법을 사용하면 변수를 숨길 수 있어요.\n",
        "# factory 함수라고도 합니다.\n",
        "\n",
        "# 클로저는 함수가 끝난 뒤에 휘발되어야 하는 영역에\n",
        "# 함수가 끝난 뒤에도 접근할 수 있도록 하는 기술\n",
        "# x가 휘발되지 않으려면 어딘가에서 x를 사용하고 있기만 하면 됩니다.\n",
        "\n",
        "##############################\n",
        "def f(x):\n",
        "    def ff(y):\n",
        "        return y ** x\n",
        "    return ff\n",
        "\n",
        "aa = f(3)\n",
        "##############################\n",
        "\n",
        "# 위 코드는 아래 코드와 같은 결과를 낳게 됩니다.\n",
        "def aa(y):\n",
        "    return y ** 3"
      ],
      "metadata": {
        "id": "8-b7f7NofZmH"
      },
      "execution_count": null,
      "outputs": []
    },
    {
      "cell_type": "code",
      "source": [
        "# 위 코드는 아래 코드와 같은 결과를 낳게 됩니다.\n",
        "def aa(y):\n",
        "    return y ** 3\n",
        "\n",
        "aa(2)"
      ],
      "metadata": {
        "colab": {
          "base_uri": "https://localhost:8080/"
        },
        "id": "r4ZHP2hJgy0D",
        "outputId": "b7900ac9-949c-4cbb-9b81-5fcbdb88dc9b"
      },
      "execution_count": null,
      "outputs": [
        {
          "output_type": "execute_result",
          "data": {
            "text/plain": [
              "8"
            ]
          },
          "metadata": {},
          "execution_count": 4
        }
      ]
    },
    {
      "cell_type": "code",
      "source": [
        "def f(x):\n",
        "    def ff(y):\n",
        "        return y ** x\n",
        "    return ff\n",
        "\n",
        "aa = f(3)\n",
        "aa(2) # 여기 이후로는 x에 접근이 불가능합니다."
      ],
      "metadata": {
        "colab": {
          "base_uri": "https://localhost:8080/"
        },
        "id": "ngXwp0Z2g3vV",
        "outputId": "14de7891-2850-4af3-ed1d-b7d2e691f60e"
      },
      "execution_count": null,
      "outputs": [
        {
          "output_type": "execute_result",
          "data": {
            "text/plain": [
              "8"
            ]
          },
          "metadata": {},
          "execution_count": 5
        }
      ]
    },
    {
      "cell_type": "markdown",
      "source": [
        "# 모듈과 패키지"
      ],
      "metadata": {
        "id": "6e0xVZrehfZa"
      }
    },
    {
      "cell_type": "code",
      "source": [
        "import hojun # 내 폴더에서 먼저 hojun.py를 찾습니다!\n",
        "\n",
        "hojun.age\n",
        "hojun.name\n",
        "hojun.add(3, 4)\n",
        "\n",
        "'''\n",
        "# hojun.py 파일 내용\n",
        "name = 'hojun'\n",
        "age = 10\n",
        "\n",
        "def add(x, y):\n",
        "    return x + y\n",
        "\n",
        "def mul(x, y):\n",
        "    return x * y\n",
        "'''\n",
        "\n",
        "# print(dir(hojun))\n",
        "# print(type(hojun)) # <class 'module'>"
      ],
      "metadata": {
        "colab": {
          "base_uri": "https://localhost:8080/"
        },
        "id": "Mm7YuD3rhjzo",
        "outputId": "7be29b09-17a8-47e1-f563-1773202ba6e7"
      },
      "execution_count": null,
      "outputs": [
        {
          "output_type": "execute_result",
          "data": {
            "text/plain": [
              "7"
            ]
          },
          "metadata": {},
          "execution_count": 11
        }
      ]
    },
    {
      "cell_type": "code",
      "source": [
        "import hojun as h # 내 폴더에서 먼저 hojun.py를 찾습니다!\n",
        "\n",
        "print(h.age)\n",
        "print(h.name)\n",
        "print(h.add(3, 4))"
      ],
      "metadata": {
        "colab": {
          "base_uri": "https://localhost:8080/",
          "height": 109
        },
        "id": "iFTSweoxjJXK",
        "outputId": "6f3693d0-6e68-4ad7-d10d-ecad041ad6b1"
      },
      "execution_count": null,
      "outputs": [
        {
          "output_type": "stream",
          "name": "stdout",
          "text": [
            "10\n",
            "hojun\n",
            "7\n"
          ]
        },
        {
          "output_type": "execute_result",
          "data": {
            "text/plain": [
              "\"\\n# hojun.py 파일 내용\\nname = 'hojun'\\nage = 10\\n\\ndef add(x, y):\\n    return x + y\\n\\ndef mul(x, y):\\n    return x * y\\n\""
            ],
            "application/vnd.google.colaboratory.intrinsic+json": {
              "type": "string"
            }
          },
          "metadata": {},
          "execution_count": 13
        }
      ]
    },
    {
      "cell_type": "code",
      "source": [
        "from hojun import age, name, add\n",
        "\n",
        "print(age)\n",
        "print(name)\n",
        "print(add(3, 4))"
      ],
      "metadata": {
        "colab": {
          "base_uri": "https://localhost:8080/"
        },
        "id": "oGzb50gJj3BU",
        "outputId": "9b24432b-6146-4087-d721-50c7d08d1a4c"
      },
      "execution_count": null,
      "outputs": [
        {
          "output_type": "stream",
          "name": "stdout",
          "text": [
            "10\n",
            "hojun\n",
            "7\n"
          ]
        }
      ]
    },
    {
      "cell_type": "code",
      "source": [
        "# 위 코드는 이럴 때에는 문제가 생깁니다.\n",
        "# 이 코드는 실행이 되지 않습니다. nayung.py 파일이 없습니다.\n",
        "from hojun import age, name, add\n",
        "from nayung import age, name, add\n",
        "\n",
        "print(age)\n",
        "print(name)\n",
        "print(add(3, 4))"
      ],
      "metadata": {
        "colab": {
          "base_uri": "https://localhost:8080/"
        },
        "id": "6_pZ5zxrkFkF",
        "outputId": "669f1659-81bd-47c6-f4dd-95789e6b32a5"
      },
      "execution_count": null,
      "outputs": [
        {
          "output_type": "stream",
          "name": "stdout",
          "text": [
            "5\n",
            "nayung\n",
            "7\n"
          ]
        }
      ]
    },
    {
      "cell_type": "code",
      "source": [
        "# 위와 같은 문제가 있기 때문에\n",
        "# 아래와 같이 import 또는 import + as를 권장합니다.\n",
        "\n",
        "import hojun as h # 내 폴더에서 먼저 hojun.py를 찾습니다!\n",
        "import nayung as n # 내 폴더에서 먼저 nayung.py를 찾습니다!\n",
        "\n",
        "print(h.age)\n",
        "print(h.name)\n",
        "print(h.add(3, 4))\n",
        "\n",
        "print(n.age)\n",
        "print(n.name)\n",
        "print(n.add(3, 4))"
      ],
      "metadata": {
        "id": "bWeitrLKjfsN"
      },
      "execution_count": null,
      "outputs": []
    },
    {
      "cell_type": "markdown",
      "source": [
        "## 문제 1: 수학 모듈 만들기\n",
        "\n",
        "**문제 설명:**\n",
        "수학 연산을 수행하는 `math_tools.py` 모듈을 만들고, 이를 불러와 사용하는 프로그램을 작성하세요.\n",
        "\n",
        "**요구사항:**\n",
        "1. `math_tools.py` 파일을 만들고 다음 항목을 구현하세요.\n",
        "   - `pi` 변수: 3.14159 값을 저장\n",
        "   - `e` 변수: 2.71828 값을 저장\n",
        "   - `square(x)` 함수: 숫자의 제곱을 반환\n",
        "   - `cube(x)` 함수: 숫자의 세제곱을 반환\n",
        "   - `factorial(n)` 함수: n의 팩토리얼(n!)을 계산하여 반환\n",
        "\n",
        "2. 각 import 방식에 따라 pi 값을 출력하고, 숫자 5의 제곱을 계산하여 출력하세요.\n",
        "\n",
        "**예상 결과:**\n",
        "```\n",
        "전체 import 방식으로 사용:\n",
        "Pi: 3.14159\n",
        "5의 제곱: 25\n",
        "\n",
        "별칭(as)으로 import하여 사용:\n",
        "Pi: 3.14159\n",
        "5의 제곱: 25\n",
        "\n",
        "특정 항목만 import하여 사용:\n",
        "Pi: 3.14159\n",
        "5의 제곱: 25\n",
        "```\n",
        "\n",
        "## 문제 2: 학생 정보 관리 모듈 만들기\n",
        "\n",
        "**문제 설명:**\n",
        "학생들의 정보를 관리하는 `student_info.py` 모듈을 만들고, 이를 활용하여 학생들의 정보를 출력하는 프로그램을 작성하세요.\n",
        "\n",
        "**요구사항:**\n",
        "1. `student_info.py` 파일을 만들고 다음 항목을 구현하세요:\n",
        "   - `school_name` 변수: 학교 이름 (예: \"파이썬 고등학교\")\n",
        "   - `students` 리스트: 학생들의 이름을 담은 리스트 (최소 3명)\n",
        "   - `get_student_info(name)` 함수: 학생 이름이 주어지면 \"{이름}은/는 {학교이름}의 학생입니다.\"라는 문자열 반환\n",
        "   - `count_students()` 함수: 학생 수를 반환\n",
        "\n",
        "2. 두 가지 import 방식을 모두 사용하여\n",
        "   - 학교 이름 출력\n",
        "   - 첫 번째 학생의 정보 출력 (두 가지 import 방식 모두 사용)\n",
        "   - 전체 학생 수 출력 (별칭을 사용한 import 방식으로만)\n",
        "\n",
        "**예상 결과:**\n",
        "```\n",
        "[별칭 import 방식]\n",
        "학교 이름: 파이썬 고등학교\n",
        "첫 번째 학생 정보: 홍길동은/는 파이썬 고등학교의 학생입니다.\n",
        "전체 학생 수: 3\n",
        "\n",
        "[특정 항목 import 방식]\n",
        "학교 이름: 파이썬 고등학교\n",
        "첫 번째 학생 정보: 홍길동은/는 파이썬 고등학교의 학생입니다.\n",
        "```"
      ],
      "metadata": {
        "id": "d-gjPZnRlr8b"
      }
    },
    {
      "cell_type": "code",
      "source": [
        "# math_tools.py\n",
        "pi = 3.14159\n",
        "e = 2.71828\n",
        "\n",
        "def square(x):\n",
        "    return x ** 2\n",
        "\n",
        "def cube(x):\n",
        "    return x ** 3\n",
        "\n",
        "def factorial(n):\n",
        "    result = 1\n",
        "    for i in range(1, n+1):\n",
        "        result *= i\n",
        "    return result"
      ],
      "metadata": {
        "id": "y_xTPsKdmGDB"
      },
      "execution_count": null,
      "outputs": []
    },
    {
      "cell_type": "code",
      "source": [
        "import math_tools\n",
        "\n",
        "print(math_tools.pi)\n",
        "\n",
        "import math_tools as mt\n",
        "\n",
        "print(mt.pi)\n",
        "\n",
        "from math_tools import pi\n",
        "\n",
        "print(pi)"
      ],
      "metadata": {
        "colab": {
          "base_uri": "https://localhost:8080/"
        },
        "id": "ZNq9dDQMva-A",
        "outputId": "b5d89d3d-1df3-4043-ef35-93fcda0a528a"
      },
      "execution_count": null,
      "outputs": [
        {
          "output_type": "stream",
          "name": "stdout",
          "text": [
            "3.14159\n",
            "3.14159\n",
            "3.14159\n"
          ]
        }
      ]
    },
    {
      "cell_type": "code",
      "source": [
        "# student_info.py\n",
        "\n",
        "school_name = \"파이썬 고등학교\"\n",
        "students = [\"홍길동\", \"김철수\", \"이영희\"]\n",
        "\n",
        "def get_student_info(name):\n",
        "    return f\"{name}은/는 {school_name}의 학생입니다.\"\n",
        "\n",
        "def count_students():\n",
        "    return len(students)"
      ],
      "metadata": {
        "id": "VDZ7BD3mvpFq"
      },
      "execution_count": null,
      "outputs": []
    },
    {
      "cell_type": "code",
      "source": [
        "# 학교 이름 출력\n",
        "# 첫 번째 학생의 정보 출력 (두 가지 import 방식 모두 사용)\n",
        "# 전체 학생 수 출력 (별칭을 사용한 import 방식으로만)\n",
        "\n",
        "import student_info\n",
        "\n",
        "print(student_info.school_name)\n",
        "print(student_info.get_student_info(student_info.students[0]))\n",
        "\n",
        "import student_info as si\n",
        "\n",
        "print(si.school_name)\n",
        "print(si.get_student_info(si.students[0]))"
      ],
      "metadata": {
        "colab": {
          "base_uri": "https://localhost:8080/"
        },
        "id": "7C4rC1Bvv_9I",
        "outputId": "f83383ed-fde6-4e82-e744-a96455ef99bc"
      },
      "execution_count": null,
      "outputs": [
        {
          "output_type": "stream",
          "name": "stdout",
          "text": [
            "파이썬 고등학교\n",
            "홍길동은/는 파이썬 고등학교의 학생입니다.\n",
            "파이썬 고등학교\n",
            "홍길동은/는 파이썬 고등학교의 학생입니다.\n"
          ]
        }
      ]
    },
    {
      "cell_type": "code",
      "source": [
        "# 모듈을 읽는 순서\n",
        "# 1. 해당 메모리에 해당 모듈이 있는지 확인합니다.\n",
        "# 2. 해당 파일 폴더에 해당 .py파일이나 폴더가 있는지 확인합니다.\n",
        "# 3. 파이썬이 설치된 곳으로 이동해서 모듈을 찾습니다.\n",
        "# 4. 이렇게 해서 못찾을 경우 애러를 반환합니다.\n",
        "\n",
        "from a.b.c import hojun # a폴더 아래 b폴더 아래 c 폴더 아래\n",
        "\n",
        "hojun.age"
      ],
      "metadata": {
        "colab": {
          "base_uri": "https://localhost:8080/"
        },
        "id": "6RdexYqawgGI",
        "outputId": "ea316341-a271-43c6-b0e9-4024107f7ef6"
      },
      "execution_count": null,
      "outputs": [
        {
          "output_type": "execute_result",
          "data": {
            "text/plain": [
              "10"
            ]
          },
          "metadata": {},
          "execution_count": 19
        }
      ]
    },
    {
      "cell_type": "code",
      "source": [
        "from a.b.c.hojun import age\n",
        "\n",
        "print(age)"
      ],
      "metadata": {
        "colab": {
          "base_uri": "https://localhost:8080/"
        },
        "id": "KDjTWDJ9zdEX",
        "outputId": "2cd5b79e-8aee-4308-8dfb-47f125a107d4"
      },
      "execution_count": null,
      "outputs": [
        {
          "output_type": "stream",
          "name": "stdout",
          "text": [
            "10\n"
          ]
        }
      ]
    },
    {
      "cell_type": "code",
      "source": [
        "import os\n",
        "\n",
        "# 정말 많이 사용되지만\n",
        "# 문제가 있습니다! Mac, Linux, Window를 혼용 사용하시는 분들은\n",
        "# 주의하실 필요가 있습니다.\n",
        "# 경로 생성에서 구분자가 잘못들어가는 이슈가 있어서 뒤에서 배울 Django에서는\n",
        "# 3.x에서 os 모듈이 빠졌습니다.\n",
        "# 대신 pathlib 모듈이 들어갔습니다.\n",
        "# Django 외에 다른 곳에서는 잘 빼지 않습니다.\n",
        "\n",
        "os.mkdir('licat') # licat이란 폴더 생성, 삭제는 os.rmdir()\n",
        "print(os.path.join('hello', 'world')) # 경로를 합쳐줍니다.\n",
        "print(os.listdir()) # 현재 디렉토리의 파일 목록을 반환합니다."
      ],
      "metadata": {
        "colab": {
          "base_uri": "https://localhost:8080/"
        },
        "id": "dTuwsjnN0O6i",
        "outputId": "cb0f7a47-e309-4b8c-954a-73334cb6c331"
      },
      "execution_count": null,
      "outputs": [
        {
          "output_type": "stream",
          "name": "stdout",
          "text": [
            "hello/world\n",
            "['.config', 'nayung.py', 'student_info.py', '.ipynb_checkpoints', 'math_tools.py', 'a', 'licat', '__pycache__', 'sample_data']\n"
          ]
        }
      ]
    },
    {
      "cell_type": "code",
      "source": [
        "from pathlib import Path as p\n",
        "\n",
        "p.cwd() # 현재 경로 확인\n",
        "pwd = p.cwd()\n",
        "pwd / 'hello' / 'world' # /로 경로 결합\n",
        "\n",
        "print(pwd / 'hello100' / 'world100' / 'hello200') # 이런 코드는 우리가 뒤에 Django도 많이 볼 코드에요."
      ],
      "metadata": {
        "colab": {
          "base_uri": "https://localhost:8080/"
        },
        "id": "P7scRpZh5z3u",
        "outputId": "e5f87a78-95ba-42e2-9269-2ad97b008358"
      },
      "execution_count": null,
      "outputs": [
        {
          "output_type": "stream",
          "name": "stdout",
          "text": [
            "/content/hello100/world100/hello200\n"
          ]
        }
      ]
    },
    {
      "cell_type": "code",
      "source": [
        "# pwd 인스턴스 입장에서 /는 __truediv__가 호출이 되는 것입니다!\n",
        "# 여기서 나누기를 하지 않고 경로를 결합해주는 코드가 작성이 되어있는 것입니다.\n",
        "\n",
        "# 1. '/' (일반 나눗셈): `__truediv__` 매직 메서드가 처리합니다.\n",
        "#    - 결과는 실수(float)를 반환합니다.\n",
        "#    - 예: `5 / 2 = 2.5`\n",
        "\n",
        "# 2. '//' (정수 나눗셈): `__floordiv__` 매직 메서드가 처리합니다.\n",
        "#    - 결과는 몫만 반환하고, 소수점 이하를 버립니다.\n",
        "#    - 예: `5 // 2 = 2`"
      ],
      "metadata": {
        "id": "Bqsv7Ddy6LUS"
      },
      "execution_count": null,
      "outputs": []
    },
    {
      "cell_type": "code",
      "source": [
        "from datetime import datetime\n",
        "\n",
        "datetime.today()"
      ],
      "metadata": {
        "colab": {
          "base_uri": "https://localhost:8080/"
        },
        "id": "l_PWD5a56yhG",
        "outputId": "5fa972bd-335c-4c5f-cf8e-a57d24b1741b"
      },
      "execution_count": null,
      "outputs": [
        {
          "output_type": "execute_result",
          "data": {
            "text/plain": [
              "datetime.datetime(2025, 5, 15, 3, 10, 46, 640244)"
            ]
          },
          "metadata": {},
          "execution_count": 27
        }
      ]
    },
    {
      "cell_type": "code",
      "source": [
        "today = datetime.today()\n",
        "\n",
        "today.year\n",
        "today.month\n",
        "today.day\n",
        "today.hour"
      ],
      "metadata": {
        "colab": {
          "base_uri": "https://localhost:8080/"
        },
        "id": "wks5uhgJ7kJX",
        "outputId": "f103fc00-ce13-47ca-d79e-07c243188b24"
      },
      "execution_count": null,
      "outputs": [
        {
          "output_type": "execute_result",
          "data": {
            "text/plain": [
              "3"
            ]
          },
          "metadata": {},
          "execution_count": 34
        }
      ]
    },
    {
      "cell_type": "code",
      "source": [
        "import datetime\n",
        "\n",
        "today = datetime.date.today()\n",
        "days = datetime.timedelta(days=100)\n",
        "today + days # 100일 후 시간"
      ],
      "metadata": {
        "colab": {
          "base_uri": "https://localhost:8080/"
        },
        "id": "7xqBWlZc8VCa",
        "outputId": "e4d6ca89-69cb-406b-e1d1-94ddc3affb71"
      },
      "execution_count": null,
      "outputs": [
        {
          "output_type": "execute_result",
          "data": {
            "text/plain": [
              "datetime.date(2025, 8, 23)"
            ]
          },
          "metadata": {},
          "execution_count": 37
        }
      ]
    },
    {
      "cell_type": "code",
      "source": [
        "import datetime\n",
        "\n",
        "date = '2024-12-10'\n",
        "date = datetime.datetime.strptime(date, '%Y-%m-%d')\n",
        "print(date)\n",
        "\n",
        "# https://docs.python.org/ko/3/library/datetime.html#strftime-and-strptime-format-codes"
      ],
      "metadata": {
        "colab": {
          "base_uri": "https://localhost:8080/"
        },
        "id": "qD69wuKY8u7L",
        "outputId": "e0af4f37-832d-430b-e091-a395b6f3f2d2"
      },
      "execution_count": null,
      "outputs": [
        {
          "output_type": "stream",
          "name": "stdout",
          "text": [
            "2024-12-10 00:00:00\n"
          ]
        }
      ]
    },
    {
      "cell_type": "code",
      "source": [
        "import json\n",
        "\n",
        "d = {\n",
        "    'one': 1,\n",
        "    'two': 2,\n",
        "    'three': 3\n",
        "}\n",
        "\n",
        "# s = json.dumps(d)\n",
        "# print(type(s)) # str\n",
        "# d = json.loads(s)\n",
        "# print(type(d)) # dict\n",
        "\n",
        "# str(d)\n",
        "# json.dumps(d) # 안전하고, 견고하게 바꿔줘요."
      ],
      "metadata": {
        "colab": {
          "base_uri": "https://localhost:8080/",
          "height": 35
        },
        "id": "b8Hcwe789dpe",
        "outputId": "342c2014-3ec4-4cc4-f58f-2833b1fd8cf2"
      },
      "execution_count": null,
      "outputs": [
        {
          "output_type": "execute_result",
          "data": {
            "text/plain": [
              "'{\"one\": 1, \"two\": 2, \"three\": true}'"
            ],
            "application/vnd.google.colaboratory.intrinsic+json": {
              "type": "string"
            }
          },
          "metadata": {},
          "execution_count": 44
        }
      ]
    },
    {
      "cell_type": "code",
      "source": [
        "import json\n",
        "\n",
        "d = {\n",
        "    'one': 1,\n",
        "    'two': 2,\n",
        "    'three': True\n",
        "}\n",
        "\n",
        "# str(d)\n",
        "# json.dumps(d) # 안전하고, 견고하게 바꿔줘요."
      ],
      "metadata": {
        "colab": {
          "base_uri": "https://localhost:8080/",
          "height": 35
        },
        "id": "UyG5J1bj-V91",
        "outputId": "6ba06078-10b8-4daa-8dce-05f73b82bd4d"
      },
      "execution_count": null,
      "outputs": [
        {
          "output_type": "execute_result",
          "data": {
            "text/plain": [
              "'{\"one\": 1, \"two\": 2, \"three\": true}'"
            ],
            "application/vnd.google.colaboratory.intrinsic+json": {
              "type": "string"
            }
          },
          "metadata": {},
          "execution_count": 46
        }
      ]
    },
    {
      "cell_type": "code",
      "source": [
        "# 리스트인데 앞뒤로 데이터를 넣고\n",
        "# 순회도 되게 하고 싶다?\n",
        "# 그런데 기본 자료형에는 없어요. => collections라는 모듈이 있습니다.\n",
        "# 여기에는 자주 사용하는 자료를 담는 구조에 대한 구현이 되어 있습니다.\n",
        "# 이런 것을 '자료 구조'라고 합니다."
      ],
      "metadata": {
        "id": "oqMD_8GbAu0Y"
      },
      "execution_count": null,
      "outputs": []
    },
    {
      "cell_type": "code",
      "source": [
        "import collections # 별표 3개\n",
        "\n",
        "d = collections.deque([1, 2, 3, 4])\n",
        "d.rotate(2) # 1번 오른쪽으로 쉬프트 합니다. 숫자를 2로 바꾸어 비교해보세요.\n",
        "print(d)"
      ],
      "metadata": {
        "colab": {
          "base_uri": "https://localhost:8080/"
        },
        "id": "6DaLzwCi_kDE",
        "outputId": "c343d27e-c171-4024-8698-fd1d80d278b1"
      },
      "execution_count": null,
      "outputs": [
        {
          "output_type": "stream",
          "name": "stdout",
          "text": [
            "deque([3, 4, 1, 2])\n"
          ]
        }
      ]
    },
    {
      "cell_type": "code",
      "source": [
        "import collections # 별표 3개\n",
        "\n",
        "d = collections.deque([1, 2, 3, 4])\n",
        "dir(d)\n",
        "\n",
        "d = collections.deque([1, 2, 3, 4], maxlen = 4)\n",
        "d\n",
        "d.append(100)\n",
        "d"
      ],
      "metadata": {
        "colab": {
          "base_uri": "https://localhost:8080/"
        },
        "id": "pJv_uTAqBVcq",
        "outputId": "57a61751-6735-4a9d-f463-0ea03069f5cf"
      },
      "execution_count": null,
      "outputs": [
        {
          "output_type": "execute_result",
          "data": {
            "text/plain": [
              "deque([2, 3, 4, 100])"
            ]
          },
          "metadata": {},
          "execution_count": 52
        }
      ]
    },
    {
      "cell_type": "code",
      "source": [
        "d = collections.deque([1, 2, 3, 4])\n",
        "d.appendleft(100)\n",
        "d"
      ],
      "metadata": {
        "colab": {
          "base_uri": "https://localhost:8080/"
        },
        "id": "LvmfdNYUBroK",
        "outputId": "90d1dda8-fc16-4fbd-820e-600c8be4f894"
      },
      "execution_count": null,
      "outputs": [
        {
          "output_type": "execute_result",
          "data": {
            "text/plain": [
              "deque([100, 1, 2, 3, 4])"
            ]
          },
          "metadata": {},
          "execution_count": 53
        }
      ]
    },
    {
      "cell_type": "code",
      "source": [
        "import collections\n",
        "\n",
        "# 각 숫자의 갯수를 카운팅 하세요!\n",
        "\n",
        "# '111114443333222333444555111222333'\n",
        "c = collections.Counter('111114443333222333444555111222333')\n",
        "print(c)\n",
        "print(c.most_common)\n",
        "print(c.most_common())"
      ],
      "metadata": {
        "colab": {
          "base_uri": "https://localhost:8080/"
        },
        "id": "28rFBJleByp3",
        "outputId": "5ecf917e-9377-4ade-8d73-38ddd26db5e5"
      },
      "execution_count": null,
      "outputs": [
        {
          "output_type": "stream",
          "name": "stdout",
          "text": [
            "Counter({'3': 10, '1': 8, '4': 6, '2': 6, '5': 3})\n",
            "<bound method Counter.most_common of Counter({'3': 10, '1': 8, '4': 6, '2': 6, '5': 3})>\n",
            "[('3', 10), ('1', 8), ('4', 6), ('2', 6), ('5', 3)]\n"
          ]
        }
      ]
    },
    {
      "cell_type": "code",
      "source": [
        "# 이렇게 웹에서 데이터를 가져 오는 것을 크롤링이라고 합니다.\n",
        "# 이 크롤링에 자주 사용되는 라이브러리는\n",
        "# requests, bs4, selenium 3개가 있습니다.\n",
        "# 경고!! 이 크롤링 코드를 다른 서버에 크롤링 하진 마세요.\n",
        "# 수업 다 듣고 충분히 크롤링에 위험성을 인지한 다음 하세요.\n",
        "\n",
        "import requests\n",
        "\n",
        "# for i in range(1000): # 이렇게 하시면 안됩니다. 공격이에요.\n",
        "paullab_url = 'https://paullab.co.kr/bookservice/'\n",
        "response = requests.get(paullab_url)\n",
        "response.encoding = 'utf-8'\n",
        "response.text"
      ],
      "metadata": {
        "id": "p5KS521vDEZ-"
      },
      "execution_count": null,
      "outputs": []
    },
    {
      "cell_type": "code",
      "source": [
        "# 판례: 크롤링을 할 때 저작권자에 의도에 위반하는가? 이게 가장 핵심입니다.\n",
        "# 대부분에 서비스가 개발할 때 https://www.google.com/robots.txt 와 같이 /robots.txt를 명시해둡니다.\n",
        "# 크롤링이 가능하다는거죠?\n",
        "# 그런데 그렇다 하더라도 이 저작물에 상업적 이용을 허하겠다는 얘기는 아닙니다.\n",
        "# 더군다나 경쟁사라고 한다면 서비스를 만든 목적에 반하기 때문에 법 위반이 됩니다.\n",
        "\n",
        "##########################\n",
        "\n",
        "# 사례: 실제로 제가 S그룹에 있었을 때, K 기관에서 무료로 취약점 점검 크롤링을 했는데\n",
        "# 게시판을 크롤링 할 때 '지연'을 안했습니다. 마치 for i in range(100000): 이런 것처럼요.\n",
        "# 그래서 S그룹사 중에 하나의 회사가 서버가 나갔습니다.\n",
        "# 그래서 꼭 여러 페이지를 크롤링 할 것이라면 '지연' 을 걸어주세요."
      ],
      "metadata": {
        "id": "Fl8uvuP8DesN"
      },
      "execution_count": null,
      "outputs": []
    },
    {
      "cell_type": "code",
      "source": [
        "# 예를 들어 아래와 같이 지연시킬 수 있습니다.\n",
        "\n",
        "import time\n",
        "import requests\n",
        "\n",
        "for i in range(5): # 이렇게 하시면 안됩니다. 공격이에요.\n",
        "    time.sleep(5) # 이럴 때에는 이렇게 지연을 해주셔야 합니다. 그래야 서버가 부하가 없어요.\n",
        "    paullab_url = 'https://paullab.co.kr/bookservice/'\n",
        "    response = requests.get(paullab_url)\n",
        "    response.encoding = 'utf-8'\n",
        "    print(response.text[:10])"
      ],
      "metadata": {
        "colab": {
          "base_uri": "https://localhost:8080/"
        },
        "id": "HrABYAZ2Xuss",
        "outputId": "3d5496bb-20ec-4838-bb1c-dea65e449a43"
      },
      "execution_count": null,
      "outputs": [
        {
          "output_type": "stream",
          "name": "stdout",
          "text": [
            "<!DOCTYPE \n",
            "<!DOCTYPE \n",
            "<!DOCTYPE \n",
            "<!DOCTYPE \n",
            "<!DOCTYPE \n"
          ]
        }
      ]
    },
    {
      "cell_type": "code",
      "source": [
        "# 여러분 크롤링 연습용으로 Naver와 똑같이 만들었습니다.(UI를 똑같이 만들었다는 얘기는 아닙니다.)\n",
        "# https://paullab.co.kr/bookservice/\n",
        "# https://paullab.co.kr/stock.html"
      ],
      "metadata": {
        "id": "XtZI1dy8ZGyi"
      },
      "execution_count": null,
      "outputs": []
    },
    {
      "cell_type": "code",
      "source": [
        "import requests\n",
        "from bs4 import BeautifulSoup\n",
        "\n",
        "url = 'https://paullab.co.kr/bookservice/'\n",
        "response = requests.get(url)\n",
        "response.encoding = 'utf-8'\n",
        "html = response.text\n",
        "\n",
        "soup = BeautifulSoup(html, 'html.parser')\n",
        "soup"
      ],
      "metadata": {
        "id": "Nk8EzqbLazMU"
      },
      "execution_count": null,
      "outputs": []
    },
    {
      "cell_type": "code",
      "source": [
        "s = soup.select('.book_name')\n",
        "s"
      ],
      "metadata": {
        "colab": {
          "base_uri": "https://localhost:8080/"
        },
        "id": "L5dO5IhZbBMq",
        "outputId": "b5f6454e-1d60-4330-a6c1-44d2cd98461c"
      },
      "execution_count": null,
      "outputs": [
        {
          "output_type": "execute_result",
          "data": {
            "text/plain": [
              "[<h2 class=\"book_name\" style=\"margin-top: 0;\">메모혁신 Notion(노션) 활용 가이드</h2>,\n",
              " <h2 class=\"book_name\" style=\"margin-top: 0;\">이력서 작성 가이드</h2>,\n",
              " <h2 class=\"book_name\" style=\"margin-top: 0;\">제주코딩베이스캠프 Code Festival: Python 100제 1부</h2>,\n",
              " <h2 class=\"book_name\" style=\"margin-top: 0;\">튜토리얼로 배우는 HTML&amp;CSS</h2>,\n",
              " <h2 class=\"book_name\" style=\"margin-top: 0;\">코딩도장 튜토리얼로 배우는 Python 1편 object</h2>,\n",
              " <h2 class=\"book_name\" style=\"margin-top: 0;\">코딩도장 튜토리얼로 배우는 python 2편 제어문</h2>,\n",
              " <h2 class=\"book_name\" style=\"margin-top: 0;\">코딩도장 튜토리얼로 배우는 Python 문제풀이</h2>,\n",
              " <h2 class=\"book_name\" style=\"margin-top: 0;\">타노스의 건틀릿 알고리즘 With Python</h2>,\n",
              " <h2 class=\"book_name\" style=\"margin-top: 0;\">xlsxwriter 튜토리얼로 배우는 Python 엑셀 프로그래밍</h2>,\n",
              " <h2 class=\"book_name\" style=\"margin-top: 0;\">러플 튜토리얼로 배우는 Python</h2>,\n",
              " <h2 class=\"book_name\" style=\"margin-top: 0;\">인공지능을 활용한 업무자동화 With Google Developers Group JEJU</h2>]"
            ]
          },
          "metadata": {},
          "execution_count": 67
        }
      ]
    },
    {
      "cell_type": "code",
      "source": [
        "for i in s:\n",
        "    print(i.text)"
      ],
      "metadata": {
        "colab": {
          "base_uri": "https://localhost:8080/"
        },
        "id": "blbpe_F9bW7y",
        "outputId": "045976f9-9e3b-441b-827c-fe217abc3f61"
      },
      "execution_count": null,
      "outputs": [
        {
          "output_type": "stream",
          "name": "stdout",
          "text": [
            "메모혁신 Notion(노션) 활용 가이드\n",
            "이력서 작성 가이드\n",
            "제주코딩베이스캠프 Code Festival: Python 100제 1부\n",
            "튜토리얼로 배우는 HTML&CSS\n",
            "코딩도장 튜토리얼로 배우는 Python 1편 object\n",
            "코딩도장 튜토리얼로 배우는 python 2편 제어문\n",
            "코딩도장 튜토리얼로 배우는 Python 문제풀이\n",
            "타노스의 건틀릿 알고리즘 With Python\n",
            "xlsxwriter 튜토리얼로 배우는 Python 엑셀 프로그래밍\n",
            "러플 튜토리얼로 배우는 Python\n",
            "인공지능을 활용한 업무자동화 With Google Developers Group JEJU\n"
          ]
        }
      ]
    },
    {
      "cell_type": "code",
      "source": [
        "# 별은 3개지만, 여러분이 취업이 되신 다음 업무에 할당을 받으셨을 때\n",
        "# 별도로 공부하시면 됩니다.\n",
        "# 또는 내가 채용되고 싶은 회사에 크롤링 우대가 있으면 공부해가세요.\n",
        "\n",
        "import requests\n",
        "from bs4 import BeautifulSoup\n",
        "\n",
        "url = 'https://paullab.co.kr/bookservice/'\n",
        "response = requests.get(url)\n",
        "response.encoding = 'utf-8'\n",
        "html = response.text\n",
        "\n",
        "soup = BeautifulSoup(html, 'html.parser')\n",
        "\n",
        "for i in soup.select('.book_name'):\n",
        "    print(i.text)"
      ],
      "metadata": {
        "colab": {
          "base_uri": "https://localhost:8080/"
        },
        "id": "xKBp9_JvbmE7",
        "outputId": "01c868cb-1dfc-42db-f8ea-c3afe246546a"
      },
      "execution_count": null,
      "outputs": [
        {
          "output_type": "stream",
          "name": "stdout",
          "text": [
            "메모혁신 Notion(노션) 활용 가이드\n",
            "이력서 작성 가이드\n",
            "제주코딩베이스캠프 Code Festival: Python 100제 1부\n",
            "튜토리얼로 배우는 HTML&CSS\n",
            "코딩도장 튜토리얼로 배우는 Python 1편 object\n",
            "코딩도장 튜토리얼로 배우는 python 2편 제어문\n",
            "코딩도장 튜토리얼로 배우는 Python 문제풀이\n",
            "타노스의 건틀릿 알고리즘 With Python\n",
            "xlsxwriter 튜토리얼로 배우는 Python 엑셀 프로그래밍\n",
            "러플 튜토리얼로 배우는 Python\n",
            "인공지능을 활용한 업무자동화 With Google Developers Group JEJU\n"
          ]
        }
      ]
    },
    {
      "cell_type": "code",
      "source": [
        "import pandas as pd\n",
        "\n",
        "\n",
        "data = pd.read_html('https://paullab.co.kr/stock.html')\n",
        "# 위와 같은 책 제목 등은 안되고, table형태로 만들어져 있어야만 가능!\n",
        "data[3]\n",
        "data[3]['종가']"
      ],
      "metadata": {
        "colab": {
          "base_uri": "https://localhost:8080/",
          "height": 711
        },
        "id": "QMbFfNUMdufW",
        "outputId": "7885d4ca-9aef-4111-e84c-5454ecf9a701"
      },
      "execution_count": null,
      "outputs": [
        {
          "output_type": "execute_result",
          "data": {
            "text/plain": [
              "0     6650\n",
              "1     6630\n",
              "2     6820\n",
              "3     6430\n",
              "4     5950\n",
              "5     5930\n",
              "6     5640\n",
              "7     5380\n",
              "8     5040\n",
              "9     5100\n",
              "10    5050\n",
              "11    4940\n",
              "12    5010\n",
              "13    4920\n",
              "14    5010\n",
              "15    5000\n",
              "16    5010\n",
              "17    5060\n",
              "18    5060\n",
              "19    5330\n",
              "Name: 종가, dtype: int64"
            ],
            "text/html": [
              "<div>\n",
              "<style scoped>\n",
              "    .dataframe tbody tr th:only-of-type {\n",
              "        vertical-align: middle;\n",
              "    }\n",
              "\n",
              "    .dataframe tbody tr th {\n",
              "        vertical-align: top;\n",
              "    }\n",
              "\n",
              "    .dataframe thead th {\n",
              "        text-align: right;\n",
              "    }\n",
              "</style>\n",
              "<table border=\"1\" class=\"dataframe\">\n",
              "  <thead>\n",
              "    <tr style=\"text-align: right;\">\n",
              "      <th></th>\n",
              "      <th>종가</th>\n",
              "    </tr>\n",
              "  </thead>\n",
              "  <tbody>\n",
              "    <tr>\n",
              "      <th>0</th>\n",
              "      <td>6650</td>\n",
              "    </tr>\n",
              "    <tr>\n",
              "      <th>1</th>\n",
              "      <td>6630</td>\n",
              "    </tr>\n",
              "    <tr>\n",
              "      <th>2</th>\n",
              "      <td>6820</td>\n",
              "    </tr>\n",
              "    <tr>\n",
              "      <th>3</th>\n",
              "      <td>6430</td>\n",
              "    </tr>\n",
              "    <tr>\n",
              "      <th>4</th>\n",
              "      <td>5950</td>\n",
              "    </tr>\n",
              "    <tr>\n",
              "      <th>5</th>\n",
              "      <td>5930</td>\n",
              "    </tr>\n",
              "    <tr>\n",
              "      <th>6</th>\n",
              "      <td>5640</td>\n",
              "    </tr>\n",
              "    <tr>\n",
              "      <th>7</th>\n",
              "      <td>5380</td>\n",
              "    </tr>\n",
              "    <tr>\n",
              "      <th>8</th>\n",
              "      <td>5040</td>\n",
              "    </tr>\n",
              "    <tr>\n",
              "      <th>9</th>\n",
              "      <td>5100</td>\n",
              "    </tr>\n",
              "    <tr>\n",
              "      <th>10</th>\n",
              "      <td>5050</td>\n",
              "    </tr>\n",
              "    <tr>\n",
              "      <th>11</th>\n",
              "      <td>4940</td>\n",
              "    </tr>\n",
              "    <tr>\n",
              "      <th>12</th>\n",
              "      <td>5010</td>\n",
              "    </tr>\n",
              "    <tr>\n",
              "      <th>13</th>\n",
              "      <td>4920</td>\n",
              "    </tr>\n",
              "    <tr>\n",
              "      <th>14</th>\n",
              "      <td>5010</td>\n",
              "    </tr>\n",
              "    <tr>\n",
              "      <th>15</th>\n",
              "      <td>5000</td>\n",
              "    </tr>\n",
              "    <tr>\n",
              "      <th>16</th>\n",
              "      <td>5010</td>\n",
              "    </tr>\n",
              "    <tr>\n",
              "      <th>17</th>\n",
              "      <td>5060</td>\n",
              "    </tr>\n",
              "    <tr>\n",
              "      <th>18</th>\n",
              "      <td>5060</td>\n",
              "    </tr>\n",
              "    <tr>\n",
              "      <th>19</th>\n",
              "      <td>5330</td>\n",
              "    </tr>\n",
              "  </tbody>\n",
              "</table>\n",
              "</div><br><label><b>dtype:</b> int64</label>"
            ]
          },
          "metadata": {},
          "execution_count": 76
        }
      ]
    },
    {
      "cell_type": "code",
      "source": [
        "# 예외처리\n",
        "# 별표 4개\n",
        "\n",
        "try:\n",
        "    pass\n",
        "except:\n",
        "    pass"
      ],
      "metadata": {
        "id": "n7IJ6kgZefVV"
      },
      "execution_count": null,
      "outputs": []
    },
    {
      "cell_type": "code",
      "source": [
        "for i in range(10):\n",
        "    print(i)\n",
        "    1/0"
      ],
      "metadata": {
        "colab": {
          "base_uri": "https://localhost:8080/",
          "height": 202
        },
        "id": "GZncGUlzeyMR",
        "outputId": "a2afadee-e607-4af6-da3d-39b07bb071fd"
      },
      "execution_count": null,
      "outputs": [
        {
          "output_type": "stream",
          "name": "stdout",
          "text": [
            "0\n"
          ]
        },
        {
          "output_type": "error",
          "ename": "ZeroDivisionError",
          "evalue": "division by zero",
          "traceback": [
            "\u001b[0;31m---------------------------------------------------------------------------\u001b[0m",
            "\u001b[0;31mZeroDivisionError\u001b[0m                         Traceback (most recent call last)",
            "\u001b[0;32m<ipython-input-79-6c6883c9a717>\u001b[0m in \u001b[0;36m<cell line: 0>\u001b[0;34m()\u001b[0m\n\u001b[1;32m      1\u001b[0m \u001b[0;32mfor\u001b[0m \u001b[0mi\u001b[0m \u001b[0;32min\u001b[0m \u001b[0mrange\u001b[0m\u001b[0;34m(\u001b[0m\u001b[0;36m10\u001b[0m\u001b[0;34m)\u001b[0m\u001b[0;34m:\u001b[0m\u001b[0;34m\u001b[0m\u001b[0;34m\u001b[0m\u001b[0m\n\u001b[1;32m      2\u001b[0m     \u001b[0mprint\u001b[0m\u001b[0;34m(\u001b[0m\u001b[0mi\u001b[0m\u001b[0;34m)\u001b[0m\u001b[0;34m\u001b[0m\u001b[0;34m\u001b[0m\u001b[0m\n\u001b[0;32m----> 3\u001b[0;31m     \u001b[0;36m1\u001b[0m\u001b[0;34m/\u001b[0m\u001b[0;36m0\u001b[0m\u001b[0;34m\u001b[0m\u001b[0;34m\u001b[0m\u001b[0m\n\u001b[0m",
            "\u001b[0;31mZeroDivisionError\u001b[0m: division by zero"
          ]
        }
      ]
    },
    {
      "cell_type": "code",
      "source": [
        "# 예외처리\n",
        "# 별표 4개\n",
        "\n",
        "try:\n",
        "    for i in range(10):\n",
        "        print(i)\n",
        "        1/0\n",
        "except:\n",
        "    print('애러발생 / 애러가 발생했으니 다시 시도해주세요!')\n",
        "\n",
        "print('프로그램 끝!')"
      ],
      "metadata": {
        "colab": {
          "base_uri": "https://localhost:8080/"
        },
        "id": "LlCKO26KenHX",
        "outputId": "99b7a040-8759-4b3f-de0a-fbbcfcc640fe"
      },
      "execution_count": null,
      "outputs": [
        {
          "output_type": "stream",
          "name": "stdout",
          "text": [
            "0\n",
            "애러발생 / 애러가 발생했으니 다시 시도해주세요!\n",
            "프로그램 끝!\n"
          ]
        }
      ]
    },
    {
      "cell_type": "code",
      "source": [
        "# 1. 여러분은 이걸로 먹고 살 사람들입니다. 그러니 애러를 만나면 애러를 외워주세요.\n",
        "# 2. 모든 코드에 try와 except를 작성하는 것은 반대합니다. 애러가 발생할 여지가 있는 곳에만\n",
        "# 작성해주세요."
      ],
      "metadata": {
        "colab": {
          "base_uri": "https://localhost:8080/",
          "height": 184
        },
        "id": "UK-nZr8MfKaS",
        "outputId": "0d1ae43b-ad98-4ce5-8667-3c3c6727c32f"
      },
      "execution_count": null,
      "outputs": [
        {
          "output_type": "error",
          "ename": "IndexError",
          "evalue": "list index out of range",
          "traceback": [
            "\u001b[0;31m---------------------------------------------------------------------------\u001b[0m",
            "\u001b[0;31mIndexError\u001b[0m                                Traceback (most recent call last)",
            "\u001b[0;32m<ipython-input-83-5b485944ad3f>\u001b[0m in \u001b[0;36m<cell line: 0>\u001b[0;34m()\u001b[0m\n\u001b[1;32m      1\u001b[0m \u001b[0;31m# 1. 여러분은 이걸로 먹고 살 사람들입니다. 그러니 애러를 만나면 애러를 외워주세요.\u001b[0m\u001b[0;34m\u001b[0m\u001b[0;34m\u001b[0m\u001b[0m\n\u001b[1;32m      2\u001b[0m \u001b[0ml\u001b[0m \u001b[0;34m=\u001b[0m \u001b[0;34m[\u001b[0m\u001b[0;36m10\u001b[0m\u001b[0;34m,\u001b[0m \u001b[0;36m20\u001b[0m\u001b[0;34m,\u001b[0m \u001b[0;36m30\u001b[0m\u001b[0;34m]\u001b[0m\u001b[0;34m\u001b[0m\u001b[0;34m\u001b[0m\u001b[0m\n\u001b[0;32m----> 3\u001b[0;31m \u001b[0ml\u001b[0m\u001b[0;34m[\u001b[0m\u001b[0;36m5\u001b[0m\u001b[0;34m]\u001b[0m\u001b[0;34m\u001b[0m\u001b[0;34m\u001b[0m\u001b[0m\n\u001b[0m",
            "\u001b[0;31mIndexError\u001b[0m: list index out of range"
          ]
        }
      ]
    },
    {
      "cell_type": "code",
      "source": [
        "# 이런 형태를 잘 사용하지 않습니다.\n",
        "try:\n",
        "    s = 1/0\n",
        "    print(s)\n",
        "except ZeroDivisionError:\n",
        "    print('0으로 나누어졌습니다!')"
      ],
      "metadata": {
        "colab": {
          "base_uri": "https://localhost:8080/"
        },
        "id": "TQm1Jb2iiu5e",
        "outputId": "372f6776-d12f-46be-b24c-3ff486f7f784"
      },
      "execution_count": null,
      "outputs": [
        {
          "output_type": "stream",
          "name": "stdout",
          "text": [
            "0으로 나누어졌습니다!\n"
          ]
        }
      ]
    },
    {
      "cell_type": "code",
      "source": [
        "# 이런 형태를 잘 사용하지 않습니다.\n",
        "try:\n",
        "    l = [10, 20, 30]\n",
        "    l[5]\n",
        "except ZeroDivisionError:\n",
        "    print('0으로 나누어졌습니다!')\n",
        "except IndexError:\n",
        "    print('범위가 넘어갔어요!')"
      ],
      "metadata": {
        "colab": {
          "base_uri": "https://localhost:8080/"
        },
        "id": "u5YJkKDrjHAJ",
        "outputId": "27dd8a0d-3118-49b1-9f43-7efaf684fa20"
      },
      "execution_count": null,
      "outputs": [
        {
          "output_type": "stream",
          "name": "stdout",
          "text": [
            "범위가 넘어갔어요!\n"
          ]
        }
      ]
    },
    {
      "cell_type": "code",
      "source": [
        "# test 코드 작성할 때 이 코드를 자주 사용합니다.\n",
        "\n",
        "test = 'hello'\n",
        "\n",
        "assert test == 'hello', '에러 메시지 1' #1\n",
        "assert test == 'world', '에러 메시지 2' #2\n",
        "assert test + 3 == 5, '에러 메시지 3' #3"
      ],
      "metadata": {
        "colab": {
          "base_uri": "https://localhost:8080/",
          "height": 202
        },
        "id": "Uc_Gxhsujhsv",
        "outputId": "a28de827-9d50-46b9-bed2-6d483ad0d164"
      },
      "execution_count": null,
      "outputs": [
        {
          "output_type": "error",
          "ename": "AssertionError",
          "evalue": "에러 메시지 2",
          "traceback": [
            "\u001b[0;31m---------------------------------------------------------------------------\u001b[0m",
            "\u001b[0;31mAssertionError\u001b[0m                            Traceback (most recent call last)",
            "\u001b[0;32m<ipython-input-87-97ad8c746d65>\u001b[0m in \u001b[0;36m<cell line: 0>\u001b[0;34m()\u001b[0m\n\u001b[1;32m      4\u001b[0m \u001b[0;34m\u001b[0m\u001b[0m\n\u001b[1;32m      5\u001b[0m \u001b[0;32massert\u001b[0m \u001b[0mtest\u001b[0m \u001b[0;34m==\u001b[0m \u001b[0;34m'hello'\u001b[0m\u001b[0;34m,\u001b[0m \u001b[0;34m'에러 메시지 1'\u001b[0m \u001b[0;31m#1\u001b[0m\u001b[0;34m\u001b[0m\u001b[0;34m\u001b[0m\u001b[0m\n\u001b[0;32m----> 6\u001b[0;31m \u001b[0;32massert\u001b[0m \u001b[0mtest\u001b[0m \u001b[0;34m==\u001b[0m \u001b[0;34m'world'\u001b[0m\u001b[0;34m,\u001b[0m \u001b[0;34m'에러 메시지 2'\u001b[0m \u001b[0;31m#2\u001b[0m\u001b[0;34m\u001b[0m\u001b[0;34m\u001b[0m\u001b[0m\n\u001b[0m\u001b[1;32m      7\u001b[0m \u001b[0;32massert\u001b[0m \u001b[0mtest\u001b[0m \u001b[0;34m+\u001b[0m \u001b[0;36m3\u001b[0m \u001b[0;34m==\u001b[0m \u001b[0;36m5\u001b[0m\u001b[0;34m,\u001b[0m \u001b[0;34m'에러 메시지 3'\u001b[0m \u001b[0;31m#3\u001b[0m\u001b[0;34m\u001b[0m\u001b[0;34m\u001b[0m\u001b[0m\n",
            "\u001b[0;31mAssertionError\u001b[0m: 에러 메시지 2"
          ]
        }
      ]
    },
    {
      "cell_type": "code",
      "source": [
        "# 메서드 체이닝\n",
        "# '11111122222312312312312344433322111'\n",
        "# => 1은 !로\n",
        "# => 2는 @로\n",
        "# => 3은 #로\n",
        "# => 4는 $로\n",
        "\n",
        "s = '11111122222312312312312344433322111'\n",
        "s.replace('1', '!').replace('2', '@').replace('3', '#').replace('4', '$')"
      ],
      "metadata": {
        "colab": {
          "base_uri": "https://localhost:8080/",
          "height": 35
        },
        "id": "pw69saHwkKeb",
        "outputId": "3b05954f-7723-48cb-b621-e64bad7c97c4"
      },
      "execution_count": null,
      "outputs": [
        {
          "output_type": "execute_result",
          "data": {
            "text/plain": [
              "'!!!!!!@@@@@#!@#!@#!@#!@#$$$###@@!!!'"
            ],
            "application/vnd.google.colaboratory.intrinsic+json": {
              "type": "string"
            }
          },
          "metadata": {},
          "execution_count": 88
        }
      ]
    },
    {
      "cell_type": "code",
      "source": [
        "s = '11111122222312312312312344433322111'\n",
        "ss = s.replace('1', '!')\n",
        "ss.replace('2', '@')\n",
        "sss = ss.replace('3', '#')\n",
        "sss\n",
        "# ..."
      ],
      "metadata": {
        "colab": {
          "base_uri": "https://localhost:8080/",
          "height": 35
        },
        "id": "S-bpo5Q4k1Pk",
        "outputId": "f4794d95-3fc0-485d-d787-92b03e52c3d7"
      },
      "execution_count": null,
      "outputs": [
        {
          "output_type": "execute_result",
          "data": {
            "text/plain": [
              "'!!!!!!22222#!2#!2#!2#!2#444###22!!!'"
            ],
            "application/vnd.google.colaboratory.intrinsic+json": {
              "type": "string"
            }
          },
          "metadata": {},
          "execution_count": 92
        }
      ]
    },
    {
      "cell_type": "code",
      "source": [
        "# 이렇게 반환값이 중간에 list로 바뀌면 사용하지 못합니다.\n",
        "s = '11111 2222 33333'\n",
        "s.replace('1', '!').split(' ') # 이 다음에 replace를 연달아 사용하진 못합니다. 여기까지가 리스트이기 때문입니다."
      ],
      "metadata": {
        "colab": {
          "base_uri": "https://localhost:8080/"
        },
        "id": "-wWma2Uuk6vW",
        "outputId": "c4f7abe8-8a49-4141-f5f7-f933e9b4f858"
      },
      "execution_count": null,
      "outputs": [
        {
          "output_type": "execute_result",
          "data": {
            "text/plain": [
              "['!!!!!', '2222', '33333']"
            ]
          },
          "metadata": {},
          "execution_count": 93
        }
      ]
    },
    {
      "cell_type": "code",
      "source": [
        "# 앞에 010을 82+010으로, 5044는 *로, 마지막 뒤에 4자리는 그대로 둡니다.\n",
        "# 띄어쓰기가 있는 곳은 없애주세요.\n",
        "# (다른 번호에 해당되는 문제는 아닙니다.)\n",
        "s = '010 5044 2903'\n",
        "\n",
        "s.replace('010', '82+010') # 이 뒤에 메서드 체이닝을 사용할 수 있는 것은 str에 메서드만 가능합니다.\n",
        "s.replace('010', '82+010').split(' ') # 이 뒤에 메서드 체이닝을 사용할 수 있는 것은 list에 메서드만 가능합니다."
      ],
      "metadata": {
        "colab": {
          "base_uri": "https://localhost:8080/"
        },
        "id": "3ZpYgkjcllG5",
        "outputId": "54a7d4f1-a89a-4e94-98db-6c74d4cabbb3"
      },
      "execution_count": null,
      "outputs": [
        {
          "output_type": "execute_result",
          "data": {
            "text/plain": [
              "['82+010', '5044', '2903']"
            ]
          },
          "metadata": {},
          "execution_count": 95
        }
      ]
    },
    {
      "cell_type": "code",
      "source": [
        "import requests\n",
        "import bs4\n",
        "import time\n",
        "\n",
        "\n",
        "s = ['서울', '제주', '대구', '부산']\n",
        "\n",
        "for i in s:\n",
        "    print(i)\n",
        "    time.sleep(3)\n",
        "    url = f'https://www.google.com/search?q=google+{i}온도'\n",
        "    response = requests.get(url)\n",
        "    response.encoding = 'utf-8'\n",
        "    html = response.text\n",
        "    soup = bs4.BeautifulSoup(html, 'html.parser')\n",
        "    for i in soup.select('.wob_t'):\n",
        "        print(i.text)"
      ],
      "metadata": {
        "colab": {
          "base_uri": "https://localhost:8080/"
        },
        "id": "moTTAIc_m2fc",
        "outputId": "c1a35d1a-791d-4f8f-d12e-6b1defd08dec"
      },
      "execution_count": null,
      "outputs": [
        {
          "output_type": "stream",
          "name": "stdout",
          "text": [
            "서울\n",
            "제주\n",
            "대구\n",
            "부산\n"
          ]
        }
      ]
    },
    {
      "cell_type": "code",
      "source": [
        "url = f'https://www.google.com/search?q=google+{i}온도'\n",
        "response = requests.get(url)\n",
        "response.encoding = 'utf-8'\n",
        "html = response.text\n",
        "soup = bs4.BeautifulSoup(html, 'html.parser')\n",
        "soup"
      ],
      "metadata": {
        "colab": {
          "base_uri": "https://localhost:8080/"
        },
        "collapsed": true,
        "id": "U9p9bdvhnrKX",
        "outputId": "a4883e00-f870-4554-b826-4754b42175b4"
      },
      "execution_count": null,
      "outputs": [
        {
          "output_type": "execute_result",
          "data": {
            "text/plain": [
              "<!DOCTYPE html>\n",
              "<html lang=\"zh-TW\"><head><title>Google Search</title><style>body{background-color:#fff}</style></head><body><noscript><style>table,div,span,p{display:none}</style><meta content=\"0;url=/httpservice/retry/enablejs?sei=7oglaJ2EC8zn1e8PrtLbwQE\" http-equiv=\"refresh\"/><div style=\"display:block\">如果系統沒有在數秒鐘後將您重新導向，請按一下<a href=\"/httpservice/retry/enablejs?sei=7oglaJ2EC8zn1e8PrtLbwQE\">這裡</a>。</div></noscript><script nonce=\"uK8SaoAvuuV_5OEE5R_UHA\">//# sourceMappingURL=data:application/json;charset=utf-8;base64,eyJ2ZXJzaW9uIjogMywic291cmNlcyI6WyIiXSwic291cmNlc0NvbnRlbnQiOlsiICJdLCJuYW1lcyI6WyJjbG9zdXJlRHluYW1pY0J1dHRvbiJdLCJtYXBwaW5ncyI6IkFBQUE7QUFBQTtBQUFBO0FBQUE7QUFBQTtBQUFBO0FBQUEifQ==\n",
              "(function(){function u(T){return T}var e=this||self,p=function(T){return u.call(this,T)},H=function(T,S,Z,J,E,F,b,W,l,D,w,B){w=13;{B=S;while(NaN!==NaN)try{if(w==29)break;else if(w==Z)B=S,w=T;else if(w==13)W=e.trustedTypes,l=b,w=66;else{if(w==32)return B=S,l;if(w==66)w=W&&W.createPolicy?J:39;else if(w==J)B=85,l=W.createPolicy(F,{createHTML:p,createScript:p,createScriptURL:p}),w=32;else{if(w==39)return l;w==T?w=e.console?82:32:w==82&&(e.console[E](D.message),w=32)}}}catch(x){if(B==S)throw x;B==85&&(D=x,w=Z)}}};(0,eval)(function(T,S){return(S=H(40,28,18,79,\"error\",\"ks\",null))&&T.eval(S.createScript(\"1\"))===1?function(Z){return S.createScript(Z)}:function(Z){return\"\"+Z}}(e)(Array(Math.random()*7824|0).join(\"\\n\")+['//# sourceMappingURL=data:application/json;charset=utf-8;base64,eyJ2ZXJzaW9uIjogMywic291cmNlcyI6WyIiXSwic291cmNlc0NvbnRlbnQiOlsiICJdLCJuYW1lcyI6WyJjbG9zdXJlRHluYW1pY0J1dHRvbiJdLCJtYXBwaW5ncyI6IkFBQUE7QUFBQTtBQUFBO0FBQUE7QUFBQTtBQUFBO0FBQUEifQ==',\n",
              "'(function(){/*',\n",
              "'',\n",
              "' Copyright Google LLC',\n",
              "' SPDX-License-Identifier: Apache-2.0',\n",
              "'*/',\n",
              "'var Cu=function(w,Z,S,B,e,u,W,l,E){{l=31;while(l!=17)if(l==29)l=(w|24)==w?89:63;else if(l==66)l=(w&41)==w?64:29;else if(l==22)u=typeof e,W=u!=B?u:e?Array.isArray(e)?\"array\":u:\"null\",E=W==S||W==B&&typeof e.length==Z,l=13;else if(l==19){a:if(typeof B===\"string\")E=typeof S!==\"string\"||S.length!=Z?-1:B.indexOf(S,0);else{for(e=0;e<B.length;e++)if(e in B&&B[e]===S){E=e;break a}E=-1}l=52}else if(l==63)l=(w^1)<24&&(w+8&15)>=10?22:13;else if(l==89)typeof S.className==Z?S.className=B:S.setAttribute&&S.setAttribute(\"class\",B),l=63;else if(l==13)l=(w>>2&7)==1?19:52;else if(l==0)l=(w>>2&15)==2?3:66;else if(l==64)Z.classList?Array.prototype.forEach.call(S,function(D){qe(16,1,\"string\",\"class\",0,Z,D)}):Cu(25,\"string\",Z,Array.prototype.filter.call(h(68,\"class\",Z),function(D){return!(Cu(39,1,D,S)>=0)}).join(\" \")),l=29;else{if(l==52)return E;l==3?l=66:l==31&&(l=0)}}},aD=function(w,Z,S,B,e,u,W,l,E,D,T,J,p,x){{x=61;while(x!=12)if(x==25)x=B?38:50;else if(x==93)aD(0,7,\"object\",B,e[J],u,W,l),x=29;else{if(x==50)return p;if(x==56)x=Array.isArray(e)?65:11;else if(x==43)x=B&&B[W5]?19:25;else if(x==5)x=30;else if(x==99)x=(Z+6^13)<Z&&(Z-2|19)>=Z?56:50;else if(x==75)(D=E.Ad(e,T,u,W))&&xS(8192,5,0,null,D),x=50;else if(x==19)B.o.remove(String(e),W,T,u),x=50;else if(x==11)T=h(28,S,l)?!!l.capture:!!l,W=jv(16,W),x=43;else if(x==21)oD.call(this),w||gh||(gh=new Ux),this.u=null,this.zy=false,this.eh=null,this.Ty=void 0,this.wr=this.Fy=this.Sh=null,this.WL=false,x=3;else if(x==65)J=w,x=5;else if(x==29)J++,x=30;else if(x==6)x=(Z|6)>>3==1?21:3;else if(x==79)x=E?75:50;else if(x==80){if(B=S.length,B>w){for(u=(e=Array(B),w);u<B;u++)e[u]=S[u];p=e}else p=[];x=99}else x==30?x=J<e.length?93:50:x==61?x=6:x==3?x=(Z-3|20)<Z&&(Z-4^32)>=Z?80:99:x==38&&(E=DP(81,B,12),x=79)}}},ln=function(w,Z,S,B,e,u,W,l,E,D,T){for(D=49;D!=0;)if(D==68){a:{for(l=[Z==typeof globalThis&&globalThis,(W=S,u),Z==typeof window&&window,Z==typeof self&&self,Z==typeof global&&global];W<l.length;++W)if((E=l[W])&&E[e]==Math){T=E;break a}throw Error(\"Cannot find global object\");}D=26}else if(D==49)D=28;else if(D==94)D=(B-1&6)<w&&(B|6)>=-72?68:26;else if(D==58)T=Z in Ku?Ku[Z]:Ku[Z]=S+Z,D=94;else{if(D==26)return T;D==28&&(D=(B^8)>>4?94:58)}},Ne=function(w,Z,S,B,e,u,W,l,E,D,T){{D=82;while(D!=86)if(D==82)D=24;else if(D==74)D=65;else if(D==w)D=(Z-8&7)==1?36:3;else if(D==40)l++,D=65;else if(D==49)l in E&&e.call(void 0,E[l],l,u),D=40;else if(D==36){a:{for(W in u)if(e.call(void 0,u[W],W,u)){T=S;break a}T=B}D=3}else{if(D==3)return T;D==65?D=l<W?49:99:D==79?D=Z+2>=15&&(Z>>1&12)<4?62:99:D==24?D=(Z-8|79)<Z&&(Z+7^24)>=Z?94:79:D==84?(B(function(J){J(S)}),T=[function(){return S},function(){}],D=w):D==99?D=(Z|40)==Z?84:w:D==94?D=79:D==62&&(W=u.length,E=typeof u===\"string\"?u.split(S):u,l=B,D=74)}}},bn=function(w,Z,S,B,e,u,W,l,E,D,T){{T=66;while(T!=11)if(T==84)T=e<S.length?95:73;else if(T==2)T=Z-9<<1<Z&&(Z-9^32)>=Z?74:68;else if(T==66)T=29;else if(T==80)u=new pu(B,this),W=S.listener,e=S.nv||S.src,S.Bz&&xS(8192,6,0,null,S),l=W.call(e,u),T=16;else if(T==62)u=e=0,E=[],T=44;else if(T==68)T=(Z|32)==Z?13:54;else if(T==16)D=l,T=54;else if(T==73)D=E,T=7;else if(T==55)l=true,T=16;else if(T==95)u+=B,W=W<<B|S[e],T=98;else if(T==98)T=77;else if(T==74)this[this+\"\"]=this,D=Promise.resolve(),T=68;else if(T==28)u-=8,E.push((l=W>>u,-~(l|255)-(~l&255)+(~l|255))),T=63;else if(T==13)T=S.hd?55:80;else if(T==77)T=u>7?28:46;else if(T==46)e++,T=84;else if(T==29)T=(Z&62)==Z?w:2;else if(T==44)T=84;else{if(T==7)return D;T==54?T=(Z<<1&w)<3&&Z-9>>3>=2?62:7:T==63?T=77:T==w&&(D=typeof e.className==S?e.className:e.getAttribute&&e.getAttribute(B)||\"\",T=2)}}},xS=function(w,Z,S,B,e,u,W,l,E,D,T){{T=13;while(T!=29)if(T==88)T=W<S.length?58:35;else if(T==24)u=void 0,T=19;else if(T==23)y(e,25,true,W),T=72;else if(T==85)T=typeof e!==\"number\"&&e&&!e.hd?59:79;else if(T==35)u=B(e).replace(/\\\\+/g,\"-\").replace(/\\\\//g,\"_\").replace(/=/g,\"\"),T=19;else if(T==82)T=B?49:24;else if(T==59)E=e.src,T=46;else if(T==13)T=66;else if(T==72)T=W.b4==S?1:79;else if(T==62)y(e,36,true),T=79;else{if(T==39)return D;T==49?(e=\"\",W=0,T=81):T==76?(y(e,9,true,E.o),T=79):T==40?(wh.call(this),this.o=new TF(this),this.OZ=this,this.Lv=null,T=39):T==52?T=W?23:62:T==86?(W+=w,T=88):T==32?T=(Z|16)==Z?40:39:T==19?(D=u,T=32):T==18?(B=window.btoa,T=82):T==81?T=88:T==1?(W.src=B,E[Sv]=B,T=79):T==58?(e+=String.fromCharCode.apply(null,S.slice(W,W+w)),T=86):T==66?T=(Z>>2&7)==1?85:79:T==46?T=E&&E[W5]?76:8:T==79?T=(Z>>2&11)>=10&&(Z-9&8)<2?18:32:T==8&&(l=e.proxy,u=e.type,E.removeEventListener?E.removeEventListener(u,l,e.capture):E.detachEvent?E.detachEvent(ln(2,u,\"on\",5),l):E.addListener&&E.removeListener&&E.removeListener(l),ev--,W=DP(81,E,11),T=52)}}},jv=function(w,Z,S,B,e,u){for(u=91;u!=65;)if(u==39)u=(w-7^19)>=w&&(w-4^9)<w?55:82;else if(u==55)typeof Z===\"function\"?e=Z:(Z[c5]||(Z[c5]=function(W){return Z.handleEvent(W)}),e=Z[c5]),u=82;else{if(u==20)return e;u==54?u=20:u==35?(e=Z,u=85):u==85?u=(w-4^14)<w&&(w-8^13)>=w?54:20:u==0?(S.J=((S.J?S.J+\"~\":\"E:\")+B.message+Z+B.stack).slice(0,2048),u=39):u==82?u=((w|2)&7)>=4&&w>>1<16?35:85:u==91?u=19:u==19&&(u=(w&70)==w?0:39)}},qe=function(w,Z,S,B,e,u,W,l,E,D,T,J){for(T=22;T!=15;)if(T==0)u.classList?u.classList.remove(W):qe(23,Z,e,W,u)&&Cu(27,S,u,Array.prototype.filter.call(h(65,B,u),function(p){return p!=W}).join(\" \")),T=51;else if(T==51)T=(w^49)&25?48:36;else if(T==10)W=h(64,\"class\",e),u=Cu(37,Z,B,W)>=S,T=34;else if(T==20)l={},rh=(l.atomic=S,l.autocomplete=\"none\",l.dropeffect=\"none\",l.haspopup=S,l.live=\"off\",l.multiline=S,l.multiselectable=S,l.orientation=\"vertical\",l.readonly=S,l.relevant=\"additions text\",l.required=S,l.sort=\"none\",l[Z]=S,l.disabled=S,l.hidden=S,l.invalid=\"false\",l),T=1;else if(T==22)T=62;else if(T==16)T=(w+7&16)<15&&(w<<1&14)>=4?85:47;else if(T==48)T=(w<<2&12)<2&&(w+3&11)>=7?72:63;else if(T==34)D=u,T=48;else if(T==65)u=e.classList.contains(B),T=34;else if(T==85)Array.isArray(e)&&(e=e.join(\" \")),E=\"aria-\"+B,T=17;else if(T==72)J=function(p){return Z.call(J.src,J.listener,p)},Z=QR,D=J,T=63;else if(T==36)T=e.classList?65:10;else if(T==47)T=(w&117)==w?0:51;else if(T==70)T=rh?1:20;else if(T==17)T=e===\"\"||e==void 0?70:37;else if(T==37)u.setAttribute(E,e),T=47;else if(T==56)D=y(B,22,e)&&!!(B.S&e)!=S&&(!(u=B.sZ,(e|Z)-~(u&e)+~e)||B.dispatchEvent(RD(6,8,5,1,2,8,32,S,e)))&&!B.N,T=16;else{if(T==63)return D;T==62?T=(w|40)==w?56:16:T==1&&(W=rh,B in W?u.setAttribute(E,W[B]):u.removeAttribute(E),T=47)}},XK=function(w,Z,S,B,e,u,W,l,E){{l=62;while(l!=79)if(l==44)H5.call(this,B,S||AS.OT(),Z),l=73;else if(l==73)l=(e+7&7)>=2&&(e<<2&8)<3?0:11;else if(l==0)u=Cu(36,B,S,Z),(W=u>=0)&&Array.prototype.splice.call(Z,u,B),E=W,l=11;else{if(l==11)return E;l==w?l=(e|32)==e?44:73:l==62&&(l=w)}}},hS=function(w,Z,S,B,e,u,W,l,E,D,T,J,p,x){{p=32;while(p!=20){if(p==90)return x;if(p==36)p=(Z-7^11)<Z&&(Z+1&46)>=Z?5:90;else if(p==32)p=98;else if(p==5)this.listener=w,this.proxy=null,this.src=B,this.type=S,this.capture=!!u,this.nv=e,this.key=++yR,this.hd=this.Bz=false,p=90;else if(p==98)p=(Z&45)==Z?60:50;else if(p==50)p=(Z|24)==Z?34:36;else if(p==60)x=w&&w.parentNode?w.parentNode.removeChild(w):null,p=50;else if(p==34){if(D=B.o.l[String(S)]){for(l=(E=(D=D.concat(),0),w);E<D.length;++E)(T=D[E])&&!T.hd&&T.capture==e&&(J=T.listener,W=T.nv||T.src,T.Bz&&y(T,26,w,B.o),l=J.call(W,u)!==false&&l);x=l&&!u.defaultPrevented}else x=w;p=36}}}},ID=function(w,Z,S,B,e,u,W,l,E,D,T,J,p,x){{x=85;while(x!=43)if(x==64)x=D<Z.length?5:63;else if(x==85)x=11;else if(x==73)D++,x=64;else if(x==5)J+=Z.charCodeAt(D),J+=J<<10,J=(u=J>>6,(J&~u)-(~J^u)+(~J|u)),x=73;else{if(x==84)return p;x==20?x=(w-4|18)<w&&(w-9^17)>=w?48:84:x==11?x=(w-8&14)==2?57:3:x==51?x=64:x==33?(D=J=0,x=51):x==3?x=w>>2&7?20:33:x==48?(this.Kv=r.document||document,x=84):x==57?(this.F=Z,x=3):x==63&&(J+=J<<3,J=(T=J>>11,-(J|0)-1-~T+2*(J&~T)),E=J+(J<<15)>>>0,W=new Number((l=(e=1<<S,-1-~e+~(e|1)-(~e|1)),(l|0)-2*~(E&l)+2*~l+(~E&l))),W[0]=(E>>>S)%B,p=W,x=20)}}},Q=function(w,Z,S,B,e,u){for(u=83;u!=97;)if(u==4)Z.OT=function(){return Z.DJ?Z.DJ:Z.DJ=new Z},Z.DJ=void 0,u=9;else if(u==37)B.s.splice(Z,Z,S),u=43;else if(u==11)u=w+1>>1<w&&(w-3^6)>=w?37:43;else if(u==43)u=(w&27)==w?68:74;else if(u==9)u=w-7&13?23:55;else if(u==26)u=(w^28)>>4>=1&&(w-8&11)<4?4:9;else if(u==74)u=(w&97)==w?48:26;else if(u==68)this.n++,S=Z-this.H,this.H+=S/this.n,this.UT+=S*(Z-this.H),u=74;else if(u==48)e=v5[S](v5.prototype,{replace:Z,call:Z,floor:Z,prototype:Z,document:Z,console:Z,parent:Z,splice:Z,propertyIsEnumerable:Z,stack:Z,length:Z,pop:Z}),u=26;else if(u==55)VR.call(this,Z?Z.type:\"\"),this.relatedTarget=this.currentTarget=this.target=null,this.button=this.screenY=this.screenX=this.clientY=this.clientX=this.offsetY=this.offsetX=0,this.key=\"\",this.charCode=this.keyCode=0,this.metaKey=this.shiftKey=this.altKey=this.ctrlKey=false,this.state=null,this.pointerId=0,this.pointerType=\"\",this.timeStamp=0,this.I=null,Z&&this.init(Z,S),u=23;else if(u==83)u=11;else if(u==23)return e},mH=function(w,Z,S,B,e,u,W,l,E,D,T,J,p,x){for(p=(T=26,0);;)try{if(T==60)break;else if(T==52)l=u.i,l(function(){mH(41,S,Z,Z,u)}),T=23;else if(T==94)T=w>>2<12&&((w^11)&14)>=7?81:58;else{if(T==82)return x;if(T==0)T=Z?55:11;else if(T==91)T=36;else if(T==86)p=40,E=nu(D,e,u,B),T=66;else if(T==55)T=typeof S!==\"function\"?67:87;else if(T==36)T=u.s.length?54:23;else if(T==26)T=94;else if(T==99)x=this.n===0?0:Math.sqrt(this.UT/this.n),T=25;else if(T==81)this.src=Z,this.l={},this.b4=0,T=58;else if(T==47)T=w>>1&13?25:99;else{if(T==67)throw Error(\"Invalid decorator function \"+S);if(T==54)u.i=null,D=u.s.pop(),T=86;else{if(T==11)throw Error(\"Invalid class name \"+Z);if(T==92)T=36;else if(T==66)p=0,T=21;else if(T==58)T=(w^54)>>4?47:92;else if(T==25)T=(w-5^7)>=w&&(w-8^10)<w?0:87;else if(T==23)x=E,T=47;else if(T==21)T=W&&u.i?52:91;else if(T==90)p=0,jv(64,\":\",u,J),T=66;else if(T==18){if(e.s.length){e.JN=(e.qd=(e.qd&&\":TQR:TQR:\"(),true),S);try{l=e.Z(),e.sT=0,e.rr=0,e.Jd=l,e.ZJ=l,E=mH(48,true,false,25,3,e,S),W=B?0:10,u=e.Z()-e.Jd,e.VB+=u,e.yB&&e.yB(u-e.j,e.P,e.G,e.rr),e.P=Z,e.j=0,e.G=Z,u<W||e.Md--<=0||(u=Math.floor(u),e.QB.push(u<=254?u:254))}finally{e.qd=Z}x=E}T=82}else T==87&&(T=(w^58)>>3==2?18:82)}}}}catch(b){if(p==0)throw b;p==40&&(J=b,T=90)}},I=function(w,Z,S,B,e,u,W,l,E,D,T){return(w>>((w-1|(w<<1<35&&w+5>=16&&(Z.B?D=$S(Z,Z.A):(S=GF(true,8,Z),S&128&&(S=-(S|0)+128+2*(S&-129),B=GF(true,2,Z),S=(S<<2)+(B|0)),D=S)),8))>=w&&(w-3^7)<w&&(Z.B?D=$S(Z,Z.A):(S=GF(true,8,Z),S&128&&(S=-(S|0)+128+2*(S&-129),B=GF(true,2,Z),S=(S<<2)+(B|0)),D=S)),2)&7||(D=T=function(){for(var J=31;J!=85;){if(J==15)return x;if(J==58)var p=[dh,e,u,void 0,(J=54,l),E,arguments];else if(J==0)J=W.T?58:70;else if(J==54)J=B==Z?40:69;else if(J==70)l&&E&&l.removeEventListener(E,T,P5),J=85;else if(J==40){var x=mH(45,(Q(35,0,p,W),false),false,false,W);J=15}else if(J==95){var b=!W.s.length;J=(Q(51,0,p,W),b&&mH(43,false,false,false,W),15)}else J==49?(x=nu(p,3,W,25),J=15):J==69?J=B==S?95:49:J==31&&(J=W.F==W?0:85)}}),w)+4>>3==3&&(D=S[B]<<24|S[~(B&1)- -6+3*(B&-2)+2*(~B^1)]<<Z|S[(B|0)+2]<<8|S[(B|0)+3]),D},zF=function(w,Z,S,B,e,u,W,l,E,D,T){{D=83;while(D!=w)if(D==83)D=68;else{if(D==38)return T;if(D==67)D=S-7>>4?38:7;else if(D==7){for(E in(W=B,Z).l){for(l=Z.l[u=B,E];u<l.length;u++)++W,y(l[u],32,e);delete (Z.b4--,Z.l)[E]}D=38}else D==3?(Z.YU(function(J){u=J},B,e),T=u,D=67):D==68&&(D=(S|32)==S?3:67)}}},a=function(w,Z,S,B,e,u,W,l,E,D){for(D=85;D!=52;)if(D==14)D=(B+4^29)<B&&(B-7^31)>=B?28:26;else if(D==85)D=57;else if(D==49)E=function(){},e=void 0,w=kS(Z,function(T,J){for(J=52;J!=21;)J==43?(S&&YS(S),e=T,E(),E=void 0,J=21):J==52&&(J=E?43:21)},!!S),W=w[1],u=w[0],l={top:function(T,J,p,x,b,F,C){for(F=52;F!=10;)if(F==72)F=J?2:36;else if(F==75)x=E,E=function(){x(),YS(C)},F=10;else{if(F==36)return b=u(p),T&&T(b),b;F==2?F=e?34:75:F==52?(C=function(){e(function(X){YS(function(){T(X)})},p)},F=72):F==34&&(C(),F=10)}},pe:function(T){W&&W(T)}},D=14;else{if(D==26)return l;D==28?(K(S,w,Z),w[sx]=2796,D=26):D==57&&(D=((B|4)&3)>=2&&B+6<19?49:14)}},Me=function(w,Z,S,B,e,u,W,l,E,D,T){for(T=8;T!=23;)if(T==33)T=S.classList?63:68;else if(T==63)Array.prototype.forEach.call(B,function(J,p,x){for(x=60;x!=85;)x==96?x=qe(19,1,0,J,S)?85:65:x==60?x=S.classList?93:96:x==93?(S.classList.add(J),x=85):x==65&&(p=bn(14,6,\"string\",\"class\",S),Cu(26,\"string\",S,p+(p.length>0?\" \"+J:J)),x=85)}),T=w;else{if(T==w)return D;if(T==8)T=52;else if(T==82)T=e+8>>2<e&&e-7<<2>=e?33:w;else if(T==46){a:{for(l=S;l<u.length;++l)if(E=u[l],!E.hd&&E.listener==W&&E.capture==!!B&&E.nv==Z){D=l;break a}D=-1}T=82}else if(T==52)T=(e<<1&7)>=2&&(e|1)>>5<3?46:82;else if(T==68){for(Z in(Array.prototype.forEach.call(h(5,(u={},\"class\"),S),function(J){u[J]=true}),Array.prototype).forEach.call(B,function(J){u[J]=true}),W=\"\",u)W+=W.length>0?\" \"+Z:Z;T=(Cu(24,\"string\",S,W),w)}}},y=function(w,Z,S,B,e,u,W,l){for(l=78;l!=23;)if(l==56)l=(Z^33)>=-55&&(Z+9&13)<5?97:28;else if(l==11)l=(Z>>2&11)==1?77:39;else if(l==78)l=56;else if(l==95)u=function(){},u.prototype=B.prototype,w.h=B.prototype,w.prototype=new u,w.prototype.constructor=w,w.yS=function(E,D,T){for(var J=79;J!=5;){if(J==52)return B.prototype[D].apply(E,p);if(J==14)J=94;else if(J==48)x++,J=94;else if(J==93)p[x-S]=arguments[x],J=48;else if(J==94)J=x<arguments.length?93:52;else if(J==79)var p=Array((J=14,arguments.length-S)),x=S}},l=81;else if(l==57)w.hd=S,w.listener=null,w.proxy=null,w.src=null,w.nv=null,l=11;else if(l==97)e=w.type,l=36;else if(l==77)W=!!(B=w.vL,-~S+(B&~S)+(~B^S)),l=39;else if(l==13)y(w,52,S),l=12;else{if(l==81)return W;l==54?(delete B.l[e],B.b4--,l=28):l==36?l=e in B.l&&XK(58,B.l[e],w,1,8)?13:28:l==39?l=(Z-7&16)<7&&(Z-2&15)>=8?95:81:l==28?l=Z<<2&15?11:57:l==12&&(l=B.l[e].length==0?54:28)}},p$=function(w,Z,S,B,e,u,W,l,E){while(w+9>>3>=0&&w-3<14){switch(!(u=io(\"splice\",B,\"null\")===\"array\"?B:[B],this.J)){case true:while([]){try{W=[],e=!this.s.length,Q(36,0,[Dj,W,u],this),Q(67,0,[xf,S,W],this),Z&&!e||mH(40,false,Z,true,this)}catch(D){jv(70,\":\",this,D),S(this.J)}if(null!=false)break}break;case false:S(this.J);break}if(\"R\")break}w>>1&7||(B=v5[Z.W](Z.kY),B[Z.W]=function(){return S},B.concat=function(D){S=D},E=B);switch(!!(w-7&7)){case 0===-0:0;break;case NaN===NaN:for(l=I(56,B),W=0;Z>0;Z--)W=(e=W<<8,u=lo(true,B,8),S*(e&u)+~e+~u-2*(~e^u));m(B,l,W);break}return E},Ty=function(w,Z,S,B,e){for(B=20;B!=22;)if(B==18)B=(Z-1|13)>=Z&&(Z-w|27)<Z?16:15;else if(B==20)B=18;else{if(B==61)return e;B==16?(this.fv=this.fv,this.N=this.N,B=15):B==54?(e=Object.prototype.hasOwnProperty.call(S,F8)&&S[F8]||(S[F8]=++bo),B=61):B==15&&(B=Z>>1&3?61:54)}},h=function(w,Z,S,B,e,u,W,l,E,D,T){for(T=80;T!=37;)if(T==35)l=this.constructor,T=32;else if(T==80)T=93;else if(T==59)Ox.call(this,B),T=64;else if(T==28)T=Array.isArray(B)?2:94;else if(T==71)T=96;else if(T==67)T=w+6>>3==3?59:69;else if(T==20)h(10,\"object\",true,B[E],e,u,W,l),T=76;else if(T==12)T=E<B.length?20:67;else if(T==94)e=jv(18,e),l&&l[W5]?l.o.add(String(B),e,S,h(29,Z,u)?!!u.capture:!!u,W):fu(12,\"object\",false,l,B,u,S,e,W),T=67;else if(T==92)B=typeof S,D=B==Z&&S!=null||B==\"function\",T=91;else if(T==75)l=(u=Object.getPrototypeOf(l.prototype))&&u.constructor,T=71;else if(T==93)T=(w&69)==w?89:36;else if(T==91)T=w+8&13?67:28;else if(T==30)T=(E=tS[W])?33:75;else if(T==48)e=E?typeof E.OT===\"function\"?E.OT():new E:null,T=34;else if(T==2)E=0,T=74;else if(T==36)T=(w|24)==w?92:91;else if(T==34)this.D=e,T=69;else if(T==32)T=96;else if(T==96)T=l?63:48;else if(T==76)E++,T=12;else{if(T==69)return D;T==64?T=(e=S)?34:35:T==74?T=12:T==33?T=48:T==63?(W=Ty(9,9,l),T=30):T==89&&(D=S.classList?S.classList:bn(14,8,\"string\",Z,S).match(/\\\\S+/g)||[],T=36)}},fu=function(w,Z,S,B,e,u,W,l,E,D,T,J,p,x,b){{x=8;while(x!=50)if(x==42)x=(w|56)==w?36:26;else{if(x==22)throw Error(\"addEventListener and attachEvent are unavailable.\");if(x==87)x=83;else if(x==36){if(((B.R+=(E=(D=(S||B.sT++,B.oO>0&&B.qd&&B.JN&&B.pv<=1&&!B.B&&!B.i&&(!S||B.ls-u>1)&&document.hidden==0),(l=B.sT==4)||D)?B.Z():B.ZJ,W=E-B.ZJ,W>>14)>0,B.L&&(B.L^=(B.R+1>>Z)*(W<<Z)),B).F=B.R+1>>Z!=0||B.F,l)||D)B.ZJ=E,B.sT=0;x=(D?(B.oO>B.rr&&(B.rr=B.oO),E-B.Jd<B.oO-(e?255:S?5:2)?b=false:(B.ls=u,T=v(S?269:94,B),V(94,B,B.g),B.s.push([ek,T,S?u+1:u,B.P,B.G]),B.i=YS,b=true)):b=false,26)}else if(x==83)x=(w&76)==w?90:42;else if(x==57)p=qe(8),D.proxy=p,p.src=B,p.listener=D,x=32;else if(x==88)this.n===0?b=[0,0]:(this.Y.sort(function(F,C){return F-C}),b=[this.n,this.Y[this.Y.length>>1]]),x=45;else if(x==32)x=B.addEventListener?68:71;else if(x==10)B.addListener(p),x=98;else if(x==89)B.attachEvent(ln(2,e.toString(),\"on\",3),p),x=98;else{if(x==26)return b;if(x==8)x=67;else if(x==33)x=D.proxy?42:57;else if(x==48)J=h(27,Z,u)?!!u.capture:!!u,(T=DP(81,B,13))||(B[Sv]=T=new TF(B)),D=T.add(e,l,W,J,E),x=33;else if(x==67)x=((w|8)&3)==2?88:45;else if(x==98)ev++,x=42;else if(x==71)x=B.attachEvent?89:23;else if(x==90)x=e?48:17;else{if(x==17)throw Error(\"Invalid event type\");x==68?(Jx||(u=J),u===void 0&&(u=S),B.addEventListener(e.toString(),p,u),x=98):x==23?x=B.addListener&&B.removeListener?10:22:x==45&&(x=(w>>1&9)==1?87:83)}}}}},uo=function(w,Z,S,B,e,u,W,l,E,D,T,J,p,x,b,F){for(F=69;F!=74;)if(F==7)b=Math.floor(this.VB+(this.Z()-this.Jd)),F=96;else if(F==63)S.eh&&S.eh.forEach(Z,void 0),F=89;else if(F==69)F=14;else if(F==96)F=(w^54)>>3?89:63;else if(F==84)F=W?80:10;else if(F==80){a:{for(x=(D=u.split((p=Zj,Z)),e);x<D.length-B;x++){if(!((l=D[x],l)in p))break a;p=p[l]}(E=W((T=(J=D[D.length-B],p[J]),T)),E)!=T&&E!=S&&BU(p,J,{configurable:true,writable:true,value:E})}F=10}else if(F==14)F=(w>>2&7)>=3&&w>>1<14?7:96;else if(F==89)F=w-1&6?10:84;else if(F==10)return b},Eb=function(w,Z,S,B,e,u,W,l,E,D,T,J){{J=36;while(J!=46)if(J==36)J=18;else if(J==89)J=((Z|2)&7)==2?w:52;else if(J==97)J=D<E.length?40:0;else if(J==55)e=S,T=function(){return e<B.length?{done:false,value:B[e++]}:{done:true}},J=89;else if(J==w)this[this+\"\"]=this,J=52;else if(J==7)J=(Z&105)==Z?53:87;else if(J==40)Eb(63,29,true,false,e,u,W,l,E[D]),J=61;else if(J==18)J=(Z^44)>>3==3?55:89;else if(J==52)J=Z+3&22?0:83;else if(J==61)D++,J=97;else if(J==32)D=0,J=74;else if(J==74)J=97;else if(J==53)this.n++,J=91;else{if(J==87)return T;J==0?J=(Z+9&16)<13&&(Z+6&15)>=9?65:7:J==22?(B=Math.floor(Math.random()*this.n),B<50&&(this.Y[B]=S),J=87):J==91?J=this.Y.length<50?43:22:J==19?(l=jv(17,l),u&&u[W5]?u.o.add(String(E),l,B,h(57,\"object\",e)?!!e.capture:!!e,W):fu(8,\"object\",false,u,E,e,B,l,W),J=0):J==23?(h(8,\"object\",S,E,l,e,W,u),J=0):J==83?J=e&&e.once?23:73:J==73?J=Array.isArray(E)?32:19:J==43?(this.Y.push(S),J=87):J==65&&(u=B,u=(W=u<<13,-(u|0)-(W|0)+2*(u|W)),u=(E=u>>17,(E|0)+~E-(~u^E)),u=(l=u<<5,2*(u|0)- -1+2*~u-(~u^l)),(u&=e)||(u=1),T=S^u,J=7)}}},U=function(w,Z,S,B,e,u,W,l,E,D,T){return w-((w<<2&13||(e=[-1,23,-11,64,37,-64,e,-64,-15,-53],D=B&7,l=WU,E=v5[u.W](u.hN),E[u.W]=function(J){D+=6+7*B;while(true)if(D=(D|0)-2*(D&-8)-(~D^7)+(D|-8),\"J\")break;W=J},E.concat=function(J,p,x,b){return(W=(p=(J=(x=S%16+1,3010*W+(l()|0)*x+e[D+75&7]*S*x-140*S*S*W-805*S*W)-x*W+4*S*S*x+35*W*W+D,e)[J],void 0),e[(b=D+Z,-(b|7)-2*~(b|7)+(b^7)+2*(~b^7))+(B&2)]=p,e)[D+(B&2)]=23,p},T=E),(w|8)>=-80)&&w+4>>4<1&&(B=lo(true,S,8),128-~(B&128)+-129&&(B=127-~B+~(B|127)|lo(true,S,8)<<Z),T=B),9)&9||(Z.B?T=$S(Z,Z.A):(S=GF(true,8,Z),S&128&&(S=-(S|0)+128+2*(S&-129),B=GF(true,2,Z),S=(S<<2)+(B|0)),T=S)),T},DP=function(w,Z,S,B,e,u,W,l,E,D,T,J){{T=89;while(T!=92)if(T==89)T=29;else if(T==w)this.type=Z,this.currentTarget=this.target=B,this.defaultPrevented=this.l4=false,T=67;else if(T==29)T=(S+7^6)>=S&&(S+9&54)<S?61:8;else if(T==77)B=Z[Sv],J=B instanceof TF?B:null,T=70;else{if(T==70)return J;T==8?T=(S>>1&6)<2&&S+6>=20?w:67:T==61?(J=(D=Sk[Z.substring(0,3)+\"_\"])?D(Z.substring(3),B,e,u,W,l,E):Ne(80,40,Z,B),T=8):T==67&&(T=(S>>1&10)<5&&S+5>>3>=2?77:70)}}},RD=function(w,Z,S,B,e,u,W,l,E,D,T){for(T=64;T!=12;){if(T==40)return D;if(T==69)D=Math.floor(this.Z()),T=40;else if(T==11){a:{switch(E){case B:D=l?\"disable\":\"enable\";break a;case e:D=l?\"highlight\":\"unhighlight\";break a;case 4:D=l?\"activate\":\"deactivate\";break a;case u:D=l?\"select\":\"unselect\";break a;case 16:D=l?\"check\":\"uncheck\";break a;case W:D=l?\"focus\":\"blur\";break a;case 64:D=l?\"open\":\"close\";break a}throw Error(\"Invalid component state\");}T=10}else T==4?T=(S&93)==S?11:10:T==64?T=4:T==10&&(T=(S+4&Z)<w&&(S|1)>=27?69:40)}},n=function(w,Z,S){if(S=Z.T[w],S===void 0)throw[HU,30,w];if(S.value)return S.create();return(S.create(w*4*w+23*w+-86),S).prototype},gP=function(w,Z){{var S=54;while(S!=47)if(S==57){var B=arguments[u];for(W in B)w[W]=B[W];var e=(S=68,0)}else if(S==54)var u=(S=28,1);else if(S==97){var W=oL[e];S=(Object.prototype.hasOwnProperty.call(B,W)&&(w[W]=B[W]),82)}else S==28?S=88:S==30?S=e<oL.length?97:76:S==88?S=u<arguments.length?57:47:S==82?(e++,S=30):S==76?(u++,S=88):S==68&&(S=30)}},H5=function(w,Z,S,B,e,u,W,l){return h.call(this,18,w,Z,S,B,e,u,W,l)},IL=function(w,Z,S,B,e,u,W,l){(Z.push((W=w[0]<<24|w[1]<<16,B=w[2]<<8,-~(W|B)+(~W&B)+(W|~B))|w[3]),Z).push((S=w[4]<<24|w[5]<<16,e=w[6]<<8,-~S+2*(S^e)+2*(~S^e)-(S|~e))|w[7]),Z.push((u=w[8]<<24|w[9]<<16|w[10]<<8,l=w[11],-(u&l)-2*~(u&l)+-2+(u^l)))},Y=function(w,Z,S,B){S=(Z|0)-1;{B=[];while(S>=0)B[-2*~(Z&1)+-4+(Z^1)-(S|0)]=w>>S*8&255,S--}return B},QR=function(w,Z,S,B,e,u){return bn.call(this,14,35,w,Z,S,B,e,u)},kS=function(w,Z,S,B,e,u,W,l){return DP.call(this,81,w,55,Z,S,B,e,u,W,l)},VR=function(w,Z){return DP.call(this,81,w,16,Z)},lo=function(w,Z,S){return Z.B?$S(Z,Z.A):GF(w,S,Z)},jk=function(w,Z){function S(){this.UT=this.H=this.n=0}if(true)S.prototype.RO=function(B,e){return Q.call(this,16,B,e)};return[function(B){Z.RO(B),w.RO(B)},(w=(S.prototype.wS=function(){return mH.call(this,64)},Z=new S,new S),function(B){return w=(B=[Z.wS(),w.wS(),Z.H,w.H],new S),B})]},m=function(w,Z,S){if(Z==94||Z==269)w.T[Z]?w.T[Z].concat(S):w.T[Z]=p$(49,w,S);else{while(w.kU&&Z!=13){return;if(12)break}Z==209||Z==438||Z==491||Z==169||Z==84||Z==225||Z==463||Z==432||Z==66||Z==400?w.T[Z]||(w.T[Z]=U(16,13,Z,150,S,w)):w.T[Z]=U(28,13,Z,17,S,w)}Z==13&&(w.L=GF(false,32,w),w.O=void 0)},N9=function(w,Z,S,B,e,u,W,l,E,D,T,J,p,x){if(!Z.kU&&(x=void 0,w&&w[0]===HU&&(x=w[2],S=w[1],w=void 0),u=z(Z,84),u.length==0&&(J=z(Z,269)>>3,u.push(S,J>>8&255,J&255),x!=void 0&&u.push(-~(x&255)+(x&-256)+(~x|255))),p=\"\",w&&(w.message&&(p+=w.message),w.stack&&(p+=\":\"+w.stack)),l=v(400,Z),l[0]>3)){while(0==![\"\"])if(NaN!==(p=p.slice(0,(D=l[0],-(~D^3)-(~D&3)+(D|-4))),NaN))break;Z.F=(e=(p=(l[0]-=(E=p.length,2*(E&3)+~E-~(E|3)+(E&-4)),K$(6,\"\\\\n\",p)),Z).F,Z);try{Z.Pz?(T=(T=n(B,Z))&&T[T.length-1]||95,(W=n(463,Z))&&W[W.length-1]==T||q9([T&255],66,Z,463)):M([95],Z,B),q9(Y(p.length,2).concat(p),66,Z,438,51)}finally{Z.F=e}}},M=function(w,Z,S,B,e,u,W,l,E){if(Z.F==Z)for(e=n(S,Z),S==438||S==66||S==169?(u=function(D,T,J,p,x,b,F,C){for(b=(F=97,13);;)try{if(F==30)break;else{if(F==10)throw b=13,C;F==73?(b=2,e.aO=hx(0,I(26,16,e,(J|0)+4),2,I(21,16,e,J),p),F=60):F==79?(p=[0,0,W[1],W[2]],J=(x<<3)-4,e.dr=x,F=73):F==60?(e.push(e.aO[T&7]^D),F=30):F==37?F=e.dr!=x?79:60:F==97&&(T=e.length,x=(T|0)-4>>3,F=37)}}catch(X){if(b==13)throw X;b==2&&(C=X,F=10)}},W=n(432,Z)):u=function(D){e.push(D)},B&&u((B|255)-(B&-256)+(~B^255)-(~B|255)),l=w.length,E=0;E<l;E++)u(w[E])},VU=function(w,Z){return Cu.call(this,32,w,Z)},Ub=function(w,Z,S,B,e,u){return a.call(this,S,w,Z,3,B,e,u)},nu=function(w,Z,S,B,e,u,W,l,E,D,T,J){if(\"e\")D=w[0];if(D==Dj)S.G=true,S.Md=B,S.U(w);else if(D==xf){u=w[1];try{T=S.J||S.U(w)}catch(p){jv(68,\":\",S,p),T=S.J}u((e=S.Z(),T)),S.j+=S.Z()-e}else if(D==ek)w[Z]&&(S.P=true),w[4]&&(S.G=true),S.U(w);else switch(!(D==dP)){case true:switch(!(D==PU)){case ![]==0:if(D==dh)return J=w[2],V(477,S,w[6]),V(303,S,J),S.U(w);D==Gy?(S.U(w),S.FO=[],S.QB=[],S.T=null):D==sx&&r.document.readyState===\"loading\"&&(S.i=function(p,x){function b(F){for(F=59;F!=3;)F==78?(x=true,r.document.removeEventListener(\"DOMContentLoaded\",b,P5),r.removeEventListener(\"load\",b,P5),p(),F=3):F==59&&(F=x?3:78)}r.document.addEventListener(\"DOMContentLoaded\",b,(x=false,P5)),r.addEventListener(\"load\",b,P5)});break;case false==0==[]:try{{W=0;while(W<S.ET.length){try{l=S.ET[W],l[0][l[1]](l[2])}catch(p){}W++}}}catch(p){}if(S.ET=[],7)E=S.Z();while({})if((0,w[1])(function(p,x){S.YU(p,true,x)},function(p){(Q(52,0,(p=!S.s.length,[Gy]),S),p)&&mH(42,false,true,false,S)},function(p){return S.XO(p)},function(p,x,b){return S.BL(p,x,b)}),true)break;S.j+=S.Z()-E;break}break;case true==![]:S.P=true,S.U(w);break}},Ax=function(){return fu.call(this,3)},aL=function(w,Z,S){for(S=70;S!=65;){if(S==95)return Z;S==70?(Z=[],S=82):S==23?(Z.push(Math.random()*255|0),S=5):S==5?S=98:S==82?S=98:S==98&&(S=w--?23:95)}},Ox=function(w){return aD.call(this,w,10)},kf=function(w,Z,S,B,e,u){try{e=w[((Z|0)+2)%3],w[Z]=(u=(w[Z]|0)-(w[(2*(Z&1)+~(Z&1)- -2+(Z&-2))%3]|0)-(e|0),B=Z==1?e<<S:e>>>S,-2-(u|~B)-(~u|B))}catch(W){throw W;}},cU=function(w,Z,S,B,e,u,W,l,E,D){if((((l=I(w,(e=S[RL]||{},S)),e).bs=U(13,S),e).X=[],-0)===Number())D=S.F==S?(W=lo(true,S,B),-~(W&1)+-2+(W&-2)):1;for(u=I(13,S),E=Z;E<D;E++)e.X.push(U(15,S));for((e.xU=n(l,S),e).Zf=z(S,u);D--;)e.X[D]=n(e.X[D],S);return e},q9=function(w,Z,S,B,e,u,W,l,E,D){if(S.F==S)for(E=z(S,B),B==438||B==Z||B==169?(D=function(T,J,p,x,b,F,C,X){for(F=(C=92,77);;)try{if(C==95)break;else if(C==69)F=27,E.aO=hx(0,I(25,16,E,(b|0)+4),2,I(20,16,E,b),p),C=79;else if(C==79)E.push(E.aO[J&7]^T),C=95;else if(C==47)p=[0,0,l[1],l[2]],b=(x<<3)-4,E.dr=x,C=69;else if(C==88)C=E.dr!=x?47:79;else{if(C==43)throw F=77,X;C==92&&(J=E.length,x=(J|0)-4>>3,C=88)}}catch(A){if(F==77)throw A;F==27&&(X=A,C=43)}},l=z(S,432)):D=function(T){E.push(T)},e&&D((e|255)-(e&-256)+(~e^255)-(~e|255)),u=0,W=w.length;u<W;u++)D(w[u])},io=function(w,Z,S,B,e){if((e=typeof Z,e)==\"object\")if(Z){if(Z instanceof Array)return\"array\";if(Z instanceof Object)return e;if((B=Object.prototype.toString.call(Z),B)==\"[object Window]\")return\"object\";while(B==\"[object Array]\"||typeof Z.length==\"number\"&&typeof Z.splice!=\"undefined\"&&typeof Z.propertyIsEnumerable!=\"undefined\"&&!Z.propertyIsEnumerable(w)){return\"array\";if(false==0)break}if(B==\"[object Function]\"||typeof Z.call!=\"undefined\"&&typeof Z.propertyIsEnumerable!=\"undefined\"&&!Z.propertyIsEnumerable(\"call\"))return\"function\"}else return S;else if(e==\"function\"&&typeof Z.call==\"undefined\")return\"object\";if({})return e},pu=function(w,Z){return Q.call(this,7,w,Z)},QU=function(){return Ne.call(this,80,3)},tx=function(w,Z,S,B,e){return Me.call(this,54,S,w,Z,12,B,e)},Ux=function(){return ID.call(this,20)},vU=function(w,Z,S,B,e,u,W){if(true!=((e=z(w,(W=(u=I(50,(S=(Z|0)+(~Z^3)-(Z|(B=Z&4,-4)),w)),I(50,w)),u)),B)&&(e=K$(6,\"\\\\n\",\"\"+e)),S&&M(Y(e.length,2),w,W),[]))M(e,w,W)},X8=function(w,Z,S,B,e,u,W,l,E){if(!S.J){if(S.pv++,0==![])try{W=0,E=S.g;{l=void 0;while(--Z)try{if((u=void 0,S).B)l=$S(S,S.B);else{if((W=v(94,S),W)>=E)break;l=(u=(V(B,S,W),I)(16,S),n)(u,S)}fu(56,2,false,(l&&(e=l[Gy],(e|2048)- -1-(e&-2049)+(e|-2049))?l(S,Z):N9([HU,21,u],S,0,225),S),false,Z)}catch(D){n(w,S)?N9(D,S,22,225):V(w,S,D)}}switch(!!Z){case 0==![undefined]:false;break;case false==null:switch(!S.nw){case Number()==![\"\"]:(true!=![]).true;break;case ![]!=0:X8(486,143864540820,(S.pv--,S),269);return;break}N9([HU,33],S,0,225);break}}catch(D){try{N9(D,S,22,225)}catch(T){jv(66,\":\",S,T)}}S.pv--}},$f=function(w,Z,S,B,e){return hS.call(this,w,3,Z,S,e,B)},$S=function(w,Z,S){return(S=Z.create().shift(),w.B.create().length||w.A.create().length)||(w.B=void 0,w.A=void 0),S},O=function(w,Z,S,B,e,u,W){W=this;try{zy(B,Z,e,S,u,w,this)}catch(l){jv(64,\":\",this,l),w(function(E){E(W.J)})}},GF=function(w,Z,S,B,e,u,W,l,E,D,T,J,p,x,b,F,C){if(b=z(S,94),b>=S.g)throw[HU,31];for(x=(E=(C=Z,b),D=0,S).aH.length;C>0;)F=E>>3,e=E%8,u=S.FO[F],J=8-(e|0),B=J<C?J:C,w&&(p=S,W=E,p.O!=W>>6&&(p.O=W>>6,l=v(13,p),p.mE=hx(0,p.O,2,p.L,[0,0,l[1],l[2]])),u^=S.mE[F&x]),D|=(u>>8-(e|0)-(B|0)&(1<<B)-1)<<(C|0)-(B|0),E+=B,C-=B;return K(94,(T=D,(b|0)+(Z|0)),S),T},P,BU=typeof Object.defineProperties==\"function\"?Object.defineProperty:function(w,Z,S,B){{B=31;while(B!=58)if(B==31)B=w==Array.prototype||w==Object.prototype?88:35;else{if(B==88)return w;if(B==35)return w[Z]=S.value,w}}},TF=function(w){return mH.call(this,3,w)},K=function(w,Z,S){if(w==94||w==269)S.T[w]?S.T[w].concat(Z):S.T[w]=p$(33,S,Z);else{for(Number();S.kU&&w!=13;false){return;if(true==![]!=![]!=null)break}w==209||w==438||w==491||w==169||w==84||w==225||w==463||w==432||w==66||w==400?S.T[w]||(S.T[w]=U(32,13,w,150,Z,S)):S.T[w]=U(20,13,w,17,Z,S)}w==13&&(S.L=GF(false,32,S),S.O=void 0)},Ob=function(w,Z,S,B){B=I(16,(S=I(55,Z),Z)),M(Y(v(S,Z),w),Z,B)},yU=function(w,Z,S,B,e,u){return n(303,(K((X8(486,e,((u=z(B,94),B).FO&&u<B.g?(V(94,B,B.g),C$(94,225,Z,S,B,104)):K(94,Z,B),B),w),94),u,B),B))},V=function(w,Z,S){switch(!(w==94||w==269)){case 0==![undefined]:switch(!(Z.kU&&w!=13)){case true:false;break;case ![]:return;break}w==209||w==438||w==491||w==169||w==84||w==225||w==463||w==432||w==66||w==400?Z.T[w]||(Z.T[w]=U(12,13,w,150,S,Z)):Z.T[w]=U(24,13,w,17,S,Z);break;case false:Z.T[w]?Z.T[w].concat(S):Z.T[w]=p$(48,Z,S);break}w==13&&(Z.L=GF(false,32,Z),Z.O=void 0)},hx=function(w,Z,S,B,e,u,W,l){for(W=(u=e[S]|(l=w,w),e)[3]|w;l<15;l++)Z=Z>>>8|Z<<24,Z+=B|w,Z^=u+1906,B=B<<3|B>>>29,W=W>>>8|W<<24,W+=u|w,u=u<<3|u>>>29,W^=l+1906,u^=W,B^=Z;return[B>>>24&255,B>>>16&255,B>>>8&255,B>>>w&255,Z>>>24&255,Z>>>16&255,Z>>>8&255,Z>>>w&255]},rP=function(w,Z,S,B,e){if(w.length==3){for(S=0;S<3;S++)Z[S]+=w[S];e=0;{B=[13,8,13,12,16,5,3,10,15];while(e<9)Z[3](Z,e%3,B[e]),e++}}},Yf=function(w,Z){function S(){this.n=(this.Y=[],0)}return[(w=new (Z=((S.prototype.Gy=function(B,e){return Eb.call(this,63,9,B,e)},S.prototype).Ta=function(){return fu.call(this,18)},new S),S),function(B){(Z.Gy(B),w).Gy(B)}),function(B){return B=Z.Ta().concat(w.Ta()),w=new S,B}]},v=function(w,Z,S){S=Z.T[w];for(false;S===void 0;void(null!=false)){throw[HU,30,w];if(false==![])break}if(S.value)return S.create();return S.create(w*4*w+23*w+-86),S.prototype},M9=function(){while({}){return jv.call(this,10);if({})break}},f$=function(w,Z,S){return XK.call(this,58,S,Z,w,33)},wh=function(){return Ty.call(this,9,3)},sb=function(w){return jv.call(this,5,w)},AS=function(){return Cu.call(this,10)},z=function(w,Z,S){if(S=w.T[Z],S===void 0)throw[HU,30,Z];while(S.value){return S.create();if(\"b\")break}return S.create(Z*4*Z+23*Z+-86),S.prototype},zy=function(w,Z,S,B,e,u,W,l,E,D){for(E=(W.kY=(W.hN=Q((W.EZ=(W.aH=(W.VS=wk,W[xf]),L$),33),{get:function(){return this.concat()}},W.W),v5)[W.W](W.hN,{value:{value:{}}}),l=0,[]);l<376;l++)E[l]=String.fromCharCode(l);(W.fw=(W.u4=[],W.oO=0,W.RH=(W.G=false,S),W.i=(W.ET=[],W.sT=void 0,W.P=!(W.mE=(W.i4=void 0,W.R=1,W.ZJ=(W.Md=25,0),W.Cw=((W.s=[],W).qd=false,[]),W.VB=0,void 0),W.rS=function(T){return ID.call(this,10,T)},W.ls=8001,D=((W.FO=[],W.B=void 0,W).g=0,window.performance||{}),W.Kw=(W.pv=(W.kU=false,0),W.JN=(W.J=void 0,W.F=W,false),W.A=void 0,[]),1),W.Pz=(W.L=(W.j=0,void 0),W.rr=0,W.Jd=0,false),W.QB=[],null),W.T=[],W.yB=B,W.HL=0,W.O=void 0,D.timeOrigin||(D.timing||{}).navigationStart||0),w&&w.length==2)&&(W.Kw=w[0],W.Cw=w[1]);while(Z){try{W.i4=JSON.parse(Z)}catch(T){W.i4={}}if(true)break}while(\"L\")if(a(function(T,J,p,x,b,F,C,X,A){{A=46;while(A!=95)A==72?(m(T,b,x),A=95):A==96?(C=(p=U(6,7,T),3*(C&p)+~(C&p)-(~C^p))%J,x.push(F[C]),A=28):A==23?A=X--?96:72:A==60?A=23:A==46?(b=U(13,T),X=U(10,7,T),x=[],F=n(26,T),J=F.length,C=0,A=60):A==28&&(A=23)}},W,30,18),true)break;a(function(T,J,p,x,b){for(b=7;b!=93;)b==6?(x=I(8,T),p=I(71,T),m(T,p,function(F){return eval(F)}(TM(v(x,T.F)))),b=93):b==7&&(b=fu(57,2,true,T,false,J)?93:6)},(V(84,W,(a(function(T){Ob(1,T)},W,230,(a(function(T,J,p,x,b,F,C,X,A,N,g,d,L,ZP,c,k,Ex,q){for(q=49;q!=94;)q==18?(b=d,c=[],q=12):q==55?(ZP++,q=27):q==49?(Ex=function(f,B5){for(;g<f;)k|=lo(true,T,8)<<g,g+=8;return B5=k&((g-=f,1)<<f)-1,k>>=f,B5},F=I(12,T),g=k=0,d=(Ex(3)|0)+1,C=Ex(5),J=0,A=[],X=0,q=63):q==57?(a(function(f,B5,un,FK,t,R){for(R=75;R!=81;)R==48?R=61:R==69?R=B5<C?97:17:R==61?R=t>=FK.length?18:35:R==92?(un.push(t),R=31):R==40?R=61:R==83?R=69:R==97?(t=x[B5],R=49):R==35?(t=FK[t],R=92):R==31?(B5++,R=69):R==18?(FK.push(I(13,f)),R=48):R==49?R=A[B5]?92:40:R==17?(f.B=p$(32,f,c.slice()),f.A=p$(17,f,un),R=81):R==75&&(FK=[],un=[],B5=0,R=83)},T,F,13),q=94):q==78?(N=Ex(1),A.push(N),J+=N?0:1,q=0):q==11?(A[p]&&(x[p]=I(15,T)),q=91):q==79?q=X<C?78:2:q==0?(X++,q=79):q==15?q=26:q==7?q=b--?29:57:q==45?q=7:q==91?(p++,q=26):q==2?(L=(2*(J&1)+-4-(J^1)-2*(~J^1)).toString(2).length,x=[],ZP=0,q=9):q==9?q=27:q==12?q=7:q==26?q=p<C?11:18:q==29?(c.push(z(T,I(40,T))),q=45):q==72?(p=0,q=15):q==34?(A[ZP]||(x[ZP]=Ex(L)),q=55):q==63?q=79:q==27&&(q=ZP<C?34:72)},(a(function(T,J,p,x,b){for(b=39;b!=20;)b==11?b=73:b==77?(K(94,T.g,T),b=20):b==7?b=p?35:77:b==0?(J--,b=73):b==44?(p[84]=T.T[84],p[400]=T.T[400],T.T=p,b=20):b==8?(x=I(16,T),p[x]=T.T[x],b=0):b==35?(J=lo(true,T,8),b=11):b==39?(p=T.u4.pop(),b=7):b==73&&(b=J>0?8:44)},(K(337,((V(400,(V((m(W,94,(a(function(T,J,p,x,b,F,C,X,A){{A=79;while(A!=39)A==79?(J=I(15,T),b=I(12,T),F=I(54,T),x=z(T,b),p=v(J,T),X=0,C=\"\",A=58):A==75?(X++,A=87):A==34?(m(T,F,C in x|0),A=39):A==23?(C+=String.fromCharCode(p[X]^121),A=75):A==58?A=87:A==87&&(A=X<p.length?23:34)}},W,298,(a(function(T,J,p,x,b,F,C,X,A){for(A=47;A!=28;)A==57?(X+=String.fromCharCode(J[C]^121),A=34):A==96?A=C<J.length?57:13:A==90?A=96:A==34?(C++,A=96):A==47?(F=I(7,T),x=I(49,T),b=I(11,T),p=v(F,T),J=v(x,T),X=\"\",C=0,A=90):A==13&&(V(b,T,p[X]),A=28)},W,2,18),18)),0)),269),W,0),W),[2048]),a)(function(T,J,p,x,b,F,C,X,A,N,g,d,L,ZP,c){{c=77;while(c!=22)if(c==13)d=d>0?d:1,g=0,p=L.length,c=57;else if(c==53)N(L.slice(g,-2*~g+2*(g&~d)-(g|~d)+3*(~g|d)),A),c=93;else if(c==70){for(C in b=[],L)b.push(C);c=(L=b,51)}else c==57?c=26:c==51?c=T.F==T?13:22:c==91?(x=I(54,T),ZP=I(15,T),F=I(7,T),X=I(38,T),L=v(x,T),N=v(ZP,T),A=v(X,T),d=z(T,F),c=23):c==93?(g+=d,c=26):c==26?c=g<p?53:22:c==23?c=io(\"splice\",L,\"null\")==\"object\"?70:51:c==77&&(c=fu(59,2,true,T,true,J)?22:91)}},W,424,16),[]),W),W),49,16),W),410,15),15)),[])),W),356,19);while(![undefined]==0)if(a(function(){},W,292,17),[])break;a(function(T,J,p,x,b,F){x=I(40,T);while(![]!=true)if(p=I(39,T),true)break;m(T,(b=z(T,(F=U(47,T),J=n(p,T),x)),F),b[J])},(a(function(T,J,p,x,b){if(!!null==Number())p=I(11,T);while(true)if(b=I(18,T),\"D\")break;(x=(J=v(p,T)!=0,n)(b,T),J)&&K(94,x,T)},(a((a(function(T,J,p,x,b,F,C,X,A,N){for(N=87;N!=48;)N==87?N=fu(60,2,true,T,false,J)?48:34:N==34&&(C=cU(11,0,T.F,8),p=C.Zf,b=C.bs,X=C.X,A=C.xU,x=X.length,F=x==0?new p[A]:x==1?new p[A](X[0]):x==2?new p[A](X[0],X[1]):x==3?new p[A](X[0],X[1],X[2]):x==4?new p[A](X[0],X[1],X[2],X[3]):2(),K(b,F,T),N=48)},W,412,(a(function(T,J,p,x,b,F,C,X,A,N,g){for(g=67;g!=46;)g==76?g=X!==0?75:46:g==67?(J=I(55,T),p=I(15,T),A=U(29,T),b=I(18,T),x=n(A,T),C=v(p,T),X=v(J,T.F),F=v(b,T),g=76):g==75&&(N=I(3,2,1,1,x,F,T,X,C),X.addEventListener(C,N,P5),z(T,337).push(function(){X.removeEventListener(C,N,P5)}),V(208,T,[X,C,N]),g=46)},W,((m(W,(V(438,W,aL(4)),271),0),K)(303,{},W),466),19),16)),function(T,J,p,x,b,F){m((F=z((x=z(T,(b=U(59,(p=U(29,(J=I(13,T),T)),T)),J)),T),p),T),b,+(x==F))}),W,127,17),W),187,15),a(function(T,J,p,x,b,F){m(T,(J=z(T,(F=v((x=I(14,(p=I((b=U(41,T),13),T),T)),b),T),p)),x),F in J|0)},W,41,17),W),300,15);while(true)if(a(function(T){Ob(4,T)},W,417,16),true)break;if(a(function(T,J){m(T,(J=I(70,T),J),[])},(V(475,W,(a(function(T,J,p,x){if(J=I(6,(x=lo(true,T,(p=I(11,T),8)),T)),true)V(J,T,n(p,T)>>>x)},W,349,(a(function(T,J,p,x,b,F,C,X,A){{A=86;while(A!=17)A==46?A=b--?1:51:A==25?A=46:A==51?(m(T,p,X),A=17):A==86?(p=I(72,T),b=U(5,7,T),X=\"\",J=v(26,T),x=J.length,C=0,A=54):A==54?A=46:A==1&&(C=(F=U(7,7,T),2*(C&F)+(C&~F)-(~C^F)+(~C|F))%x,X+=E[J[C]],A=25)}},((V(169,(a(function(T,J,p,x,b,F){{F=30;while(F!=47)F==72?(m(T,x.bs,b.apply(p,x.X)),T.ZJ=T.Z(),F=47):F==30?F=fu(61,2,true,T,false,J)?47:13:F==26?F=T.F==T||b==T.rS&&p==T?72:47:F==13&&(x=cU(11,0,T,8),b=x.xU,p=x.Zf,F=26)}},W,226,(m((a(function(T){p$(39,4,3,T)},W,249,(a(function(T,J,p,x,b,F,C,X){K((X=(b=(F=(J=(C=I(49,(x=I(14,T),T)),I)(8,T),I(12,T)),v(F,T)),p=v(C,T),n)(J,T),x),I(32,2,1,b,p,X,T),T)},W,474,(a(function(T){vU(T,3)},W,(m(W,208,(K(66,(a(function(T,J,p,x){p=U(57,(x=(J=U(25,T),I)(56,T),T)),V(p,T,v(J,T)||v(x,T))},W,(a((a(function(T){vU(T,4)},W,(a(function(T,J,p){m(T,(J=(p=I(6,T),I)(16,T),J),\"\"+v(p,T))},W,(V(432,W,(a(function(T,J,p,x,b,F,C,X){{X=36;while(X!=66)X==5?(T.O=void 0,X=68):X==96?(T.L=GF(false,32,T),T.O=void 0,X=66):X==68?X=p==2?96:66:X==53?X=T.F==T?27:66:X==27?(F=z(T,J),p=v(C,T),x=n(b,T),F[p]=x,X=93):X==93?X=J==13?5:66:X==36&&(J=U(27,T),C=I(12,T),b=U(45,T),X=53)}},W,350,(K(463,(a(function(T,J,p,x,b,F){for(F=65;F!=64;)F==27?(m(T,x,J),F=64):F==93?F=54:F==54?F=b<p?99:27:F==72?(b++,F=54):F==99?(J.push(lo(true,T,8)),F=72):F==65&&(x=I(14,T),p=U(3,7,T),J=[],b=0,F=93)},W,(K(225,(m(W,(K(209,(a(function(T,J,p,x,b){m(T,(x=z(T,(p=v((b=(J=U(15,T),U)(27,T),J),T),b)),b),x+p)},W,313,(a(function(T,J,p,x,b){J=io((b=I(14,T),x=I(38,T),p=v(b,T),\"splice\"),p,\"null\"),K(x,J,T)},W,431,16),13)),[154,0,0]),W),491),[]),[]),W),V(44,W,r),(new f$(\"Submit\")).dispose(),160),19),[]),W),13)),[0,0,0])),425),13),92),13),function(T,J){C$(94,225,(J=n(U(25,T),T),J),0,T.F,104)}),W,63,19),277),15),aL(4)),W),0)),141),16),17)),18)),W),486,580),W.YY=0,17)),W),aL(4)),W).Xy=0,W),439,15),19)),W.UZ=0,W)),W),414,18),true)a(function(T,J,p){(p=(J=U(43,T),v)(J,T.F),p)[0].removeEventListener(p[1],p[2],P5)},W,372,13);mH(44,false,true,!(Q(28,(Q((Q(68,0,[sx],W),20),0,[dP,e],W),0),[PU,u],W),0),W)},oD=function(){return xS.call(this,8192,16)},K$=function(w,Z,S,B,e,u,W,l,E,D){B=(l=S.replace(/\\\\r\\\\n/g,Z),W=0);{e=[];while(W<l.length)u=l.charCodeAt(W),u<128?e[B++]=u:(u<2048?e[B++]=u>>w|192:(64512-(~u^64512)-2*(~u&64512)+(~u|64512)==55296&&W+1<l.length&&(l.charCodeAt(W+1)&64512)==56320?(u=(D=(u|0)+~u-~(u|1023)-(u^1023)<<10,2*(65536&D)-1-(-65537^D))+(l.charCodeAt(++W)&1023),e[B++]=u>>18|240,e[B++]=(E=u>>12&63,-~(E&128)-1+(E^128))):e[B++]=u>>12|224,e[B++]=u>>w&63|128),e[B++]=(u|0)+63- -1+~(u|63)|128),W++}return e},Bw=function(w){return hS.call(this,w,8)},C$=function(w,Z,S,B,e,u){e.u4.length>u?N9([HU,36],e,B,Z):(e.u4.push(e.T.slice()),e.T[w]=void 0,V(w,e,S))},Z2=function(w,Z,S,B,e,u,W,l,E,D,T,J){{J=31;while(J!=44)if(J==73)J=!Cu(3,W,Z,\"object\",E)||h(30,\"object\",E)&&E.nodeType>0?33:10;else if(J==24)D++,J=49;else if(J==10){a:{if(E&&typeof E.length==W){if(h(31,\"object\",E)){l=typeof E.item==\"function\"||typeof E.item==w;break a}if(typeof E===\"function\"){l=typeof E.item==\"function\";break a}}l=false}Ne(80,32,B,0,T,l?aD(0,24,E):E),J=24}else J==49?J=D<S.length?86:44:J==4?J=49:J==31?(T=function(p){p&&e.appendChild(typeof p===\"string\"?u.createTextNode(p):p)},D=1,J=4):J==33?(T(E),J=24):J==86&&(E=S[D],J=73)}},Su=function(w,Z,S,B,e,u,W,l,E,D,T,J){for(D=(J=B,92);;)try{if(J==60)break;else if(J==52)r.console[W](T.message),J=65;else if(J==Z)J=r.console?52:65;else if(J==w)J=E&&E.createPolicy?93:15;else if(J==93)D=57,l=E.createPolicy(u,{createHTML:sb,createScript:sb,createScriptURL:sb}),J=65;else{if(J==15)return l;if(J==S)D=92,J=Z;else if(J==B)E=r.trustedTypes,l=e,J=w;else if(J==65)return D=92,l}}catch(p){if(D==92)throw p;D==57&&(T=p,J=S)}},Zj=ln(2,\"object\",0,17,\"Math\",this),r=(uo(9,\".\",null,1,0,\"Symbol\",function(w,Z,S,B,e,u){for(u=68;u!=97;){if(u==66)return w;if(u==68)B=function(W,l){BU(this,\"description\",(this.oH=W,{configurable:true,writable:true,value:l}))},e=function(W,l){for(l=39;l!=62;){if(l==46)return new B(S+(W||\"\")+\"_\"+Z++,W);if(l==39)l=this instanceof e?86:46;else if(l==86)throw new TypeError(\"Symbol is not a constructor\");}},u=48;else{if(u==8)return B.prototype.toString=function(){return this.oH},S=\"jscomp_symbol_\"+(Math.random()*1E9>>>0)+\"_\",Z=0,e;u==48&&(u=w?66:8)}}}),this||self),F8=\"closure_uid_\"+(Math.random()*1E9>>>0),bo=0,gh,Jx=function(w,Z,S,B,e,u){u=67;{B=42;while(\"P\")try{if(u==95)break;else if(u==3)B=74,w=function(){},r.addEventListener(\"test\",w,Z),r.removeEventListener(\"test\",w,Z),u=75;else{if(u==1)return false;if(u==75)return B=42,S;u==76?(S=false,Z=Object.defineProperty({},\"passive\",{get:function(){S=true}}),u=3):u==31?(B=42,u=75):u==67&&(u=r.addEventListener&&Object.defineProperty?76:1)}}catch(W){if(B==42)throw W;B==74&&(e=W,u=31)}}}();(wh.prototype.N=false,wh).prototype.dispose=function(w){for(w=55;w!=9;)w==55?w=this.N?9:77:w==77&&(this.N=true,this.K(),w=9)};while(true)if(wh.prototype[Symbol.dispose]=function(){this.dispose()},{})break;var W5=\"closure_listenable_\"+(((y(pu,14,2,(VR.prototype.preventDefault=(wh.prototype.K=(VR.prototype.stopPropagation=function(){this.l4=true},function(w){{w=67;while(w!=30)w==68?w=this.fv.length?15:30:w==21?w=68:w==15?(this.fv.shift()(),w=21):w==83?w=68:w==67&&(w=this.fv?83:30)}}),function(){this.defaultPrevented=true}),VR)),pu.prototype.init=function(w,Z,S,B,e,u){{u=97;while(u!=34)u==97?(S=this.type=w.type,e=w.changedTouches&&w.changedTouches.length?w.changedTouches[0]:null,this.target=w.target||w.srcElement,this.currentTarget=Z,B=w.relatedTarget,u=58):u==5?(this.offsetX=w.offsetX,this.offsetY=w.offsetY,this.clientX=w.clientX!==void 0?w.clientX:w.pageX,this.clientY=w.clientY!==void 0?w.clientY:w.pageY,this.screenX=w.screenX||0,this.screenY=w.screenY||0,u=39):u==57?u=e?25:5:u==94?u=S==\"mouseover\"?1:32:u==81?(B=w.toElement,u=50):u==39?(this.button=w.button,this.keyCode=w.keyCode||0,this.key=w.key||\"\",this.charCode=w.charCode||(S==\"keypress\"?w.keyCode:0),this.ctrlKey=w.ctrlKey,this.altKey=w.altKey,this.shiftKey=w.shiftKey,this.metaKey=w.metaKey,this.pointerId=w.pointerId||0,this.pointerType=w.pointerType,this.state=w.state,this.timeStamp=w.timeStamp,this.I=w,w.defaultPrevented&&pu.h.preventDefault.call(this),u=34):u==1?(B=w.fromElement,u=50):u==58?u=B?50:94:u==25?(this.clientX=e.clientX!==void 0?e.clientX:e.pageX,this.clientY=e.clientY!==void 0?e.clientY:e.pageY,this.screenX=e.screenX||0,this.screenY=e.screenY||0,u=39):u==32?u=S==\"mouseout\"?81:50:u==50&&(this.relatedTarget=B,u=57)}},pu.prototype.stopPropagation=function(){(pu.h.stopPropagation.call(this),this.I).stopPropagation?this.I.stopPropagation():this.I.cancelBubble=true},pu).prototype.preventDefault=function(w){(w=(pu.h.preventDefault.call(this),this.I),w).preventDefault?w.preventDefault():w.returnValue=false},Math.random())*1E6|0),oL=\"constructor hasOwnProperty isPrototypeOf propertyIsEnumerable toLocaleString toString valueOf\".split(\" \"),yR=0,Sv=\"closure_lm_\"+(((TF.prototype.hasListener=function(w,Z,S,B,e){return Ne(80,(B=Z!==void 0,e=(S=w!==void 0)?w.toString():\"\",9),true,false,function(u,W,l){for(l=55;l!=1;)if(l==41)++W,l=20;else{if(l==9)return false;if(l==55)W=0,l=92;else{if(l==48)return true;l==92?l=20:l==39?l=S&&u[W].type!=e||B&&u[W].capture!=Z?41:48:l==20&&(l=W<u.length?39:9)}}},this.l)},TF).prototype.add=(TF.prototype.remove=function(w,Z,S,B,e,u,W,l){{l=88;while(l!=54)if(l==83)W=this.l[u],e=Me(54,B,0,S,6,W,Z),l=39;else if(l==39)l=e>-1?78:89;else if(l==24)l=W.length==0?92:9;else if(l==78)y(W[e],28,true),Array.prototype.splice.call(W,e,1),l=24;else{if(l==46)return false;if(l==9)return true;if(l==92)delete this.l[u],this.b4--,l=9;else{if(l==89)return false;l==88?(u=w.toString(),l=40):l==40&&(l=u in this.l?83:46)}}}},TF.prototype.Ad=function(w,Z,S,B,e,u){return((u=this.l[e=-1,w.toString()],u)&&(e=Me(54,S,0,Z,3,u,B)),e)>-1?u[e]:null},function(w,Z,S,B,e,u,W,l,E,D){{D=55;while(D!=15)if(D==43)W=this.l[l]=[],this.b4++,D=57;else{if(D==8)return u;D==57?(E=Me(54,e,0,B,5,W,Z),D=37):D==46?D=S?8:64:D==70?(u=new $f(Z,l,this.src,!!B,e),u.Bz=S,W.push(u),D=8):D==55?(l=w.toString(),W=this.l[l],D=9):D==9?D=W?57:43:D==37?D=E>-1?39:70:D==39?(u=W[E],D=46):D==64&&(u.Bz=false,D=8)}}}),Math).random()*1E6|0),ev=0,Ku={},c5=\"__closure_events_fn_\"+(Math.random()*1E9>>>0);(((P=((y(oD,15,2,wh),oD.prototype)[W5]=true,oD.prototype),P.jh=function(w){this.Lv=w},P).addEventListener=function(w,Z,S,B){Eb(63,30,true,false,S,this,B,Z,w)},P.removeEventListener=function(w,Z,S,B){aD(0,6,\"object\",this,w,B,Z,S)},P).dispatchEvent=function(w,Z,S,B,e,u,W,l,E,D,T,J){{J=42;while(J!=85)if(J==46)D=u.length-1,J=32;else if(J==68)T=l.currentTarget=u[D],E=hS(true,26,W,T,true,l)&&E,J=17;else if(J==42)Z=this.Lv,J=40;else if(J==65)J=Z?75:4;else{if(J==88)return E;J==25?(l.target=l.target||S,J=53):J==75?(e.push(Z),J=37):J==4?(S=this.OZ,l=w,W=l.type||l,u=e,J=84):J==37?(Z=Z.Lv,J=65):J==63?J=l instanceof VR?25:67:J==69?(D++,J=99):J==84?J=typeof l===\"string\"?18:63:J==76?J=l.l4?86:96:J==53?(E=true,J=21):J==21?J=u?46:76:J==96?(T=l.currentTarget=S,E=hS(true,24,W,T,true,l)&&E,l.l4||(E=hS(true,25,W,T,false,l)&&E),J=86):J==17?(D--,J=93):J==86?J=u?79:88:J==67?(B=l,l=new VR(W,S),gP(l,B),J=53):J==18?(l=new VR(l,S),J=53):J==91?J=99:J==40?J=Z?98:4:J==98?(e=[],J=72):J==93?J=!l.l4&&D>=0?68:76:J==89?(T=l.currentTarget=u[D],E=hS(true,27,W,T,false,l)&&E,J=69):J==79?(D=0,J=91):J==99?J=!l.l4&&D<u.length?89:88:J==72?J=65:J==32&&(J=93)}}},P).Ad=function(w,Z,S,B){return this.o.Ad(String(w),Z,S,B)},P.K=function(){(oD.h.K.call(this),this.o)&&zF(44,this.o,8,0,true),this.Lv=null},P.hasListener=function(w,Z){return this.o.hasListener(w!==void 0?String(w):void 0,Z)};var rh;((((((y(Ox,46,((Q(14,(((((\"ARTICLE SECTION NAV ASIDE H1 H2 H3 H4 H5 H6 HEADER FOOTER ADDRESS P HR PRE BLOCKQUOTE OL UL LH LI DL DT DD FIGURE FIGCAPTION MAIN DIV EM STRONG SMALL S CITE Q DFN ABBR RUBY RB RT RTC RP DATA TIME CODE VAR SAMP KBD SUB SUP I B U MARK BDI BDO SPAN BR WBR NOBR INS DEL PICTURE PARAM TRACK MAP TABLE CAPTION COLGROUP COL TBODY THEAD TFOOT TR TD TH SELECT DATALIST OPTGROUP OPTION OUTPUT PROGRESS METER FIELDSET LEGEND DETAILS SUMMARY MENU DIALOG SLOT CANVAS FONT CENTER ACRONYM BASEFONT BIG DIR HGROUP STRIKE TT\".split(\" \").concat([\"BUTTON\",\"INPUT\"]),P=Ux.prototype,P.V=function(w,Z){return(Z=this.Kv,typeof w===\"string\")?Z.getElementById(w):w},P).getElementsByTagName=function(w,Z){return(Z||this.Kv).getElementsByTagName(String(w))},P.createElement=function(w,Z,S){return((Z=String(w),S=this.Kv,S).contentType===\"application/xhtml+xml\"&&(Z=Z.toLowerCase()),S).createElement(Z)},P).createTextNode=function(w){return this.Kv.createTextNode(String(w))},P.appendChild=function(w,Z){w.appendChild(Z)},P.append=function(w,Z){Z2(\"string\",\"array\",arguments,\"\",w,w.nodeType==9?w:w.ownerDocument||w.document,\"number\")},P.canHaveChildren=function(w,Z){{Z=55;while(Z!=44){if(Z==69){switch(w.tagName){case \"APPLET\":case \"AREA\":case \"BASE\":case \"BR\":case \"COL\":case \"COMMAND\":case \"EMBED\":case \"FRAME\":case \"HR\":case \"IMG\":case \"INPUT\":case \"IFRAME\":case \"ISINDEX\":case \"KEYGEN\":case \"LINK\":case \"NOFRAMES\":case \"NOSCRIPT\":case \"META\":case \"OBJECT\":case \"PARAM\":case \"SCRIPT\":case \"SOURCE\":case \"STYLE\":case \"TRACK\":case \"WBR\":return false}return true}if(Z==23)return false;Z==55&&(Z=w.nodeType!=1?23:69)}}},P).removeNode=Bw,P).contains=function(w,Z,S,B){{B=61;while(B!=11)if(B==63)B=w.contains&&Z.nodeType==1?96:33;else if(B==61)B=w&&Z?63:94;else{if(B==96)return w==Z||w.contains(Z);if(B==73)Z=Z.parentNode,B=87;else if(B==8)B=Z&&w!=Z?73:39;else{if(B==39)return Z==w;if(B==0)B=8;else if(B==33)B=typeof w.compareDocumentPosition!=\"undefined\"?90:0;else{if(B==90)return w==Z||!!(S=w.compareDocumentPosition(Z),2*(S|16)- -2+~(S|16)+(~S^16));if(B==87)B=8;else if(B==94)return false}}}}},Ax)),Ax).prototype.pw=\"\",Ax.prototype.Lw=0,2),oD),P=Ox.prototype,P).cL=Ax.OT(),P).V=function(){return this.u},P).getParent=function(){return this.wr},P).jh=function(w,Z){for(Z=52;Z!=6;)if(Z==52)Z=this.wr&&this.wr!=w?32:73;else if(Z==73)Ox.h.jh.call(this,w),Z=6;else if(Z==32)throw Error(\"Method not supported\");},P.K=function(w){for(w=49;w!=98;)w==16?(uo(48,function(Z){Z.dispose()},this),!this.WL&&this.u&&Bw(this.u),this.eh=this.u=this.wr=this.Sh=null,Ox.h.K.call(this),w=98):w==49?(this.zy&&this.td(),w=54):w==18?(this.Ty.dispose(),delete this.Ty,w=16):w==54&&(w=this.Ty?18:16)},P).td=function(){this.zy=(uo(51,function(w){w.zy&&w.td()},this),this.Ty&&zF(44,this.Ty,7,0,true),false)},P).removeChild=function(w,Z,S,B,e,u,W,l,E,D,T,J,p){{p=91;while(p!=46)if(p==63)l=T,p=62;else if(p==58)w=D,p=18;else if(p==18)p=l&&w?7:72;else if(p==96)p=(u=w.Fy)?92:61;else if(p==89)p=typeof w===\"string\"?20:96;else if(p==51)W=this.Sh,D=(W!==null&&l in W?W[l]:void 0)||null,p=58;else if(p==7)E=this.Sh,l in E&&delete E[l],XK(58,this.eh,w,1,12),p=84;else if(p==20)T=w,p=63;else if(p==41)D=null,p=58;else{if(p==48)return w;if(p==70)throw Error(\"Child is not in parent component\");if(p==62)p=this.Sh&&l?51:41;else if(p==61)J=w.cL,e=w,S=J.pw+\":\"+(J.Lw++).toString(36),u=e.Fy=S,p=92;else if(p==72)p=w?48:70;else if(p==80)w.td(),w.u&&Bw(w.u),p=52;else if(p==92)T=u,p=63;else if(p==91)p=w?89:72;else{if(p==12)throw Error(\"Unable to set parent component\");p==64?p=B==null?12:40:p==52?(B=w,p=64):p==40?(B.wr=null,Ox.h.jh.call(B,null),p=72):p==84&&(p=Z?80:52)}}}};var uK,Ww={button:(Q(13,M9),\"pressed\"),checkbox:\"checked\",menuitem:\"selected\",menuitemcheckbox:\"checked\",menuitemradio:\"checked\",radio:\"checked\",tab:\"selected\",treeitem:\"selected\"},tS=(Q(15,(y(QU,(((P=M9.prototype,P).Cv=function(w,Z,S,B){(B=Z.V?Z.V():Z)&&(S?tx:VU)(B,[w])},P.vz=function(w,Z,S,B,e,u,W,l){uK||(uK={1:\"disabled\",8:\"selected\",16:\"checked\",64:\"expanded\"});while(\"M\")if(l=uK[Z],true)break;(e=((B=w.getAttribute(\"role\")||null)?(u=Ww[B]||l,W=l==\"checked\"||l==\"selected\"?u:l):W=l,W))&&qe(3,\"busy\",false,e,S,w)},P.tN=function(){return\"goog-control\"},P.Wz=function(w){return w.V()},P).gr=function(w,Z,S,B,e,u,W,l,E){for(W=(l=73,22);;)try{if(l==21)break;else l==25?(B.tabIndex=0,l=21):l==8?l=Z?25:41:l==38?(w.Nd&4&&y(w,5,4)&&w.setActive(false),w.Nd&32&&y(w,69,32)&&qe(45,0,false,w,32)&&w.v(32,false),l=70):l==68?(u=e.tabIndex,S=typeof u===\"number\"&&u>=0&&u<32768,l=49):l==73?l=y(w,6,32)&&(e=w.Wz())?93:21:l==84?(W=9,e.blur(),l=59):l==70?l=(S=e.hasAttribute(\"tabindex\"))?68:49:l==59?(W=22,l=10):l==31?(W=22,l=59):l==6?(B=e,l=8):l==10?l=w.S&32?38:70:l==49?l=S!=Z?6:21:l==41?(B.tabIndex=-1,B.removeAttribute(\"tabIndex\"),l=21):l==93&&(l=!Z&&w.S&32?84:70)}catch(D){if(W==22)throw D;W==9&&(E=D,l=31)}},P.v=function(w,Z,S,B,e,u,W){for(W=34;W!=64;)W==34?(B=w.V(),W=65):W==18?W=this.IO?61:62:W==61?((e=this.IO[Z])&&this.Cv(e,w,S),this.vz(B,Z,S),W=64):W==65?W=B?18:64:W==62&&(u=this.tN(),u.replace(/\\\\xa0|\\\\s/g,\" \"),this.IO={1:u+\"-disabled\",2:u+\"-hover\",4:u+\"-active\",8:u+\"-selected\",16:u+\"-checked\",32:u+\"-focused\",64:u+\"-open\"},W=61)},17),2,M9),QU)),{});if(((((((((((((P=(y(H5,49,2,(QU.prototype.tN=function(){return\"goog-button\"},QU.prototype.vz=function(w,Z,S){switch(Z){case 8:case 16:qe(6,\"busy\",false,\"pressed\",S,w);break;default:case 64:case 1:QU.h.vz.call(this,w,Z,S)}},Ox)),H5.prototype),P).S=0,P).Nd=255,P).K=function(w){{w=46;while(w!=45)w==1?w=this.cz?77:17:w==46?(H5.h.K.call(this),w=1):w==17?(delete this.D,this.C=null,w=45):w==77&&(this.cz.dispose(),delete this.cz,w=17)}},P).Cv=function(w,Z,S){for(S=48;S!=51;)S==19?(this.D.Cv(Z,this,false),S=51):S==31?S=this.C.length==0?64:19:S==28?S=Z?2:51:S==40?S=Z&&this.C&&XK(58,this.C,Z,1,5)?31:51:S==64?(this.C=null,S=19):S==2?(this.C?Cu(38,1,Z,this.C)>=0||this.C.push(Z):this.C=[Z],this.D.Cv(Z,this,true),S=51):S==48&&(S=w?28:40)},P.td=function(){((H5.h.td.call(this),this.cz)&&this.cz.detach(),this).isVisible()&&this.isEnabled()&&this.D.gr(this,false)},P).Wz=function(){return this.D.Wz(this)},P).vL=39,P).sZ=0,P.dS=true,P.C=null,P.isVisible=function(){return this.dS},P).isEnabled=function(){return!(this.S&1)},P).isActive=function(){return!!(this.S&4)},P).setActive=function(w){qe(41,0,w,this,4)&&this.v(4,w)},P).getState=function(){return this.S},P.v=function(w,Z,S,B,e,u,W){for(W=58;W!=76;)W==51?W=y(this,21,w)&&Z!=!!(this.S&w)?32:76:W==32?(this.D.v(this,w,Z),this.S=Z?(u=this.S,(u|0)-(~u^w)+(~u|w)):this.S&~w,W=76):W==13?(this.isVisible()&&this.D.gr(this,e),this.v(1,!e,true),W=76):W==26?(this.setActive(false),qe(42,0,false,this,2)&&this.v(2,false),W=13):W==80?(e=!Z,B=this.getParent(),W=47):W==45?W=e?13:26:W==47?W=B&&typeof B.isEnabled==\"function\"&&!B.isEnabled()||!qe(43,0,!e,this,1)?76:45:W==58&&(W=S||w!=1?51:80)},typeof H5)!==\"function\")throw Error(\"Invalid component class \"+H5);if(typeof M9!==\"function\")throw Error(\"Invalid renderer class \"+M9);var lK=Ty(9,16,H5),P5={passive:!(mH(30,\"goog-button\",((y(f$,78,2,(((Q(40,((mH(14,(tS[lK]=M9,\"goog-control\"),function(){return new H5(null)}),y)(AS,47,2,QU),AS)),AS).prototype.vz=function(){},AS.prototype.gr=function(){},AS).prototype.v=function(w,Z,S,B,e){{e=64;while(e!=38)e==44?e=B&&Z==1?50:38:e==50?(B.disabled=S,e=38):e==64&&(AS.h.v.call(this,w,Z,S),B=w.V(),e=44)}},H5)),f$.prototype).K=function(){delete (f$.h.K.call(this),this).IH,delete this.Mi},function(){return new f$(null)})),0),capture:true},YS=r.requestIdleCallback?function(w){requestIdleCallback(function(){w()},{timeout:4})}:r.setImmediate?function(w){setImmediate(w)}:function(w){setTimeout(w,0)},Sk,RL=String.fromCharCode(105,110,116,101,103,67,104,101,99,107,66,121,112,97,115,115),Gy=[],Dj=[],dP=(O.prototype.Ga=void 0,O.prototype.nw=false,[]),sx=(O.prototype.Hz=\"toString\",[]),PU=[],dh=[],ek=(O.prototype.PL=void 0,[]),xf=[],HU={},v5=((IL,aL,kf,rP,Yf,function(){})(jk),HU.constructor);if(P=(O.prototype.W=\"create\",O.prototype),P.e2=function(){return RD.call(this,6,8,30)},P.Z=(window.performance||{}).now?function(){return this.fw+window.performance.now()}:function(){return+new Date},2)P.us=0;var WU=(P.YU=function(w,Z,S,B,e,u){return p$.call(this,3,Z,w,S,B,e,u)},P.j2=(P.AN=function(w,Z,S,B,e,u,W){return Eb.call(this,63,3,w,Z,S,B,e,u,W)},function(w,Z,S,B,e,u,W,l,E,D,T){return ID.call(this,3,w,Z,S,B,e,u,W,l,E,D,T)}),(P.QS=function(w,Z,S,B,e,u,W){return bn.call(this,14,25,w,Z,S,B,e,u,W)},P).gS=function(){return uo.call(this,12)},void 0);((P=O.prototype,P).U=function(w,Z){return Z={},w={},WU=function(){return w==Z?-86:-147},function(S,B,e,u,W,l,E,D,T,J,p,x,b,F,C,X,A,N,g,d,L,ZP,c,k,Ex,q,f,B5,un,FK,t,R,JA,mU,Lu,iK,H,G,n$,JS){for(JA=!(JS=(H=90,G=96,undefined),1);;)try{if(H==35)break;else if(H==74)p=S[2],d=Y((z(this,209).length|0)+2,2),l=this.F,this.F=this,H=29;else if(H==66)u=E[b][this.Hz](16),u.length==1&&(u=\"0\"+u),D+=u,H=16;else if(H==58){if(B5=(W=n(337,this),typeof Symbol!=\"undefined\"&&Symbol.iterator&&W[Symbol.iterator]))g=B5.call(W);else if(typeof W.length==\"number\")g={next:Eb(63,49,0,W)};else throw Error(String(W)+\" is not an iterable or ArrayLike\");H=(J=(F=g,F.next()),14)}else if(H==5)H=k.length>4?62:77;else if(H==76)e[Ex++]=q,H=37;else if(H==59)H=t==xf?74:28;else if(H==47)G=44,t=S[0],H=27;else if(H==27)H=t==dP?55:23;else if(H==71)H=b<E.length?66:18;else if(H==38)W.length=0,H=68;else if(H==40)H=36;else if(H==39)G=44,N9(mU,this,17,225),JS=35,H=68;else if(H==93)H=71;else{if(H==44)return Lu;if(H==0)H=t==dh?12:34;else if(H==68)G=96,w=f,H=81;else if(H==97)yU(269,S[1],0,this,S[2]),H=68;else if(H==79)G=44,H=85;else if(H==21)S[1].push(n(66,this).length,n(169,this).length,z(this,400)[0],z(this,491).length,n(209,this).length,n(438,this).length,n(463,this).length,v(225,this).length),K(303,S[2],this),this.T[291]&&yU(269,n(291,this),0,this,8001),H=68;else if(H==88)q9(Y(k.length,2).concat(k),66,this,209,166),H=77;else if(H==4)D=\"*\"+D,H=18;else if(H==31)b=0,D=\"\",H=93;else if(H==83)this.FO=e,this.g=this.FO.length<<3,m(this,13,[0,0,0]),H=33;else if(H==37)N++,H=36;else if(H==51)q=x.charCodeAt(N),H=63;else if(H==62)H=k.length>1E6?60:88;else if(H==64)ZP=J.value,H=43;else{if(H==11)return Lu;if(H==60)k=k.slice(0,1E6),q9([],66,this,209,197),M([],this,209,36),H=88;else if(H==29)G=34,R=v(84,this),R.length>0&&M(Y(R.length,2).concat(R),this,209,48),M(Y(this.R+1>>1,1),this,209,87),M(Y(this[xf].length,1),this,209),c=this.Pz?z(this,463):z(this,225),c.length>0&&M(Y(c.length,2).concat(c),this,169,64),FK=z(this,169),FK.length>4&&M(Y(FK.length,2).concat(FK),this,209,65),un=0,un-=(A=z(this,209).length,-3-2*~A-2*(A&-6)-(~A^5)),k=v(438,this),un+=n(271,this)&2047,k.length>4&&(un-=(k.length|0)+3),un>0&&q9(Y(un,2).concat(aL(un)),66,this,209,53),H=5;else if(H==65)G=99,x=atob(L),N=Ex=0,e=[],H=40;else if(H==34)H=t==Gy?58:68;else if(H==36)H=N<x.length?51:83;else if(H==90)f=w,w=Z,H=47;else if(H==12)Lu=yU(269,S[1],0,this,8001),JS=44,H=68;else if(H==85)J=F.next(),H=32;else if(H==48)G=44,E=aL(2).concat(v(209,this)),E[1]=(B=E[0],2*~(B&60)-~B- -61),E[3]=(C=E[1],X=d[0],-2*(X|0)+(C|X)+(C&X)+2*(~C&X)),E[4]=E[1]^d[1],D=this.S2(E),H=92;else if(H==3)H=JS!==undefined?68:48;else if(H==32)H=J.done?38:64;else if(H==16)b++,H=71;else if(H==77)G=44,this.F=l,H=3;else if(H==14)H=32;else if(H==92)H=D?4:31;else if(H==18)T=D,n(66,this).length=p.shift(),n(169,this).length=p.shift(),z(this,400)[0]=p.shift(),z(this,491).length=p.shift(),n(209,this).length=p.shift(),v(438,this).length=p.shift(),v(463,this).length=p.shift(),n(225,this).length=p.shift(),Lu=T,JS=11,H=68;else if(H==28)H=t==ek?97:0;else if(H==81)JS!==undefined?(H=JS,JS=undefined):H=35;else if(H==43)G=28,ZP(),H=85;else if(H==55)L=S[1],H=65;else if(H==45)e[Ex++]=(q|0)+255-(q|255),q>>=8,H=76;else if(H==63)H=q>255?45:76;else if(H==33)G=44,X8(486,8001,this,269),H=68;else if(H==23)H=t==Dj?21:59;else if(H==10)throw n$;}}}catch(wP){if((n$=wP,G)==96)throw wP;G==28?(iK=wP,H=79):G==44?(JS=10,H=68):G==99?(mU=wP,H=39):G==34&&(JS=10,H=77)}}}(),P).za=0;var L$,wk=(P.XO=(O.prototype[PU]=[0,0,1,1,0,1,1],P.Ni=((P.BL=function(){return bn.call(this,14,9)},P).S2=function(w,Z,S,B,e){return xS.call(this,8192,41,w,Z,S,B,e)},0),function(){return Eb.call(this,63,10)}),/./),eu=dP.pop.bind(O.prototype[Dj]);wk[O.prototype.Hz]=eu;while(15)if(L$=Q(32,{get:eu},O.prototype.W),\"O\")break;var TM=(O.prototype.Df=void 0,function(w,Z){return(Z=Su(37,62,28,66,null,\"ks\",\"error\"))&&w.eval(Z.createScript(\"1\"))===1?function(S){return Z.createScript(S)}:function(S){return\"\"+S}})(r);if(true)Sk=r.knitsail||(r.knitsail={});(Sk.m>40||(Sk.m=41,Sk.ks=Ub,Sk.a=kS),Sk).Vff_=function(w,Z,S,B,e,u,W,l){return[function(E){return zF(44,l,32,false,E)},(l=new O(Z,W,e,u,B,w),function(E){l.XO(E)})]};}).call(this);'].join('\\n')));}).call(this);</script><script nonce=\"uK8SaoAvuuV_5OEE5R_UHA\">(function(){var r='1';var ce=30;var nsiws=true;var p='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\\x3d\\x3d';var g='knitsail';var eid='7oglaJ2EC8zn1e8PrtLbwQE';var ss_cgi=false;var sp='';var hashed_query='';var cbs='';var ussv='';(function(){var t=function(a){var b=0;return function(){return b<a.length?{done:!1,value:a[b++]}:{done:!0}}},w=typeof Object.defineProperties==\"function\"?Object.defineProperty:function(a,b,h){if(a==Array.prototype||a==Object.prototype)return a;a[b]=h.value;return a},x=function(a){a=[\"object\"==typeof globalThis&&globalThis,a,\"object\"==typeof window&&window,\"object\"==typeof self&&self,\"object\"==typeof global&&global];for(var b=0;b<a.length;++b){var h=a[b];if(h&&h.Math==Math)return h}throw Error(\"a\");},y=x(this),A=function(a,b){if(b)a:{var h=y;a=a.split(\".\");for(var l=0;l<a.length-1;l++){var f=a[l];if(!(f in h))break a;h=h[f]}a=a[a.length-1];l=h[a];b=b(l);b!=l&&b!=null&&w(h,a,{configurable:!0,writable:!0,value:b})}},C=function(a){var b=typeof Symbol!=\"undefined\"&&Symbol.iterator&&a[Symbol.iterator];if(b)return b.call(a);if(typeof a.length==\"number\")return{next:t(a)};throw Error(\"b`\"+String(a));};A(\"Promise\",function(a){function b(){this.i=null}function h(c){return c instanceof f?c:new f(function(d){d(c)})}if(a)return a;b.prototype.j=function(c){if(this.i==null){this.i=[];var d=this;this.l(function(){d.v()})}this.i.push(c)};var l=y.setTimeout;b.prototype.l=function(c){l(c,0)};b.prototype.v=function(){for(;this.i&&this.i.length;){var c=this.i;this.i=[];for(var d=0;d<c.length;++d){var e=c[d];c[d]=null;try{e()}catch(k){this.s(k)}}}this.i=null};b.prototype.s=function(c){this.l(function(){throw c;})};var f=function(c){this.j=0;this.l=void 0;this.i=[];this.C=!1;var d=this.s();try{c(d.resolve,d.reject)}catch(e){d.reject(e)}};f.prototype.s=function(){function c(k){return function(m){e||(e=!0,k.call(d,m))}}var d=this,e=!1;return{resolve:c(this.I),reject:c(this.v)}};f.prototype.I=function(c){if(c===this)this.v(new TypeError(\"A Promise cannot resolve to itself\"));else if(c instanceof f)this.K(c);else{a:switch(typeof c){case \"object\":var d=c!=null;break a;case \"function\":d=!0;break a;default:d=!1}d?this.H(c):this.B(c)}};f.prototype.H=function(c){var d=void 0;try{d=c.then}catch(e){this.v(e);return}typeof d==\"function\"?this.L(d,c):this.B(c)};f.prototype.v=function(c){this.D(2,c)};f.prototype.B=function(c){this.D(1,c)};f.prototype.D=function(c,d){if(this.j!=0)throw Error(\"c`\"+c+\"`\"+d+\"`\"+this.j);this.j=c;this.l=d;this.j===2&&this.J();this.F()};f.prototype.J=function(){var c=this;l(function(){if(c.G()){var d=y.console;typeof d!==\"undefined\"&&d.error(c.l)}},1)};f.prototype.G=function(){if(this.C)return!1;var c=y.CustomEvent,d=y.Event,e=y.dispatchEvent;if(typeof e===\"undefined\")return!0;typeof c===\"function\"?c=new c(\"unhandledrejection\",{cancelable:!0}):typeof d===\"function\"?c=new d(\"unhandledrejection\",{cancelable:!0}):(c=y.document.createEvent(\"CustomEvent\"),c.initCustomEvent(\"unhandledrejection\",!1,!0,c));c.promise=this;c.reason=this.l;return e(c)};f.prototype.F=function(){if(this.i!=null){for(var c=0;c<this.i.length;++c)u.j(this.i[c]);this.i=null}};var u=new b;f.prototype.K=function(c){var d=this.s();c.A(d.resolve,d.reject)};f.prototype.L=function(c,d){var e=this.s();try{c.call(d,e.resolve,e.reject)}catch(k){e.reject(k)}};f.prototype.then=function(c,d){function e(n,q){return typeof n==\"function\"?function(z){try{k(n(z))}catch(B){m(B)}}:q}var k,m,v=new f(function(n,q){k=n;m=q});this.A(e(c,k),e(d,m));return v};f.prototype.catch=function(c){return this.then(void 0,c)};f.prototype.A=function(c,d){function e(){switch(k.j){case 1:c(k.l);break;case 2:d(k.l);break;default:throw Error(\"d`\"+k.j);}}var k=\n",
              "this;this.i==null?u.j(e):this.i.push(e);this.C=!0};f.resolve=h;f.reject=function(c){return new f(function(d,e){e(c)})};f.race=function(c){return new f(function(d,e){for(var k=C(c),m=k.next();!m.done;m=k.next())h(m.value).A(d,e)})};f.all=function(c){var d=C(c),e=d.next();return e.done?h([]):new f(function(k,m){function v(z){return function(B){n[z]=B;q--;q==0&&k(n)}}var n=[],q=0;do n.push(void 0),q++,h(e.value).A(v(n.length-1),m),e=d.next();while(!e.done)})};return f});\n",
              "var D=this||self;var E=function(){var a=location.href;this.i=this.j=\"\";var b=a.indexOf(\"#\");b>0&&(this.j=a.substring(b),a=a.substring(0,b));b=a.indexOf(\"?\");b>0&&(this.i=\"&\"+a.substring(b+1),a=a.substring(0,b));this.l=a},G=function(a,b,h){F(a,b);a.i=a.i+\"&\"+b+\"=\"+h},F=function(a,b){a.i=a.i.replace(new RegExp(\"&\"+b+\"=([^&]+)\",\"g\"),\"\")};E.prototype.toString=function(){return\"\"+this.l+(this.i?\"?\"+this.i.substring(1):\"\")+this.j};var H=D.JSON.parse,I=D.JSON.stringify;function J(a,b,h,l,f,u){f=f===void 0?\"m\":f;u=u===void 0?!0:u;var c=!1;try{if(f!=\"x\"){var d=a==\"s\"?window.sessionStorage:window.localStorage,e=d.getItem(\"_c;;i\");if(e){var k=e.indexOf(\"_\");var m=k<0?null:H(e.substr(k+1))}else m=null;e=m||0;var v=\"p:*|l:9007199254740991_\"+I(e+1);d.setItem(\"_c;;i\",v);var n=e;v=b;e=h;m=f;k=n;var q=I(l);d.setItem(v+\";;\"+e,\"p:\"+m+\"|l:\"+(k+\"_\")+q);c=!0}}catch(z){}u&&(D.mPPkxd||(D.mPPkxd=[]),D.mPPkxd.push([c,arguments,n]))};\n",
              "var K=function(a){this.i=a};K.prototype.toString=function(){return this.i};var L=function(a){this.M=a};function M(a){return new L(function(b){return b.substr(0,a.length+1).toLowerCase()===a+\":\"})}var N=[M(\"data\"),M(\"http\"),M(\"https\"),M(\"mailto\"),M(\"ftp\"),new L(function(a){return/^[^:]*([/?#]|$)/.test(a)})],O=/^\\s*(?!javascript:)(?:[\\w+.-]+:|[^:/?#]*(?:[/?#]|$))/i;function P(){var a=D[g];if(a){a=C((0,a.a)(p,function(){},!1)).next().value;var b=[Q()];return a(b)}R(Error(\"f\"))}function Q(){var a=location.href,b=hashed_query,h={};b&&(h.qh=b,(a=(a=a.match(/[?&]start=(\\d+)/g))?a[a.length-1].match(/\\d+/)[0]:\"\")&&(h.st=a));return h}\n",
              "function S(){var a;a:{if(window.st&&(a=window.st(location.href)))break a;a=performance&&performance.timing&&performance.timing.navigationStart?performance.timing.navigationStart:void 0}if(a)if(nsiws)try{var b;((b=window)==null?0:b.sessionStorage)&&window.sessionStorage.setItem(eid,String(a))}catch(h){}else J(\"s\",\"sg_pns\",eid,String(a))}function T(){var a=eid,b=new E;F(b,\"sg_ss\");G(b,\"sei\",a);return b.toString()}\n",
              "function U(a){var b=eid,h=new E;G(h,\"sg_ss\",encodeURIComponent(a));G(h,\"sei\",b);V(h.toString())}function W(a){if(window.prs){var b=T();window.prs(b,a).catch(function(){U(a)})}else U(a)}function V(a){window.prs?window.prs(a).catch(function(){X(a)}):X(a)}\n",
              "function X(a){if(window.pr)window.pr(a);else{a:{var b=b===void 0?N:b;if(a instanceof K)b=a;else{for(var h=0;h<b.length;++h){var l=b[h];if(l instanceof L&&l.M(a)){b=new K(a);break a}}b=void 0}}a=location;if(b instanceof K)if(b instanceof K)b=b.i;else throw Error(\"e\");else b=O.test(b)?b:void 0;b!==void 0&&a.replace(b)}}function R(a){navigator.sendBeacon(\"/gen_204?cad=sg_b_e&e=\"+a,\"\")};navigator||(D.navigator={});typeof navigator.sendBeacon!==\"function\"&&(navigator.sendBeacon=function(a){(new Image).src=a});window.onerror=function(a,b,h,l,f){navigator.sendBeacon(\"/gen_204?emsg=\"+(f instanceof Error?f.message:a)+\"&srcpg=sgs&jsr=1&jsel=3\")};(window.sgs&&ussv?window.sgs(sp).then(function(a){r&&(S(),W(a));return!0},function(){return!1}):Promise.resolve(!1)).then(function(a){if(!a&&(a=P())){var b=cbs;a=hashed_query?\"B.1.\"+b+\".\"+a:a;b=new Date;b.setSeconds(b.getSeconds()+(Number(ce)||300));var h=\"SG_SS=\"+a,l=document.cookie.length+h.length;r&&(l<4093&&!ss_cgi&&(document.cookie=h+(\"; expires=\"+b.toUTCString())),S(),ss_cgi||document.cookie.indexOf(\"SG_SS=\")<0?U(a):V(T()))}}).catch(function(a){R(a)});}).call(this);})();</script><script nonce=\"uK8SaoAvuuV_5OEE5R_UHA\">(function(){var cssId='yvlrue';var event_id='7oglaJ2EC8zn1e8PrtLbwQE';function sw(){document.getElementById(cssId).setAttribute('style','');navigator.sendBeacon(`/gen_204?cad=sg_trbl&ei=${event_id}`,'');}\n",
              "setTimeout(sw,2000);})();</script><style>div{font-family:sans-serif;color:#474747;background-color:#fff}a{color:#1558d6;font-size:inherit;text-decoration:none}a:visited{color:#681da8}</style><div id=\"yvlrue\" style=\"display:none\">If you're having trouble accessing Google Search, please <a href=\"/search?q=google+%EB%B6%80%EC%82%B0%EC%98%A8%EB%8F%84&amp;sca_esv=a980cca8ef080035&amp;ie=UTF-8&amp;emsg=SG_REL&amp;sei=7oglaJ2EC8zn1e8PrtLbwQE\">click here</a>, or send <a href=\"https://support.google.com/websearch\">feedback</a>.</div></body></html>"
            ]
          },
          "metadata": {},
          "execution_count": 97
        }
      ]
    },
    {
      "cell_type": "code",
      "source": [
        "# 일급함수: 함수를 값으로 취급하는 것\n",
        "\n",
        "def hello():\n",
        "    pass\n",
        "\n",
        "x = 10 # 10이라는 값이 들어가는 자리에 함수가 모두 들어갈 수 있다는 얘기입니다.\n",
        "y = print\n",
        "a = sum\n",
        "b = lambda x: x ** 2\n",
        "c = hello"
      ],
      "metadata": {
        "id": "xKoOb8ZuombG"
      },
      "execution_count": null,
      "outputs": []
    },
    {
      "cell_type": "code",
      "source": [
        "a([10, 20, 30])"
      ],
      "metadata": {
        "colab": {
          "base_uri": "https://localhost:8080/"
        },
        "id": "X4-UJAWapEJ5",
        "outputId": "3775dcaf-554d-4f27-8728-637031f30c0e"
      },
      "execution_count": null,
      "outputs": [
        {
          "output_type": "execute_result",
          "data": {
            "text/plain": [
              "60"
            ]
          },
          "metadata": {},
          "execution_count": 100
        }
      ]
    },
    {
      "cell_type": "code",
      "source": [
        "def add(a, b):\n",
        "    return a + b\n",
        "\n",
        "def mul(a, b):\n",
        "    return a * b\n",
        "\n",
        "def div(a, b):\n",
        "    return a // b\n",
        "\n",
        "def sub(a, b):\n",
        "    return a - b\n",
        "\n",
        "\n",
        "functions = [add, mul, div, sub]\n",
        "functions[0](10, 20)"
      ],
      "metadata": {
        "colab": {
          "base_uri": "https://localhost:8080/"
        },
        "id": "-3MUxcRNpdCg",
        "outputId": "76aab25a-fd86-495a-df00-500243a98441"
      },
      "execution_count": null,
      "outputs": [
        {
          "output_type": "execute_result",
          "data": {
            "text/plain": [
              "30"
            ]
          },
          "metadata": {},
          "execution_count": 101
        }
      ]
    },
    {
      "cell_type": "code",
      "source": [
        "# 함수를 아규먼트로 넣는 것\n",
        "# 함수를 리턴 값으로 넣는 것\n",
        "# 고차 함수(Higher-order functions)는 하나 이상의 함수를 인자로 받아들이거나 함수를 결과로 반환하는 함수입니다.\n",
        "# 이 예제에서는 cal이 고차함수입니다.\n",
        "\n",
        "def a(x):\n",
        "    return x ** 2\n",
        "\n",
        "def b(x):\n",
        "    return x ** 3\n",
        "\n",
        "def cal(f, ff, x):\n",
        "    return f(x) + ff(x)\n",
        "\n",
        "cal(a, b, 2)"
      ],
      "metadata": {
        "colab": {
          "base_uri": "https://localhost:8080/"
        },
        "id": "goYg69HGp6dm",
        "outputId": "22e3aad6-6390-4c69-dca5-659e52a8dc01"
      },
      "execution_count": null,
      "outputs": [
        {
          "output_type": "execute_result",
          "data": {
            "text/plain": [
              "12"
            ]
          },
          "metadata": {},
          "execution_count": 105
        }
      ]
    },
    {
      "cell_type": "code",
      "source": [
        "# 함수를 아규먼트로 넣는 것\n",
        "# 함수를 리턴 값으로 넣는 것\n",
        "# 고차 함수(Higher-order functions)는 하나 이상의 함수를 인자로 받아들이거나 함수를 결과로 반환하는 함수입니다.\n",
        "# 이 예제에서는 cal이 고차함수입니다.\n",
        "\n",
        "def a(x):\n",
        "    return x ** 2\n",
        "\n",
        "def b(x):\n",
        "    return x ** 3\n",
        "\n",
        "def cal(f):\n",
        "    return b\n",
        "\n",
        "cal(a)\n",
        "cal(a)(2)"
      ],
      "metadata": {
        "colab": {
          "base_uri": "https://localhost:8080/"
        },
        "id": "J3U0T701r2S1",
        "outputId": "2ccca0c4-ddf3-42ce-aabe-5b6e0137bff5"
      },
      "execution_count": null,
      "outputs": [
        {
          "output_type": "execute_result",
          "data": {
            "text/plain": [
              "8"
            ]
          },
          "metadata": {},
          "execution_count": 106
        }
      ]
    },
    {
      "cell_type": "markdown",
      "source": [
        "# 재귀함수"
      ],
      "metadata": {
        "id": "JkgFyE9lv2oZ"
      }
    },
    {
      "cell_type": "code",
      "source": [
        "# 실행하지 마세요.\n",
        "# def hello():\n",
        "#     print(1)\n",
        "#     return hello()"
      ],
      "metadata": {
        "id": "9GlR4jIRscMn"
      },
      "execution_count": null,
      "outputs": []
    },
    {
      "cell_type": "code",
      "source": [
        "result = 1\n",
        "for i in range(1, 6):\n",
        "    result *= i\n",
        "\n",
        "result # 5! ==  5 * 4 * 3 * 2 * 1"
      ],
      "metadata": {
        "colab": {
          "base_uri": "https://localhost:8080/"
        },
        "id": "BGASx1LIwHhF",
        "outputId": "0f7614e9-29e2-488b-e6b3-4877fd86427c"
      },
      "execution_count": null,
      "outputs": [
        {
          "output_type": "execute_result",
          "data": {
            "text/plain": [
              "120"
            ]
          },
          "metadata": {},
          "execution_count": 107
        }
      ]
    },
    {
      "cell_type": "code",
      "source": [
        "def factorial(n):\n",
        "    if n == 1:\n",
        "        return 1\n",
        "    else:\n",
        "        return n * factorial(n-1)\n",
        "\n",
        "factorial(5)\n",
        "\n",
        "# 함수 아규먼트         return 값\n",
        "# factorial(5)          5 * factorial(4)  == 5 * 4 * 3 * 2 * 1\n",
        "# factorial(4)          4 * factorial(3)  == 4 * 3 * 2 * 1\n",
        "# factorial(3)          3 * factorial(2)  == 3 * 2 * 1\n",
        "# factorial(2)          2 * factorial(1)  == 2 * 1\n",
        "# factorial(1)          1"
      ],
      "metadata": {
        "colab": {
          "base_uri": "https://localhost:8080/"
        },
        "id": "mIS1UmfAwVFg",
        "outputId": "6663f85a-41ff-409d-9eac-11d7b58f67a2"
      },
      "execution_count": null,
      "outputs": [
        {
          "output_type": "execute_result",
          "data": {
            "text/plain": [
              "120"
            ]
          },
          "metadata": {},
          "execution_count": 109
        }
      ]
    },
    {
      "cell_type": "markdown",
      "source": [
        "# 클로저\n",
        "\n",
        "* 클로징 되어야 하는 메모리 영역에 접근할 수 있는 기법"
      ],
      "metadata": {
        "id": "E523jyT8x6z4"
      }
    },
    {
      "cell_type": "code",
      "source": [
        "def outer_function(x):\n",
        "    def inner_function(y):\n",
        "        return x + y\n",
        "    return inner_function\n",
        "\n",
        "inner = outer_function(100)\n",
        "inner(200) # inner\n",
        "\n",
        "# 위 코드는 아래 코드와 같습니다.\n",
        "# def inner(y):\n",
        "#     return 100 + y"
      ],
      "metadata": {
        "id": "w8NQ9P8lyFTh"
      },
      "execution_count": null,
      "outputs": []
    },
    {
      "cell_type": "code",
      "source": [
        "x = 10\n",
        "y = x\n",
        "z = y"
      ],
      "metadata": {
        "id": "n0MVx5uLyS-b"
      },
      "execution_count": null,
      "outputs": []
    },
    {
      "cell_type": "code",
      "source": [
        "def f(x):\n",
        "    def ff(y):\n",
        "        return y ** x\n",
        "    return ff\n",
        "\n",
        "a = f(2)\n",
        "a(2)\n",
        "a(3)\n",
        "a(4)\n",
        "\n",
        "b = f(3)\n",
        "b(2)\n",
        "b(3)\n",
        "b(4)"
      ],
      "metadata": {
        "colab": {
          "base_uri": "https://localhost:8080/"
        },
        "id": "Tfrfn8iOzNk5",
        "outputId": "dca8de37-01f9-4307-dcd2-17a8d84e7200"
      },
      "execution_count": null,
      "outputs": [
        {
          "output_type": "execute_result",
          "data": {
            "text/plain": [
              "64"
            ]
          },
          "metadata": {},
          "execution_count": 116
        }
      ]
    },
    {
      "cell_type": "markdown",
      "source": [
        "```py\n",
        "def login(function):\n",
        "    pass\n",
        "\n",
        "@login\n",
        "def 게시판읽기():\n",
        "    pass\n",
        "```"
      ],
      "metadata": {
        "id": "rKA3Nu9i0ptf"
      }
    },
    {
      "cell_type": "code",
      "source": [
        "# 클래스를 잘 모른다? 서비스 개발에 문제가 생깁니다. Django로 들어갈 땐 크리티컬 합니다.\n",
        "# 일급함수, 고차함수를 잘 모른다? 괜찮습니다.\n",
        "# 클로저를 잘 모른다? 괜찮습니다.\n",
        "# 데코레이터 잘 모른다? 괜찮습니다."
      ],
      "metadata": {
        "id": "y7PyNHtM0ndG"
      },
      "execution_count": null,
      "outputs": []
    },
    {
      "cell_type": "code",
      "source": [
        "def simple_decorator(function):\n",
        "    def wrapper():\n",
        "        print(\"전\")\n",
        "        function()\n",
        "        print(\"후\")\n",
        "    return wrapper\n",
        "\n",
        "@simple_decorator\n",
        "def hello():\n",
        "    print(\"Hello, World!\")\n",
        "\n",
        "hello() # 데코레이터가 없는 상태에서는 simple_decorator(hello)() 와 같습니다."
      ],
      "metadata": {
        "colab": {
          "base_uri": "https://localhost:8080/"
        },
        "id": "FB4K68Kz1SMl",
        "outputId": "d7656e36-b791-4555-8511-0ab691debadb"
      },
      "execution_count": null,
      "outputs": [
        {
          "output_type": "stream",
          "name": "stdout",
          "text": [
            "전\n",
            "Hello, World!\n",
            "후\n"
          ]
        }
      ]
    }
  ]
}