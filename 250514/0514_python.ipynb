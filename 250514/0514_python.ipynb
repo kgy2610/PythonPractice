{
  "nbformat": 4,
  "nbformat_minor": 0,
  "metadata": {
    "colab": {
      "provenance": []
    },
    "kernelspec": {
      "name": "python3",
      "display_name": "Python 3"
    },
    "language_info": {
      "name": "python"
    }
  },
  "cells": [
    {
      "cell_type": "markdown",
      "source": [
        "# class"
      ],
      "metadata": {
        "id": "y_5KYyiu2Pph"
      }
    },
    {
      "cell_type": "code",
      "execution_count": 1,
      "metadata": {
        "id": "XardoNmj2Orz",
        "colab": {
          "base_uri": "https://localhost:8080/",
          "height": 373
        },
        "outputId": "a5632dee-0dc2-4aed-c016-8bfa50a62706"
      },
      "outputs": [
        {
          "output_type": "error",
          "ename": "KeyboardInterrupt",
          "evalue": "Interrupted by user",
          "traceback": [
            "\u001b[0;31m---------------------------------------------------------------------------\u001b[0m",
            "\u001b[0;31mKeyboardInterrupt\u001b[0m                         Traceback (most recent call last)",
            "\u001b[0;32m<ipython-input-1-f5742f2d844f>\u001b[0m in \u001b[0;36m<cell line: 0>\u001b[0;34m()\u001b[0m\n\u001b[1;32m      4\u001b[0m \u001b[0;34m\u001b[0m\u001b[0m\n\u001b[1;32m      5\u001b[0m \u001b[0;32mwhile\u001b[0m \u001b[0;32mTrue\u001b[0m\u001b[0;34m:\u001b[0m\u001b[0;34m\u001b[0m\u001b[0;34m\u001b[0m\u001b[0m\n\u001b[0;32m----> 6\u001b[0;31m     \u001b[0muser_input\u001b[0m \u001b[0;34m=\u001b[0m \u001b[0mint\u001b[0m\u001b[0;34m(\u001b[0m\u001b[0minput\u001b[0m\u001b[0;34m(\u001b[0m\u001b[0;34m'1부터 100까지 숫자를 입력하세요.'\u001b[0m\u001b[0;34m)\u001b[0m\u001b[0;34m)\u001b[0m\u001b[0;34m\u001b[0m\u001b[0;34m\u001b[0m\u001b[0m\n\u001b[0m\u001b[1;32m      7\u001b[0m     \u001b[0;32mif\u001b[0m \u001b[0muser_input\u001b[0m \u001b[0;34m>\u001b[0m \u001b[0mresult\u001b[0m\u001b[0;34m:\u001b[0m\u001b[0;34m\u001b[0m\u001b[0;34m\u001b[0m\u001b[0m\n\u001b[1;32m      8\u001b[0m         \u001b[0mprint\u001b[0m\u001b[0;34m(\u001b[0m\u001b[0;34m'더 작은 숫자를 입력하세요.'\u001b[0m\u001b[0;34m)\u001b[0m\u001b[0;34m\u001b[0m\u001b[0;34m\u001b[0m\u001b[0m\n",
            "\u001b[0;32m/usr/local/lib/python3.11/dist-packages/ipykernel/kernelbase.py\u001b[0m in \u001b[0;36mraw_input\u001b[0;34m(self, prompt)\u001b[0m\n\u001b[1;32m   1175\u001b[0m                 \u001b[0;34m\"raw_input was called, but this frontend does not support input requests.\"\u001b[0m\u001b[0;34m\u001b[0m\u001b[0;34m\u001b[0m\u001b[0m\n\u001b[1;32m   1176\u001b[0m             )\n\u001b[0;32m-> 1177\u001b[0;31m         return self._input_request(\n\u001b[0m\u001b[1;32m   1178\u001b[0m             \u001b[0mstr\u001b[0m\u001b[0;34m(\u001b[0m\u001b[0mprompt\u001b[0m\u001b[0;34m)\u001b[0m\u001b[0;34m,\u001b[0m\u001b[0;34m\u001b[0m\u001b[0;34m\u001b[0m\u001b[0m\n\u001b[1;32m   1179\u001b[0m             \u001b[0mself\u001b[0m\u001b[0;34m.\u001b[0m\u001b[0m_parent_ident\u001b[0m\u001b[0;34m[\u001b[0m\u001b[0;34m\"shell\"\u001b[0m\u001b[0;34m]\u001b[0m\u001b[0;34m,\u001b[0m\u001b[0;34m\u001b[0m\u001b[0;34m\u001b[0m\u001b[0m\n",
            "\u001b[0;32m/usr/local/lib/python3.11/dist-packages/ipykernel/kernelbase.py\u001b[0m in \u001b[0;36m_input_request\u001b[0;34m(self, prompt, ident, parent, password)\u001b[0m\n\u001b[1;32m   1217\u001b[0m             \u001b[0;32mexcept\u001b[0m \u001b[0mKeyboardInterrupt\u001b[0m\u001b[0;34m:\u001b[0m\u001b[0;34m\u001b[0m\u001b[0;34m\u001b[0m\u001b[0m\n\u001b[1;32m   1218\u001b[0m                 \u001b[0;31m# re-raise KeyboardInterrupt, to truncate traceback\u001b[0m\u001b[0;34m\u001b[0m\u001b[0;34m\u001b[0m\u001b[0m\n\u001b[0;32m-> 1219\u001b[0;31m                 \u001b[0;32mraise\u001b[0m \u001b[0mKeyboardInterrupt\u001b[0m\u001b[0;34m(\u001b[0m\u001b[0;34m\"Interrupted by user\"\u001b[0m\u001b[0;34m)\u001b[0m \u001b[0;32mfrom\u001b[0m \u001b[0;32mNone\u001b[0m\u001b[0;34m\u001b[0m\u001b[0;34m\u001b[0m\u001b[0m\n\u001b[0m\u001b[1;32m   1220\u001b[0m             \u001b[0;32mexcept\u001b[0m \u001b[0mException\u001b[0m\u001b[0;34m:\u001b[0m\u001b[0;34m\u001b[0m\u001b[0;34m\u001b[0m\u001b[0m\n\u001b[1;32m   1221\u001b[0m                 \u001b[0mself\u001b[0m\u001b[0;34m.\u001b[0m\u001b[0mlog\u001b[0m\u001b[0;34m.\u001b[0m\u001b[0mwarning\u001b[0m\u001b[0;34m(\u001b[0m\u001b[0;34m\"Invalid Message:\"\u001b[0m\u001b[0;34m,\u001b[0m \u001b[0mexc_info\u001b[0m\u001b[0;34m=\u001b[0m\u001b[0;32mTrue\u001b[0m\u001b[0;34m)\u001b[0m\u001b[0;34m\u001b[0m\u001b[0;34m\u001b[0m\u001b[0m\n",
            "\u001b[0;31mKeyboardInterrupt\u001b[0m: Interrupted by user"
          ]
        }
      ],
      "source": [
        "import random\n",
        "\n",
        "result = random.randint(1, 100)\n",
        "\n",
        "while True:\n",
        "    user_input = int(input('1부터 100까지 숫자를 입력하세요.'))\n",
        "    if user_input > result:\n",
        "        print('더 작은 숫자를 입력하세요.')\n",
        "    elif user_input < result:\n",
        "        print('더 큰 숫자를 입력하세요.')\n",
        "    else:\n",
        "        print('정답입니다!')\n",
        "        break"
      ]
    },
    {
      "cell_type": "code",
      "source": [
        "# break, continue는 while과 for에서 모두 쓸 수 있습니다.\n",
        "# break은 반복문을 중단하는 것이고\n",
        "# continue는 다음 반복문으로 넘어가는 것입니다.\n",
        "\n",
        "# for i in range(10):\n",
        "#     if i == 3:\n",
        "#         break\n",
        "#     print(i)\n",
        "\n",
        "for i in range(10):\n",
        "    if i == 3:\n",
        "        continue\n",
        "    print(i)"
      ],
      "metadata": {
        "id": "yrFXg6Um2X-4"
      },
      "execution_count": null,
      "outputs": []
    },
    {
      "cell_type": "code",
      "source": [
        "# 클래스 - 설계 도면\n",
        "# 인스턴스 - 생산품\n",
        "\n",
        "# 클래스 내의 변수 - 멤버 또는 애트리뷰트\n",
        "# 클래스 내의 함수 - 메서드\n",
        "\n",
        "# 자동차!\n",
        "# 데이터(멤버, 애트리뷰트) # 클래스 내 변수로 선언됩니다. 이것을 멤버 또는 애트리뷰트라고 합니다.\n",
        "#   * 최대 속도\n",
        "#   * 최대 탑승객\n",
        "\n",
        "# 기능(메서드) # 클래스 내 함수로 선언됩니다. 이것을 메서드라고 합니다.\n",
        "#   * 출발\n",
        "#   * 정지"
      ],
      "metadata": {
        "id": "qPVSew1X2Y-3"
      },
      "execution_count": null,
      "outputs": []
    },
    {
      "cell_type": "code",
      "source": [
        "# 클래스 변수\n",
        "# - 설계 도면에 포함되어야 하는 것,\n",
        "# - 클래스 바로 아래 선언합니다.\n",
        "# - 모든 인스턴스가 이 변수를 공유합니다.\n",
        "\n",
        "# 인스턴스 변수\n",
        "# - 생산품에 포함되어야 하는 것\n",
        "# - 보통 __init__ 아래 선언합니다.\n",
        "# - 인스턴스 고유의 영역입니다.\n",
        "\n",
        "class Car:\n",
        "    # 클래스 변수의 위치\n",
        "    max_speed = 300\n",
        "    max_people = 5\n",
        "\n",
        "modelx = Car()\n",
        "print(Car.max_speed)\n",
        "print(modelx.max_speed)"
      ],
      "metadata": {
        "id": "vn3WY7Wk2aN_"
      },
      "execution_count": null,
      "outputs": []
    },
    {
      "cell_type": "code",
      "source": [
        "# 클래스 변수 - 설계 도면에 포함되어야 하는 것\n",
        "# 인스턴스 변수 - 생산품에 포함되어야 하는 것\n",
        "\n",
        "class Car:\n",
        "    # 클래스 변수 위치\n",
        "    max_speed = 300\n",
        "    max_people = 5\n",
        "\n",
        "    def __init__(self, 구매자):\n",
        "        # 인스턴스 변수 위치\n",
        "        # 'self.변수이름'의 형태\n",
        "        self.차구매자 = 구매자\n",
        "\n",
        "modela = Car('구매자1')\n",
        "modelb = Car('구매자2')\n",
        "\n",
        "modela.차구매자\n",
        "modelb.차구매자"
      ],
      "metadata": {
        "id": "lyMIyX2W2b4X"
      },
      "execution_count": null,
      "outputs": []
    },
    {
      "cell_type": "code",
      "source": [
        "# self의 정체! - self는 해당 인스턴스를 얘기합니다.\n",
        "\n",
        "class Car:\n",
        "    # 클래스 변수 위치\n",
        "    max_speed = 300\n",
        "    max_people = 5\n",
        "\n",
        "    def __init__(self, 구매자):\n",
        "        # 인스턴스 변수 위치\n",
        "        # 'self.변수이름'의 형태\n",
        "        self.차구매자 = 구매자\n",
        "\n",
        "modela = Car('구매자1')\n",
        "modelb = Car('구매자2')\n",
        "\n",
        "# 인스턴스 변수를 이렇게 넣을 수도 있습니다!\n",
        "modela.스마트키 = '키티 스마트키'\n",
        "modela.스마트키"
      ],
      "metadata": {
        "id": "zIlob9U_2eQ4"
      },
      "execution_count": null,
      "outputs": []
    },
    {
      "cell_type": "code",
      "source": [
        "# self의 정체! - self는 해당 인스턴스를 얘기합니다.\n",
        "\n",
        "class Car:\n",
        "    # 클래스 변수 위치\n",
        "    max_speed = 300\n",
        "    max_people = 5\n",
        "\n",
        "    def __init__(self, 구매자):\n",
        "        # 인스턴스 변수 위치\n",
        "        # 'self.변수이름'의 형태\n",
        "        self.차구매자 = 구매자\n",
        "\n",
        "modela = Car('구매자1')\n",
        "modelb = Car('구매자2')\n",
        "\n",
        "# 인스턴스 변수를 이렇게 넣을 수도 있습니다!\n",
        "modela.스마트키 = '키티 스마트키'\n",
        "modela.스마트키\n",
        "# .으로 접근하는 것이 생소하다!? => list나 tuple, dict를 생각하세요.\n",
        "# l.append()로 접근하잖아요?\n",
        "# l['append']이렇게 접근하지 않죠.\n",
        "# 같은 원리로 modela['스마트키']로 접근하지 않습니다."
      ],
      "metadata": {
        "id": "ENqGwAXl2ffm"
      },
      "execution_count": null,
      "outputs": []
    },
    {
      "cell_type": "code",
      "source": [
        "# 비교해보세요.\n",
        "# 초급자의 마음:\n",
        "# 클래스가 더 복잡하고 난해하죠?\n",
        "# 아니, 굳이 이렇게까지 해야하나요?\n",
        "\n",
        "# 항공사, 편명, 좌석번호, 이름, 나이, 짐무게(kg), 마일리지\n",
        "data = [\n",
        "    ['대한항공', 'KE607', '12A', '김민준', 42, 23, 5280],\n",
        "    ['아시아나', 'OZ721', '8C', '이', 29, 18, 3450],\n",
        "    ['제주항공', '7C101', '15F', '박지민', 35, 15, 720],\n",
        "    ['진에어', 'LJ211', '4D', '최서우미래한별', 51, 27, 8900],\n",
        "    ['에어부산', 'BX213', '21B', '정', 24, 12, 1250],\n",
        "    ['티웨이', 'TW305', '19E', '강민석', 38, 20, 2760],\n",
        "    ['에어서울', 'RS808', '3C', '윤지현', 47, 16, 4320],\n",
        "    ['대한항공', 'KE123', '7F', '송', 33, 21, 6780],\n",
        "    ['아시아나', 'OZ562', '11D', '장하은별님달빛', 26, 19, 1890],\n",
        "    ['제주항공', '7C505', '17B', '황수진', 40, 14, 940]\n",
        "]\n",
        "\n",
        "class Passenger:\n",
        "    def __init__(self, 항공사, 편명, 좌석번호, 이름, 나이, 짐무게, 마일리지):\n",
        "        self.항공사 = 항공사\n",
        "        self.편명 = 편명\n",
        "        self.좌석번호 = 좌석번호\n",
        "        self.이름 = 이름\n",
        "        self.나이 = 나이\n",
        "        self.짐무게 = 짐무게\n",
        "        self.마일리지 = 마일리지\n",
        "\n",
        "p1 = Passenger('대한항공', 'KE607', '12A', '김민준', 42, 23, 5280)\n",
        "p2 = Passenger('아시아나', 'OZ721', '8C', '이', 29, 18, 3450)\n",
        "p3 = Passenger('제주항공', '7C101', '15F', '박지민', 35, 15, 720)\n",
        "\n",
        "p1.이름"
      ],
      "metadata": {
        "id": "o502oa3q2ghX"
      },
      "execution_count": null,
      "outputs": []
    },
    {
      "cell_type": "code",
      "source": [
        "# 중급자 입장:\n",
        "# 1. 예를 들어서 print로 출력을 했을 때 출력되는 길이가 너무 긴 경우가 있을 수 있어요.\n",
        "# 2. 예를 들어 data끼리 더해야 될 때가 있어요.\n",
        "\n",
        "# 항공사, 편명, 좌석번호, 이름, 나이, 짐무게(kg), 마일리지\n",
        "data = [\n",
        "    ['대한항공', 'KE607', '12A', '김민준', 42, 23, 5280],\n",
        "    ['아시아나', 'OZ721', '8C', '이', 29, 18, 3450],\n",
        "    ['제주항공', '7C101', '15F', '박지민', 35, 15, 720],\n",
        "    ['진에어', 'LJ211', '4D', '최서우미래한별', 51, 27, 8900],\n",
        "    ['에어부산', 'BX213', '21B', '정', 24, 12, 1250],\n",
        "    ['티웨이', 'TW305', '19E', '강민석', 38, 20, 2760],\n",
        "    ['에어서울', 'RS808', '3C', '윤지현', 47, 16, 4320],\n",
        "    ['대한항공', 'KE123', '7F', '송', 33, 21, 6780],\n",
        "    ['아시아나', 'OZ562', '11D', '장하은별님달빛', 26, 19, 1890],\n",
        "    ['제주항공', '7C505', '17B', '황수진', 40, 14, 940]\n",
        "]\n",
        "\n",
        "data[0] # 1. 수천자 출력할 수도 있는데?\n",
        "data[0] + data[1] # 2. 나는 마일리지 더하기를 하고 싶었는데?"
      ],
      "metadata": {
        "id": "b0_sFgUa2nyD"
      },
      "execution_count": null,
      "outputs": []
    },
    {
      "cell_type": "code",
      "source": [
        "# 중급자가 다음과 같이 해결해요.\n",
        "\n",
        "\n",
        "class Passenger:\n",
        "    def __init__(self, 항공사, 편명, 좌석번호, 이름, 나이, 짐무게, 마일리지):\n",
        "        self.항공사 = 항공사\n",
        "        self.편명 = 편명\n",
        "        self.좌석번호 = 좌석번호\n",
        "        self.이름 = 이름\n",
        "        self.나이 = 나이\n",
        "        self.짐무게 = 짐무게\n",
        "        self.마일리지 = 마일리지\n",
        "\n",
        "    def __str__(self):\n",
        "        return f'{self.이름}, {self.나이}!!'\n",
        "\n",
        "    def __add__(self, next):\n",
        "        return self.마일리지 + next.마일리지\n",
        "\n",
        "\n",
        "p1 = Passenger('대한항공', 'KE607', '12A', '김민준', 42, 23, 5280)\n",
        "p2 = Passenger('아시아나', 'OZ721', '8C', '이', 29, 18, 3450)\n",
        "p3 = Passenger('제주항공', '7C101', '15F', '박지민', 35, 15, 720)\n",
        "\n",
        "print(p1) # 원하는 정보만 출력한 것입니다.\n",
        "p1 + p2 # 마일리지 더한 것입니다."
      ],
      "metadata": {
        "id": "wkeCrc742oA5"
      },
      "execution_count": null,
      "outputs": []
    },
    {
      "cell_type": "code",
      "source": [
        "class Dot:\n",
        "\n",
        "    def __init__(self, x, y):\n",
        "        self.x = x\n",
        "        self.y = y\n",
        "\n",
        "a = Dot(1, 1)\n",
        "b = Dot(2, 2)\n",
        "\n",
        "a + b # '+'기호는 Dot에 __add__를 실행합니다!"
      ],
      "metadata": {
        "id": "RCtmMjO22pua"
      },
      "execution_count": null,
      "outputs": []
    },
    {
      "cell_type": "code",
      "source": [
        "class Dot:\n",
        "\n",
        "    def __init__(self, x, y):\n",
        "        self.x = x\n",
        "        self.y = y\n",
        "\n",
        "    def __add__(self, next):\n",
        "        return self.x + next.x, self.y + next.y\n",
        "\n",
        "a = Dot(1, 1)\n",
        "b = Dot(2, 2)\n",
        "\n",
        "a + b # '+'기호는 a에 __add__를 실행합니다!"
      ],
      "metadata": {
        "id": "oXtyug8K2sPN"
      },
      "execution_count": null,
      "outputs": []
    },
    {
      "cell_type": "code",
      "source": [
        "a = 10 # a는 int라는 클래스에 인스턴스 입니다!\n",
        "b = 20 # b는 int라는 클래스에 인스턴스 입니다!\n",
        "\n",
        "a + b # a인스턴스의 __add__를 실행시킨 결과를 보여주세요!"
      ],
      "metadata": {
        "id": "6d40Gb8I2uTy"
      },
      "execution_count": null,
      "outputs": []
    },
    {
      "cell_type": "code",
      "source": [
        "class Dot:\n",
        "\n",
        "    def __init__(self, x, y):\n",
        "        self.x = x\n",
        "        self.y = y\n",
        "\n",
        "    def __add__(self, next):\n",
        "        return [self.x + next.x, self.y + next.y]\n",
        "\n",
        "    def __mul__(self, next):\n",
        "        return [self.x * next.x , self.y * next.y]\n",
        "\n",
        "a = Dot(1, 1)\n",
        "b = Dot(2, 2)\n",
        "\n",
        "a + b # '+'기호는 a에 __add__를 실행합니다!\n",
        "a * b # '*'기호는 a에 __mul__를 실행합니다!"
      ],
      "metadata": {
        "id": "Fdeo5lOF2vGh"
      },
      "execution_count": null,
      "outputs": []
    },
    {
      "cell_type": "code",
      "source": [
        "a = 10 # a는 int라는 클래스에 인스턴스 입니다!\n",
        "b = 20 # b는 int라는 클래스에 인스턴스 입니다!\n",
        "\n",
        "a + b # a인스턴스의 __add__를 실행시킨 결과를 보여주세요!\n",
        "a * b # a인스턴스의 __mul__를 실행시킨 결과를 보여주세요!"
      ],
      "metadata": {
        "id": "Q95h5Dp12vUq"
      },
      "execution_count": null,
      "outputs": []
    },
    {
      "cell_type": "code",
      "source": [
        "class Dot:\n",
        "\n",
        "    def __init__(self, x, y):\n",
        "        self.x = x\n",
        "        self.y = y\n",
        "\n",
        "    def __add__(self, next):\n",
        "        return [self.x + next.x, self.y + next.y]\n",
        "\n",
        "    def __mul__(self, next):\n",
        "        return [self.x * next.x , self.y * next.y]\n",
        "\n",
        "a = Dot(1, 1)\n",
        "b = Dot(2, 2)\n",
        "\n",
        "a + b # '+'기호는 a에 __add__를 실행합니다!\n",
        "a * b # '*'기호는 a에 __mul__를 실행합니다!"
      ],
      "metadata": {
        "id": "jKmHkoMn2wNh"
      },
      "execution_count": null,
      "outputs": []
    },
    {
      "cell_type": "code",
      "source": [
        "a = 10 # a는 int라는 클래스에 인스턴스입니다!\n",
        "b = 20 # b는 int라는 클래스에 인스턴스입니다!\n",
        "\n",
        "a + b # a인스턴스의 __add__를 실행시킨 결과를 보여주세요!\n",
        "a * b # a인스턴스의 __mul__를 실행시킨 결과를 보여주세요!"
      ],
      "metadata": {
        "id": "htPgBmyC2xMn"
      },
      "execution_count": null,
      "outputs": []
    },
    {
      "cell_type": "code",
      "source": [
        "class Dot:\n",
        "\n",
        "    def __init__(self, x, y):\n",
        "        self.x = x\n",
        "        self.y = y\n",
        "\n",
        "    def __eq__(self, next):\n",
        "        return False\n",
        "\n",
        "a = Dot(1, 1)\n",
        "b = Dot(2, 2)\n",
        "\n",
        "a == b # '=='기호는 a에 __eq__를 실행합니다!"
      ],
      "metadata": {
        "id": "iwPdTI_I2yK8"
      },
      "execution_count": null,
      "outputs": []
    },
    {
      "cell_type": "code",
      "source": [
        "l = [10, 20] # l은 list라는 클래스에 인스턴스입니다!\n",
        "ll = [10, 20] # ll은 list라는 클래스에 인스턴스입니다!\n",
        "\n",
        "l == ll # l인스턴스의 __eq__를 실행시킨 결과를 보여주세요!"
      ],
      "metadata": {
        "id": "fEfN5DeX2zJn"
      },
      "execution_count": null,
      "outputs": []
    },
    {
      "cell_type": "code",
      "source": [
        "class Dot:\n",
        "\n",
        "    def __init__(self, x, y):\n",
        "        self.x = x\n",
        "        self.y = y\n",
        "\n",
        "    def __eq__(self, next):\n",
        "        # return False\n",
        "        return self.x == next.x and self.y == next.y\n",
        "\n",
        "a = Dot(1, 1)\n",
        "b = Dot(1, 2)\n",
        "\n",
        "a == b # '=='기호는 a에 __eq__를 실행합니다!"
      ],
      "metadata": {
        "id": "2Ti-qrgo20Ec"
      },
      "execution_count": null,
      "outputs": []
    },
    {
      "cell_type": "code",
      "source": [
        "dir(l) # __add__가 있기 때문에 +가 되는 자료형이라는 것을 알 수 있습니다."
      ],
      "metadata": {
        "id": "nxODd15q206k"
      },
      "execution_count": null,
      "outputs": []
    },
    {
      "cell_type": "code",
      "source": [
        "class Dot:\n",
        "\n",
        "    def __init__(self, x, y):\n",
        "        self.x = x\n",
        "        self.y = y\n",
        "\n",
        "    def __str__(self):\n",
        "        # return f'<{self.x}, {self.y}>'\n",
        "        return 'hello world'\n",
        "\n",
        "a = Dot(1, 1)\n",
        "b = Dot(2, 2)\n",
        "\n",
        "print(a) # print는 a의 __str__을 실행합니다.\n",
        "print(b) # print는 a의 __str__을 실행합니다."
      ],
      "metadata": {
        "id": "SU65NHRD2128"
      },
      "execution_count": null,
      "outputs": []
    },
    {
      "cell_type": "markdown",
      "source": [
        "# Class 예제"
      ],
      "metadata": {
        "id": "yPZmhzrb4ot5"
      }
    },
    {
      "cell_type": "code",
      "source": [
        "## 문제 1: 간단한 Book 클래스 만들기\n",
        "# 책을 표현하는 Book 클래스를 만들어보세요. 책은 제목, 저자, 페이지 수를 가지며, 책 정보를 출력하는 기능이 있어야 합니다.\n",
        "\n",
        "# 요구사항:\n",
        "# 제목(title), 저자(author), 페이지 수(pages)를 속성으로 가짐\n",
        "# str 메서드를 구현하여 책 정보를 \"제목 (저자, 페이지수 쪽)\" 형식으로 출력\n",
        "# book1과 book2를 비교했을 때 페이지 수가 많은 책이 \"더 큰\" 책이 되도록 gt 메서드 구현\n",
        "\n",
        "# 예시 실행 코드\n",
        "# book1 = Book(\"파이썬 기초\", \"김코딩\", 200)\n",
        "# book2 = Book(\"자바 기초\", \"이자바\", 300)\n",
        "\n",
        "# print(book1)  # 출력 예상: 파이썬 기초 (김코딩, 200 쪽)\n",
        "# print(book2 > book1)  # 출력 예상: True (300 > 200)"
      ],
      "metadata": {
        "id": "ViCoEhdT2200"
      },
      "execution_count": null,
      "outputs": []
    },
    {
      "cell_type": "code",
      "source": [
        "class Book:\n",
        "  def __init__(self, title, author, pages): # __init__ : 생성자 함수, book()을 사용할 때 자동으로 호출\n",
        "    self.title = title # self : 해당 인스턴스 자신, book1 또는 book2\n",
        "    self.author = author\n",
        "    self.pages = pages\n",
        "\n",
        "  def __str__(self): # __str__ : 문자열 표현 함수\n",
        "    return f\"{self.title}({self.author}, {self.pages}쪽)\"\n",
        "\n",
        "  def __gt__(self, other):\n",
        "    # __gt__ : greater than, \">\"\n",
        "    # __lt__ : less than, \"<\"\n",
        "    # __eq__ : equal, \"==\"\n",
        "    return self.pages > other.pages # self는 왼쪽(book1), other은 오른쪽(book2)\n",
        "\n",
        "book1 = Book(\"파이썬 기초\", \"김코딩\", 200)\n",
        "book2 = Book(\"자바 기초\", \"이자바\", 300)\n",
        "\n",
        "print(book1)  # 출력 예상: 파이썬 기초 (김코딩, 200 쪽)\n",
        "print(f\"{book2 > book1} ({book2.pages} > {book1.pages})\")  # 출력 예상: True (300 > 200)"
      ],
      "metadata": {
        "id": "uKfAeNr-5QtI",
        "colab": {
          "base_uri": "https://localhost:8080/"
        },
        "outputId": "39a1839c-3187-4ec3-caa9-cc485b46a274"
      },
      "execution_count": 3,
      "outputs": [
        {
          "output_type": "stream",
          "name": "stdout",
          "text": [
            "파이썬 기초(김코딩, 200쪽)\n",
            "True (300 > 200)\n"
          ]
        }
      ]
    },
    {
      "cell_type": "code",
      "source": [
        "## 문제 2: 계산기 클래스 만들기\n",
        "# 사칙연산을 수행할 수 있는 Calculator 클래스를 만들어보세요.\n",
        "\n",
        "# Calculator 클래스를 구현하세요\n",
        "# 요구사항:\n",
        "# 덧셈, 뺄셈, 곱셈, 나눗셈 기능 구현\n",
        "# 계산 기록을 저장하는 기능 추가\n",
        "# 마지막 계산 결과를 기억하고 있어야 함\n",
        "# 예시 실행 코드\n",
        "# calc = Calculator()\n",
        "# print(calc.add(5, 3))  # 출력 예상: 8\n",
        "# print(calc.subtract(10, 7))  # 출력 예상: 3\n",
        "# print(calc.multiply(4, 2))  # 출력 예상: 8\n",
        "# print(calc.divide(9, 3))  # 출력 예상: 3.0\n",
        "# print(calc.get_history())  # 출력 예상: ['5 + 3 = 8', '10 - 7 = 3', '4 * 2 = 8', '9 / 3 = 3.0']\n",
        "# print(calc.get_last_result())  # 출력 예상: 3.0"
      ],
      "metadata": {
        "id": "dcpncxxE7EFA"
      },
      "execution_count": null,
      "outputs": []
    },
    {
      "cell_type": "code",
      "source": [
        "class Calculator:\n",
        "  def __init__(self):\n",
        "    self.history = [] # 리스트로 기록 저장\n",
        "    self.last_result = None # 마지막 결과의 초기값은 없음\n",
        "\n",
        "  # 덧셈\n",
        "  def add(self, x, y):\n",
        "    result = x + y # result에 x + y 저장\n",
        "    self.last_result = result # 마지막 결과값에 result 저장\n",
        "    self.history.append(f\"{x} + {y} = {result}\") #계산 기록 저장\n",
        "    return result\n",
        "\n",
        "  # 뺄셈\n",
        "  def subtract(self, x, y):\n",
        "    result = x - y\n",
        "    self.last_result = result\n",
        "    self.history.append(f\"{x} - {y} = {result}\")\n",
        "    return result\n",
        "\n",
        "  # 곱셈\n",
        "  def multiply(self, x, y):\n",
        "    result = x * y\n",
        "    self.last_result = result\n",
        "    self.history.append(f\"{x} * {y} = {result}\")\n",
        "    return result\n",
        "\n",
        "  # 나눗셈\n",
        "  def divide(self, x, y):\n",
        "    if y == 0:\n",
        "      self.history.append(f\"{x} / {y} = 오류(0으로 나눌 수 없음)\")\n",
        "      return \"오류: 0으로 나눌 수 없습니다.\"\n",
        "    result = x / y\n",
        "    self.last_result = result\n",
        "    self.history.append(f\"{x} / {y} = {result}\")\n",
        "    return result\n",
        "\n",
        "    # 계산 기록\n",
        "  def get_history(self):\n",
        "      return self.history\n",
        "\n",
        "  # 마지막 결과\n",
        "  def get_last_result(self):\n",
        "      return self.last_result\n",
        "\n",
        "calc = Calculator()\n",
        "print(calc.add(5, 3))  # 출력 예상: 8\n",
        "print(calc.subtract(10, 7))  # 출력 예상: 3\n",
        "print(calc.multiply(4, 2))  # 출력 예상: 8\n",
        "print(calc.divide(9, 3))  # 출력 예상: 3.0\n",
        "print(calc.get_history())  # 출력 예상: ['5 + 3 = 8', '10 - 7 = 3', '4 * 2 = 8', '9 / 3 = 3.0']\n",
        "print(calc.get_last_result())  # 출력 예상: 3.0"
      ],
      "metadata": {
        "id": "SY8Mfc4H7I4N",
        "colab": {
          "base_uri": "https://localhost:8080/"
        },
        "outputId": "9ca68013-b5e7-465b-9016-9be5602f72b5"
      },
      "execution_count": 13,
      "outputs": [
        {
          "output_type": "stream",
          "name": "stdout",
          "text": [
            "8\n",
            "3\n",
            "8\n",
            "3.0\n",
            "['5 + 3 = 8', '10 - 7 = 3', '4 * 2 = 8', '9 / 3 = 3.0']\n",
            "3.0\n"
          ]
        }
      ]
    },
    {
      "cell_type": "code",
      "source": [
        "## 문제 3: 간단한 학생 성적 관리 클래스 만들기\n",
        "# 학생들의 성적을 관리하는 GradeBook 클래스를 만들어보세요.\n",
        "\n",
        "# GradeBook 클래스를 구현하세요\n",
        "# 요구사항:\n",
        "# 학생 이름과 점수를 추가하는 기능\n",
        "# 전체 학생 목록과 점수를 출력하는 기능\n",
        "# 최고 점수와 해당 학생 이름을 반환하는 기능\n",
        "# 평균 점수를 계산하는 기능\n",
        "# 예시 실행 코드\n",
        "# gradebook = GradeBook()\n",
        "# gradebook.add_student(\"김철수\", 85)\n",
        "# gradebook.add_student(\"이영희\", 92)\n",
        "# gradebook.add_student(\"박민수\", 78)\n",
        "# gradebook.add_student(\"정지원\", 95)\n",
        "\n",
        "# gradebook.print_grades()  # 모든 학생의 이름과 점수 출력\n",
        "# print(f\"최고 점수: {gradebook.get_highest_grade()}\")  # 출력 예상: 최고 점수: ('정지원', 95)\n",
        "# print(f\"평균 점수: {gradebook.get_average()}\")  # 출력 예상: 평균 점수: 87.5"
      ],
      "metadata": {
        "id": "UAMODfhy7JFk"
      },
      "execution_count": 14,
      "outputs": []
    },
    {
      "cell_type": "code",
      "source": [
        "class GradeBook:\n",
        "  def __init__(self):\n",
        "    self.grades = {} # 딕셔너리로 학생 이름과 점수 저장\n",
        "\n",
        "  # 학생 추가\n",
        "  def add_student(self, name, score):\n",
        "    self.grades[name] = score\n",
        "\n",
        "  # 전체 출력\n",
        "  def print_grades(self):\n",
        "    for name, score in self.grades.items():\n",
        "      print(f\"{name}: {score}점\")\n",
        "\n",
        "  # 최고 점수와 학생 이름\n",
        "  def get_highest_grade(self):\n",
        "    if not self.grades: # 점수 데이터가 없을 때\n",
        "      return None\n",
        "    best_student = max(self.grades, key=self.grades.get) # max로 점수가 가장 높은 학생 찾기\n",
        "    return (best_student, self.grades[best_student])\n",
        "\n",
        "  # 평균 점수\n",
        "  def get_average(self):\n",
        "    if not self.grades: # 점수 데이터가 없을 때\n",
        "      return 0\n",
        "    total = sum(self.grades.values())\n",
        "    return total / len(self.grades)\n",
        "\n",
        "gradebook = GradeBook()\n",
        "gradebook.add_student(\"김철수\", 85)\n",
        "gradebook.add_student(\"이영희\", 92)\n",
        "gradebook.add_student(\"박민수\", 78)\n",
        "gradebook.add_student(\"정지원\", 95)\n",
        "\n",
        "gradebook.print_grades()  # 모든 학생의 이름과 점수 출력\n",
        "print(f\"최고 점수: {gradebook.get_highest_grade()}\")  # 출력 예상: 최고 점수: ('정지원', 95)\n",
        "print(f\"평균 점수: {gradebook.get_average()}\")  # 출력 예상: 평균 점수: 87.5"
      ],
      "metadata": {
        "colab": {
          "base_uri": "https://localhost:8080/"
        },
        "id": "YHCa4loiPHNx",
        "outputId": "9f8a6857-e26f-41df-8854-feb1ace6ed2a"
      },
      "execution_count": 17,
      "outputs": [
        {
          "output_type": "stream",
          "name": "stdout",
          "text": [
            "김철수: 85점\n",
            "이영희: 92점\n",
            "박민수: 78점\n",
            "정지원: 95점\n",
            "최고 점수: ('정지원', 95)\n",
            "평균 점수: 87.5\n"
          ]
        }
      ]
    },
    {
      "cell_type": "code",
      "source": [
        "# 나아가기\n",
        "## 실무라면 어떻게 하는 것이 좋았을까요?\n",
        "# -> class로 변환할 수 있는 것은 모두 클래스로 변경했을 것입니다."
      ],
      "metadata": {
        "id": "CWyQwLywa4Ya"
      },
      "execution_count": null,
      "outputs": []
    },
    {
      "cell_type": "markdown",
      "source": [
        "# lambda"
      ],
      "metadata": {
        "id": "fDX9hHQoVuLm"
      }
    },
    {
      "cell_type": "code",
      "source": [
        "# 이름이 없는 함수!\n",
        "# 함수 => 재사용 하려고 사용!\n",
        "# 이름이 없는 함수인 lambda는 재사용이 목적이 아니라 함수 기능 자체에 목적이 있습니다.\n",
        "def f(x): # 이 f함수를 거의 재사용하지 않아요! 한 번만 사용하는 경우가 많습니다.\n",
        "  return x ** 2\n",
        "list(map(f, [1, 2, 3, 4]))"
      ],
      "metadata": {
        "colab": {
          "base_uri": "https://localhost:8080/"
        },
        "id": "cTy20TgDcCpL",
        "outputId": "0de9d062-5391-4087-a1af-bcd13c7b8d61"
      },
      "execution_count": 19,
      "outputs": [
        {
          "output_type": "execute_result",
          "data": {
            "text/plain": [
              "[1, 4, 9, 16]"
            ]
          },
          "metadata": {},
          "execution_count": 19
        }
      ]
    },
    {
      "cell_type": "code",
      "source": [
        "list(map(lambda x: x ** 2, [1, 2, 3, 4]))"
      ],
      "metadata": {
        "colab": {
          "base_uri": "https://localhost:8080/"
        },
        "id": "dO1rPBy5cb24",
        "outputId": "aa0364b2-37fe-4977-e1ee-6916c207e3e0"
      },
      "execution_count": 21,
      "outputs": [
        {
          "output_type": "execute_result",
          "data": {
            "text/plain": [
              "[1, 4, 9, 16]"
            ]
          },
          "metadata": {},
          "execution_count": 21
        }
      ]
    },
    {
      "cell_type": "code",
      "source": [
        "# lambda가 자주 사용되는 곳은 어디인가요?\n",
        "\n",
        "# 보통\n",
        "# map\n",
        "# filter\n",
        "# sorted\n",
        "\n",
        "# 다만, 고급 프로그래머는 시도 때도 없이 lambda를 사용합니다.\n",
        "# 그리고 한 줄로만 코딩하려는 이상한 분들이 있으십니다. => 권하지 않습니다.\n",
        "# 가독성은 중요합니다. lambda를 너무 겹쳐서 쓰면 가독성이 깨집니다."
      ],
      "metadata": {
        "id": "38NFr3kMch20"
      },
      "execution_count": 22,
      "outputs": []
    },
    {
      "cell_type": "code",
      "source": [
        "# [2, 4, 3, 7, 5, 3, 4, 1, 2, 3]에서 4 이상인 값을 모두 출력하세요. lambda를 통해 구현하세요\n",
        "\n",
        "list(filter(lambda x: x>= 4, [2, 4, 3, 7, 5, 3, 4, 1, 2, 3]))"
      ],
      "metadata": {
        "colab": {
          "base_uri": "https://localhost:8080/"
        },
        "id": "AV8pXzvJc6JR",
        "outputId": "e6aba1e2-92cb-4d3c-92ff-345949b57378"
      },
      "execution_count": 26,
      "outputs": [
        {
          "output_type": "execute_result",
          "data": {
            "text/plain": [
              "[4, 7, 5, 4]"
            ]
          },
          "metadata": {},
          "execution_count": 26
        }
      ]
    },
    {
      "cell_type": "code",
      "source": [
        "# lambda를 이름 있는 함수로?\n",
        "\n",
        "f = lambda num: num >= 4\n",
        "\n",
        "def f(num):\n",
        "    return num >= 4"
      ],
      "metadata": {
        "id": "Iv4NFshofnNC"
      },
      "execution_count": 28,
      "outputs": []
    },
    {
      "cell_type": "code",
      "source": [
        "# 가독성이 매우 떨어지는 코드\n",
        "\n",
        "# 가독성이 매우 떨어지는 중첩 lambda 예시\n",
        "process_data = lambda data: list(map(\n",
        "    lambda x: (lambda y: (lambda z: z ** 2)(y * 3) if y % 2 == 0 else (lambda w: w + 10)(y))(\n",
        "        (lambda a: a + 5 if a > 10 else (lambda b: b * 2)(a))(x)\n",
        "    ),\n",
        "    filter(lambda n: (lambda p: p > 0)(n) and (lambda q: q < 100)(n) and (lambda r: r % 3 != 0 or r % 5 == 0)(n), data)\n",
        "))\n",
        "\n",
        "# 사용 예시\n",
        "numbers = list(range(-10, 30))\n",
        "result = process_data(numbers)\n",
        "print(result)"
      ],
      "metadata": {
        "colab": {
          "base_uri": "https://localhost:8080/"
        },
        "id": "Gz1JYwXnm3pw",
        "outputId": "63b7e1bd-f55d-4731-81e2-568863610c6a"
      },
      "execution_count": 29,
      "outputs": [
        {
          "output_type": "stream",
          "name": "stdout",
          "text": [
            "[36, 144, 576, 900, 1764, 2304, 3600, 2304, 2916, 29, 3600, 31, 4356, 5184, 35, 37, 7056, 8100, 41, 43, 10404]\n"
          ]
        }
      ]
    },
    {
      "cell_type": "code",
      "source": [
        "# 국내 학생\n",
        "\n",
        "class Student:\n",
        "    def __init__(self, name, score, phone, email):\n",
        "        self.name = name\n",
        "        self.score = score\n",
        "        self.phone = phone\n",
        "        self.email = email\n",
        "\n",
        "    def __repr__(self):\n",
        "        return self.name\n",
        "\n",
        "# 외국학생이 들어왔습니다!? 1 / 10000 명이 들어왔어요.\n",
        "# 이 한 명을 위해 이 class를 바꾸는 것이 바람직할까요?\n",
        "# 그래서 이렇게 하고 싶은겁니다. Student에 있는 것을 그대로 사용하고\n",
        "# 국적만 추가해주는 다른 class를 만드는 것입니다.\n",
        "\n",
        "class ForeignStudent(Student):\n",
        "    def __init__(self, name, score, phone, email, country):\n",
        "        super().__init__(name, score, phone, email)\n",
        "        self.country = country\n",
        "\n",
        "# 그럼 이제 학생들 관리할 때 아래와 같이 관리할 수 있을 겁니다.\n",
        "\n",
        "data = [\n",
        "    Student(\"김민준\", 85, \"010-1234-5678\", \"minjun@example.kr\"),\n",
        "    Student(\"이서연\", 92, \"010-2345-6789\", \"seoyeon@example.kr\"),\n",
        "    Student(\"박지훈\", 78, \"010-3456-7890\", \"jihoon@example.kr\"),\n",
        "    Student(\"최수아\", 88, \"010-4567-8901\", \"sua@example.kr\"),\n",
        "    Student(\"정도현\", 95, \"010-5678-9012\", \"dohyun@example.kr\"),\n",
        "    Student(\"강하은\", 82, \"010-6789-0123\", \"haeun@example.kr\"),\n",
        "    Student(\"윤지우\", 90, \"010-7890-1234\", \"jiwoo@example.kr\"),\n",
        "    Student(\"임서진\", 79, \"010-8901-2345\", \"seojin@example.kr\"),\n",
        "    ForeignStudent(\"Emma Wilson\", 87, \"010-9012-3456\", \"emma@example.com\", \"USA\"),\n",
        "    Student(\"한유진\", 93, \"010-0123-4567\", \"yujin@example.kr\")\n",
        "]\n",
        "\n",
        "data\n",
        "\n",
        "# for i in data:\n",
        "#     print(i.score)"
      ],
      "metadata": {
        "colab": {
          "base_uri": "https://localhost:8080/"
        },
        "id": "oU5P32_Wm5B4",
        "outputId": "1af7f51c-0718-4e2e-bc80-413b646532e3"
      },
      "execution_count": 30,
      "outputs": [
        {
          "output_type": "execute_result",
          "data": {
            "text/plain": [
              "[김민준, 이서연, 박지훈, 최수아, 정도현, 강하은, 윤지우, 임서진, Emma Wilson, 한유진]"
            ]
          },
          "metadata": {},
          "execution_count": 30
        }
      ]
    },
    {
      "cell_type": "code",
      "source": [
        "class A:\n",
        "    def move(self):\n",
        "        print('움직여요!')\n",
        "\n",
        "class B(A):\n",
        "    pass\n",
        "\n",
        "class C(B):\n",
        "    pass\n",
        "\n",
        "a = A()\n",
        "b = B()\n",
        "c = C()\n",
        "\n",
        "a.move()\n",
        "b.move()\n",
        "c.move()"
      ],
      "metadata": {
        "id": "A_7ReebRm8Vy"
      },
      "execution_count": 32,
      "outputs": []
    },
    {
      "cell_type": "code",
      "source": [
        "class A:\n",
        "    num = 100\n",
        "    def move(self):\n",
        "        print('움직여요!')\n",
        "\n",
        "class B(A):\n",
        "    pass\n",
        "\n",
        "class C(B):\n",
        "    pass\n",
        "\n",
        "a = A()\n",
        "b = B()\n",
        "c = C()\n",
        "\n",
        "a.num\n",
        "b.num\n",
        "c.num"
      ],
      "metadata": {
        "id": "x6povtujnDWp"
      },
      "execution_count": null,
      "outputs": []
    },
    {
      "cell_type": "markdown",
      "source": [
        "# 메서드 오버라이딩"
      ],
      "metadata": {
        "id": "nlTNgRKGpXzD"
      }
    },
    {
      "cell_type": "code",
      "source": [
        "class A:\n",
        "    def move(self):\n",
        "        print('출발')\n",
        "\n",
        "\n",
        "class B(A):\n",
        "    def move(self):\n",
        "        print('덮어썼지롱!')\n",
        "\n",
        "\n",
        "b = B()\n",
        "b.move()"
      ],
      "metadata": {
        "colab": {
          "base_uri": "https://localhost:8080/"
        },
        "id": "dhIp_plZpZtt",
        "outputId": "31eb28cd-6a23-43a6-f2f9-6e2284f29251"
      },
      "execution_count": 34,
      "outputs": [
        {
          "output_type": "stream",
          "name": "stdout",
          "text": [
            "덮어썼지롱!\n"
          ]
        }
      ]
    },
    {
      "cell_type": "code",
      "source": [
        "# 절대 실행시키지 마세요.\n",
        "class int(int):\n",
        "    def __add__(self, a):\n",
        "        return self * a\n",
        "\n",
        "int('10') + int('10')"
      ],
      "metadata": {
        "colab": {
          "base_uri": "https://localhost:8080/"
        },
        "id": "A17jw9EPrPQV",
        "outputId": "be718fc6-5a08-451f-b253-735233004dfb"
      },
      "execution_count": 35,
      "outputs": [
        {
          "output_type": "execute_result",
          "data": {
            "text/plain": [
              "100"
            ]
          },
          "metadata": {},
          "execution_count": 35
        }
      ]
    },
    {
      "cell_type": "code",
      "source": [
        "class MyClass:\n",
        "    def __init__(self, c, d, e):\n",
        "        self.__c = c\n",
        "        self.d = d\n",
        "        self._ = e\n",
        "\n",
        "c = MyClass(30, 40, 50)\n",
        "c._\n",
        "# c.__c # error"
      ],
      "metadata": {
        "colab": {
          "base_uri": "https://localhost:8080/"
        },
        "id": "GDFpqP_zuEws",
        "outputId": "a431b97d-2640-4ca9-b693-9a0820cfdf35"
      },
      "execution_count": 38,
      "outputs": [
        {
          "output_type": "execute_result",
          "data": {
            "text/plain": [
              "50"
            ]
          },
          "metadata": {},
          "execution_count": 38
        }
      ]
    }
  ]
}